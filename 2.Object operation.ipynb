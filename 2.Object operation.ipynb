{
 "cells": [
  {
   "cell_type": "markdown",
   "metadata": {},
   "source": [
    "# Data type operation"
   ]
  },
  {
   "cell_type": "markdown",
   "metadata": {},
   "source": [
    "<div class=\"alert alert-block alert-info\" style=\"margin: 20px\">\n",
    " \n",
    " \n",
    "* **Operators** are used to perform operations on variables and values.\n",
    "* **Iterator** is an object that contains a countable number of values\n",
    "* **Generators** are used to create iterators, but with a different approach"
   ]
  },
  {
   "cell_type": "markdown",
   "metadata": {},
   "source": [
    "## Operators"
   ]
  },
  {
   "cell_type": "markdown",
   "metadata": {},
   "source": [
    "### Arithmetic Operators"
   ]
  },
  {
   "cell_type": "markdown",
   "metadata": {},
   "source": [
    "| Operator|\tName|\tExample|\n",
    "|:--------|:----|:---------|\n",
    "|+\t|Addition\t|x + y\t\n",
    "|-\t|Subtraction\t|x - y\t\n",
    "|*\t|Multiplication\t|x * y\t\n",
    "|/\t|Division\t|x / y\t\n",
    "|%\t|Modulus\t|x % y\t\n",
    "|**\t|Exponentiation\t|x ** y\t\n",
    "|//\t|Floor division\t|x // y"
   ]
  },
  {
   "cell_type": "code",
   "execution_count": 10,
   "metadata": {},
   "outputs": [
    {
     "name": "stdout",
     "output_type": "stream",
     "text": [
      "a+b =  9\n",
      "a-b =  -5\n",
      "a*b =  14\n",
      "b/a =  3.5\n",
      "b%a =  1\n",
      "b//a =  3\n",
      "b**a =  49\n"
     ]
    }
   ],
   "source": [
    "a, b=2,7\n",
    "print (\"a+b = \", a+b)             # addition/concatenation\n",
    "print (\"a-b = \", a-b )            # subtraction\n",
    "print (\"a*b = \", a*b )            # multiplication\n",
    "\n",
    "# division. Notice that a,b are integers \n",
    "print (\"b/a = \", b/a )   # in python3, b/a is a float \n",
    "\n",
    "# modulus, returns remainder\n",
    "print (\"b%a = \", b%a)    \n",
    "\n",
    "# floor division, return quotient which is floored\n",
    "print (\"b//a = \", b//a )     \n",
    "\n",
    "# exponent\n",
    "print (\"b**a = \", b**a )          "
   ]
  },
  {
   "cell_type": "markdown",
   "metadata": {},
   "source": [
    "### Assignment Operators"
   ]
  },
  {
   "cell_type": "markdown",
   "metadata": {},
   "source": [
    "| Operator|\tName|\tEquivalent|\n",
    "|:--------|:----|:---------|\n",
    "|=\t|x = 5\t|x = 5\t\n",
    "|+=\t|x += 3\t|x = x + 3\t\n",
    "|-=\t|x -= 3\t|x = x - 3\t\n",
    "|*=\t|x *= 3\t|x = x * 3\t\n",
    "|/=\t|x /= 3\t|x = x / 3\t\n",
    "|%=\t|x %= 3\t|x = x % 3\t\n",
    "| //=\t|x //= 3\t|x = x // 3\t\n",
    "|**=\t|x **= 3\t|x = x ** 3\t\n",
    "|&=\t|x &= 3\t|x = x & 3\t\n",
    "||=\t|x \\|= 3\t|x = x \\| 3|\t\n",
    "|^=\t|x ^= 3\t|x = x ^ 3\t\n",
    "|>>=\t|x >>= 3\t|x = x >> 3\t\n",
    "|<<=\t|x <<= 3\t|x = x << 3"
   ]
  },
  {
   "cell_type": "code",
   "execution_count": 13,
   "metadata": {},
   "outputs": [
    {
     "name": "stdout",
     "output_type": "stream",
     "text": [
      "after a+=b, a = 497\n",
      "after a*=b, a = 3479\n",
      "7\n"
     ]
    }
   ],
   "source": [
    "# consise assignment \n",
    "a+=b\n",
    "\n",
    "# a+=b is equivalent to a = a + b.\n",
    "print (\"after a+=b, a =\", a) \n",
    "a*=b\n",
    "\n",
    "# a*=b is equivalent to a= a*b. \n",
    "print (\"after a*=b, a =\",a) \n",
    "\n",
    "\n",
    "# | is or\n",
    "x = 5\n",
    "x |= 3 # x = x | 3 \n",
    "print(x)\n",
    "\n",
    "# 5 Bitwise is 0101，\n",
    "# 3 Bitwise is 0011\n",
    "# if there exist 1 then 1 \n",
    "# then 3 or 5 is 0111, it is 7\n",
    "\n",
    "\n",
    "\n",
    "# This concise assignment operator can be applied to other basic operators, check the tables above"
   ]
  },
  {
   "cell_type": "markdown",
   "metadata": {},
   "source": [
    "### Comparison Operators"
   ]
  },
  {
   "cell_type": "markdown",
   "metadata": {},
   "source": [
    "| Operator|\tName|\tEquivalent|\n",
    "|:--------|:----|:---------|\n",
    "|==\t|Equal\t|x == y\t\n",
    "|!=\t|Not equal\t|x != y\t\n",
    "|>\t|Greater than\t|x > y\t\n",
    "|<\t|Less than\t|x < y\t\n",
    "|>=\t|Greater than or equal to\t|x >= y\t\n",
    "|<=\t|Less than or equal to\t|x <= y"
   ]
  },
  {
   "cell_type": "code",
   "execution_count": 16,
   "metadata": {},
   "outputs": [
    {
     "name": "stdout",
     "output_type": "stream",
     "text": [
      "a==b ? False\n",
      "a!=b ? True\n",
      "a>b ? False\n",
      "a<b ? True\n",
      "a>=b ? False\n",
      "a<=b ? True\n"
     ]
    }
   ],
   "source": [
    "a, b = 2,7\n",
    "\n",
    "print (\"a==b ?\", a==b)          # equal\n",
    "print (\"a!=b ?\", a!=b )         # not Equal\n",
    "print (\"a>b ?\",a>b)             # greater than\n",
    "print (\"a<b ?\",a<b )            # less than\n",
    "print (\"a>=b ?\",a>=b)           # greater than or equal\n",
    "print (\"a<=b ?\",a<=b)           # less than or equal"
   ]
  },
  {
   "cell_type": "markdown",
   "metadata": {},
   "source": [
    "### Logical Operators"
   ]
  },
  {
   "cell_type": "markdown",
   "metadata": {},
   "source": [
    "| Operator|\tName|\tEquivalent|\n",
    "|:--------|:----|:---------|\n",
    "|and \t|Returns True if both statements are true\t|x < 5 and  x < 10\t\n",
    "|or\t|Returns True if one of the statements is true\t|x < 5 or x < 4\t\n",
    "|not\t|Reverse the result, returns False if the result is true\t|not(x < 5 and x < 10)\n"
   ]
  },
  {
   "cell_type": "code",
   "execution_count": 18,
   "metadata": {},
   "outputs": [
    {
     "name": "stdout",
     "output_type": "stream",
     "text": [
      "(a>b) and (a in c)? ——————> False\n",
      "(a>b) or (a in c)? ——————> True\n",
      "not (a>b)?  ——————> True\n"
     ]
    }
   ],
   "source": [
    "a, b, c=2,7, [1,2,3]\n",
    "# both conditions are true\n",
    "print (\"(a>b) and (a in c)? ——————>\",(a>b) and (a in c))     \n",
    "# either condition is true\n",
    "print (\"(a>b) or (a in c)? ——————>\",(a>b) or (a in c))\n",
    "# reverse the condition\n",
    "print (\"not (a>b)?  ——————>\",not (a>b) )                    "
   ]
  },
  {
   "cell_type": "markdown",
   "metadata": {},
   "source": [
    "### Membership Operators\n"
   ]
  },
  {
   "cell_type": "markdown",
   "metadata": {},
   "source": [
    "| Operator|\tName|\tEquivalent|\n",
    "|:--------|:----|:---------|\n",
    "|in \t|Returns True if a sequence with the specified value is present in the object\t|x in y\t\n",
    "|not in\t|Returns True if a sequence with the specified value is not present in the object\t|x not in y"
   ]
  },
  {
   "cell_type": "code",
   "execution_count": 19,
   "metadata": {},
   "outputs": [
    {
     "name": "stdout",
     "output_type": "stream",
     "text": [
      "True\n"
     ]
    }
   ],
   "source": [
    "x = [\"apple\", \"banana\"]\n",
    "\n",
    "print(\"banana\" in x)"
   ]
  },
  {
   "cell_type": "markdown",
   "metadata": {},
   "source": [
    "### Bitwise Operators"
   ]
  },
  {
   "cell_type": "markdown",
   "metadata": {},
   "source": [
    "|Operator\t|Name\t|Description|\n",
    "|:----------|:------|:---------|\n",
    "|& \t|AND\t|Sets each bit to 1 if both bits are 1|\n",
    "|\\|\t|OR\t|Sets each bit to 1 if one of two bits is 1|\n",
    "|^\t|XOR\t|Sets each bit to 1 if only one of two bits is 1\n",
    "|~ \t|NOT\t|Inverts all the bits\n",
    "|<<\t|Zero fill left shift\t|Shift left by pushing zeros in from the right and let the leftmost bits fall off\n",
    "|>>\t|Signed right shift\t|Shift right by pushing copies of the leftmost bit in from the left, and let the rightmost bits fall off"
   ]
  },
  {
   "cell_type": "code",
   "execution_count": 24,
   "metadata": {},
   "outputs": [
    {
     "name": "stdout",
     "output_type": "stream",
     "text": [
      "1 - c is： 12\n",
      "2 - c is： 61\n",
      "3 - c is： 49\n",
      "4 - c is： -61\n",
      "5 - c is： 240\n",
      "6 - c is： 15\n"
     ]
    }
   ],
   "source": [
    "a = 60            # 60 = 0011 1100 \n",
    "b = 13            # 13 = 0000 1101 \n",
    "c = 0\n",
    " \n",
    "c = a & b;        # 12 = 0000 1100\n",
    "print (\"1 - c is：\", c)\n",
    " \n",
    "c = a | b;        # 61 = 0011 1101 \n",
    "print (\"2 - c is：\", c)\n",
    " \n",
    "c = a ^ b;        # 49 = 0011 0001\n",
    "print (\"3 - c is：\", c)\n",
    " \n",
    "c = ~a;           # -61 = 1100 0011\n",
    "print (\"4 - c is：\", c)\n",
    " \n",
    "c = a << 2;       # 240 = 1111 0000\n",
    "print (\"5 - c is：\", c)\n",
    " \n",
    "c = a >> 2;       # 15 = 0000 1111\n",
    "print (\"6 - c is：\", c)"
   ]
  },
  {
   "cell_type": "markdown",
   "metadata": {},
   "source": [
    "#### <font color = blue> Operators Priority"
   ]
  },
  {
   "cell_type": "markdown",
   "metadata": {},
   "source": [
    "|Operator\t|\n",
    "|:----------|\n",
    "|**\t|\n",
    "|~ + -|\n",
    "|* / % //\t\n",
    "|+ -\t\n",
    "|>> <<\t\n",
    "|&\t\n",
    "|^ \\|\t\n",
    "|<= < > >=\t\n",
    "|<> == !=\t\n",
    "|= %= /= //= -= += \\*=\\**=\t\n",
    "|is is not\t\n",
    "|in not in\t\n",
    "|not and or\t"
   ]
  },
  {
   "cell_type": "markdown",
   "metadata": {},
   "source": [
    "# Iterator / Generator\n"
   ]
  },
  {
   "cell_type": "markdown",
   "metadata": {},
   "source": [
    "<div class=\"alert alert-block alert-info\" style=\"margin: 20px\">\n",
    "    \n",
    "*  An iterator is simply an object that can be iterated upon. An iterator will return data, one element at a time.\n",
    "*  An iterator must implement two special methods, <font color=blue> iter</font> and  <font color=blue>next</font>.\n",
    "* An object is called **iterable** if we can get an iterator from it. *Iterable objects include lists, tuples, strings, dictionaries* etc. The <font color=blue>__iter__()</font> function returns an iterator from an iterable object.\n",
    "* An iterator object can be used **only once**. When we reach the end and there is no more data to be returned, it will raise the error *StopIteration*.\n",
    "\n",
    "\n",
    "* **A generator is a function that behaves like an iterator**"
   ]
  },
  {
   "cell_type": "markdown",
   "metadata": {},
   "source": [
    "### Iterator"
   ]
  },
  {
   "cell_type": "code",
   "execution_count": 25,
   "metadata": {},
   "outputs": [
    {
     "name": "stdout",
     "output_type": "stream",
     "text": [
      "<list_iterator object at 0x1096d59e8>\n",
      "[4, 7, 0, 3]\n"
     ]
    }
   ],
   "source": [
    "# define a list\n",
    "my_list = [4, 7, 0, 3]\n",
    "\n",
    "# get an iterator using iter()\n",
    "my_iter = iter(my_list)\n",
    "print(my_iter)\n",
    "\n",
    "# similarly, you can convert the iterator object back to a list\n",
    "print(list(my_iter))"
   ]
  },
  {
   "cell_type": "markdown",
   "metadata": {},
   "source": [
    "**Using next to make it iterable**"
   ]
  },
  {
   "cell_type": "code",
   "execution_count": 26,
   "metadata": {},
   "outputs": [
    {
     "name": "stdout",
     "output_type": "stream",
     "text": [
      "4\n",
      "7\n",
      "0\n",
      "3\n"
     ]
    },
    {
     "ename": "StopIteration",
     "evalue": "",
     "output_type": "error",
     "traceback": [
      "\u001b[0;31m---------------------------------------------------------------------------\u001b[0m",
      "\u001b[0;31mStopIteration\u001b[0m                             Traceback (most recent call last)",
      "\u001b[0;32m<ipython-input-26-d6e4ad85c847>\u001b[0m in \u001b[0;36m<module>\u001b[0;34m\u001b[0m\n\u001b[1;32m     13\u001b[0m \u001b[0;34m\u001b[0m\u001b[0m\n\u001b[1;32m     14\u001b[0m \u001b[0;31m# raise StopIteration error if call next again since the for loop has reached the end of the iterator object\u001b[0m\u001b[0;34m\u001b[0m\u001b[0;34m\u001b[0m\u001b[0;34m\u001b[0m\u001b[0m\n\u001b[0;32m---> 15\u001b[0;31m \u001b[0mprint\u001b[0m\u001b[0;34m(\u001b[0m\u001b[0mnext\u001b[0m\u001b[0;34m(\u001b[0m\u001b[0mmy_iter\u001b[0m\u001b[0;34m)\u001b[0m\u001b[0;34m)\u001b[0m\u001b[0;34m\u001b[0m\u001b[0;34m\u001b[0m\u001b[0m\n\u001b[0m",
      "\u001b[0;31mStopIteration\u001b[0m: "
     ]
    }
   ],
   "source": [
    "## iterate through an iterable using next() \n",
    "my_iter = iter(my_list)\n",
    "\n",
    "#prints 4\n",
    "print(next(my_iter))\n",
    "\n",
    "#prints 7\n",
    "print(next(my_iter))\n",
    "\n",
    "# loop through all remaining elements\n",
    "for item in my_iter:\n",
    "    print (item)\n",
    "    \n",
    "# raise StopIteration error if call next again since the for loop has reached the end of the iterator object\n",
    "print(next(my_iter))\n"
   ]
  },
  {
   "cell_type": "markdown",
   "metadata": {},
   "source": [
    "### Generator"
   ]
  },
  {
   "cell_type": "markdown",
   "metadata": {},
   "source": [
    "* Generator function contains one or more `yield` statements.\n",
    "* When called, it returns an `object (iterator)` but does not start execution immediately.\n",
    "* Methods like `__iter__()` and `__next__()` are implemented automatically. So we can iterate through the items using `next()`.\n",
    "* Once the function yields, the function is paused and the control is transferred to the caller.\n",
    "* Local variables and their states are remembered between successive calls.\n",
    "* Finally, when the function terminates, **StopIteration** is raised automatically on further calls."
   ]
  },
  {
   "cell_type": "code",
   "execution_count": 42,
   "metadata": {},
   "outputs": [],
   "source": [
    "# A simple generator function\n",
    "def my_gen(lst):\n",
    "    for i in range(len(lst)):\n",
    "    # Generator function contains yield statements\n",
    "      yield lst[i]"
   ]
  },
  {
   "cell_type": "code",
   "execution_count": 43,
   "metadata": {},
   "outputs": [],
   "source": [
    "a = my_gen(my_list)"
   ]
  },
  {
   "cell_type": "code",
   "execution_count": 48,
   "metadata": {},
   "outputs": [
    {
     "ename": "StopIteration",
     "evalue": "",
     "output_type": "error",
     "traceback": [
      "\u001b[0;31m---------------------------------------------------------------------------\u001b[0m",
      "\u001b[0;31mStopIteration\u001b[0m                             Traceback (most recent call last)",
      "\u001b[0;32m<ipython-input-48-15841f3f11d4>\u001b[0m in \u001b[0;36m<module>\u001b[0;34m\u001b[0m\n\u001b[0;32m----> 1\u001b[0;31m \u001b[0mnext\u001b[0m\u001b[0;34m(\u001b[0m\u001b[0ma\u001b[0m\u001b[0;34m)\u001b[0m\u001b[0;34m\u001b[0m\u001b[0;34m\u001b[0m\u001b[0m\n\u001b[0m",
      "\u001b[0;31mStopIteration\u001b[0m: "
     ]
    }
   ],
   "source": [
    "next(a)"
   ]
  },
  {
   "cell_type": "markdown",
   "metadata": {},
   "source": [
    "# Advance operations"
   ]
  },
  {
   "cell_type": "markdown",
   "metadata": {},
   "source": [
    "### subset (<=) / superset (>=)"
   ]
  },
  {
   "cell_type": "markdown",
   "metadata": {},
   "source": [
    "![](https://raw.githubusercontent.com/devin19940107/My-Python-Notebook/master/supporting%20files/Images/subset.png)"
   ]
  },
  {
   "cell_type": "code",
   "execution_count": 8,
   "metadata": {},
   "outputs": [
    {
     "data": {
      "text/plain": [
       "True"
      ]
     },
     "execution_count": 8,
     "metadata": {},
     "output_type": "execute_result"
    }
   ],
   "source": [
    "# list\n",
    "\n",
    "a = [1,2,3,4]\n",
    "b = [1,2,3,4,5]\n",
    "\n",
    "a <= b\n",
    "# a.issubset(b)# error"
   ]
  },
  {
   "cell_type": "code",
   "execution_count": 11,
   "metadata": {},
   "outputs": [
    {
     "name": "stdout",
     "output_type": "stream",
     "text": [
      "True\n",
      "True\n"
     ]
    }
   ],
   "source": [
    "# set\n",
    "a = {1,2,3,4}\n",
    "b = {1,2,3,4,5}\n",
    "\n",
    "print(a <= b)\n",
    "print(a.issubset(b)) # only works in set data type"
   ]
  },
  {
   "cell_type": "code",
   "execution_count": 21,
   "metadata": {},
   "outputs": [
    {
     "name": "stdout",
     "output_type": "stream",
     "text": [
      "True\n",
      "True\n"
     ]
    }
   ],
   "source": [
    "# dictionary\n",
    "a = {'1':1,'2':2,'3':3}\n",
    "b = {'1':1,'2':2,'3':3,'4':4}\n",
    "# print(a <= b) # '<=' not supported between instances of 'dict' and 'dict'\n",
    "print(a.items() <= b.items())\n",
    "print(a.keys()<= b.keys())"
   ]
  },
  {
   "cell_type": "code",
   "execution_count": 23,
   "metadata": {},
   "outputs": [
    {
     "name": "stdout",
     "output_type": "stream",
     "text": [
      "True\n"
     ]
    }
   ],
   "source": [
    "# tuple\n",
    "a= (1,2,3,4)\n",
    "b=(1,2,3,4,5)\n",
    "print(a <= b)\n"
   ]
  },
  {
   "cell_type": "code",
   "execution_count": 26,
   "metadata": {},
   "outputs": [
    {
     "name": "stdout",
     "output_type": "stream",
     "text": [
      "True\n"
     ]
    }
   ],
   "source": [
    "# string\n",
    "a = '12345'\n",
    "b = '123456'\n",
    "print(a <= b)\n"
   ]
  },
  {
   "cell_type": "code",
   "execution_count": 27,
   "metadata": {},
   "outputs": [
    {
     "name": "stdout",
     "output_type": "stream",
     "text": [
      "True\n"
     ]
    }
   ],
   "source": [
    "# int\n",
    "a = 12345\n",
    "b = 123456\n",
    "print(a <= b)"
   ]
  },
  {
   "cell_type": "code",
   "execution_count": 33,
   "metadata": {},
   "outputs": [
    {
     "name": "stdout",
     "output_type": "stream",
     "text": [
      "True\n"
     ]
    }
   ],
   "source": [
    "# bool\n",
    "a = False # 0\n",
    "b = True  # 1\n",
    "print(a <= b)"
   ]
  },
  {
   "cell_type": "code",
   "execution_count": 34,
   "metadata": {},
   "outputs": [
    {
     "name": "stdout",
     "output_type": "stream",
     "text": [
      "True\n"
     ]
    }
   ],
   "source": [
    "# float\n",
    "\n",
    "a = 123.45\n",
    "b = 123.456\n",
    "print(a <= b)"
   ]
  },
  {
   "cell_type": "markdown",
   "metadata": {},
   "source": [
    "### Union\n",
    "\n",
    "- not appliacble type\n",
    "    * list\n",
    "    * string\n",
    "    * float"
   ]
  },
  {
   "cell_type": "markdown",
   "metadata": {},
   "source": [
    "![](https://raw.githubusercontent.com/devin19940107/My-Python-Notebook/master/supporting%20files/Images/union.jpg)"
   ]
  },
  {
   "cell_type": "code",
   "execution_count": 39,
   "metadata": {},
   "outputs": [
    {
     "name": "stdout",
     "output_type": "stream",
     "text": [
      "{1, 2, 3, 4, 5}\n",
      "{1, 2, 3, 4, 5}\n"
     ]
    }
   ],
   "source": [
    "# set\n",
    "a = {1,2,3,4}\n",
    "b = {1,2,3,4,5}\n",
    "print(a | b)\n",
    "print(a.union(b))"
   ]
  },
  {
   "cell_type": "code",
   "execution_count": 48,
   "metadata": {},
   "outputs": [
    {
     "name": "stdout",
     "output_type": "stream",
     "text": [
      "{('3', 3), ('2', 2), ('1', 1), ('4', 4)}\n",
      "{'4', '1', '2', '3'}\n"
     ]
    }
   ],
   "source": [
    "# dictionary\n",
    "a = {'1':1,'2':2,'3':3}\n",
    "b = {'1':1,'2':2,'3':3,'4':4}\n",
    "print(a.items() | b.items())\n",
    "print(a.keys() | b.keys())"
   ]
  },
  {
   "cell_type": "code",
   "execution_count": 45,
   "metadata": {},
   "outputs": [
    {
     "name": "stdout",
     "output_type": "stream",
     "text": [
      "15\n"
     ]
    }
   ],
   "source": [
    "# int\n",
    "a = 11\n",
    "b = 13\n",
    "print(a | b)\n",
    "# check Bitwise Operators"
   ]
  },
  {
   "cell_type": "code",
   "execution_count": 55,
   "metadata": {},
   "outputs": [
    {
     "name": "stdout",
     "output_type": "stream",
     "text": [
      "True\n"
     ]
    }
   ],
   "source": [
    "# bool\n",
    "a = False # 0\n",
    "b = True  # 1\n",
    "print(a | b)"
   ]
  },
  {
   "cell_type": "markdown",
   "metadata": {},
   "source": [
    "### Intersection\n",
    "\n",
    "- not appliacble type\n",
    "    * list\n",
    "    * string\n",
    "    * float"
   ]
  },
  {
   "cell_type": "markdown",
   "metadata": {},
   "source": [
    "![](https://raw.githubusercontent.com/devin19940107/My-Python-Notebook/master/supporting%20files/Images/Intersection.jpg)"
   ]
  },
  {
   "cell_type": "code",
   "execution_count": 60,
   "metadata": {},
   "outputs": [
    {
     "name": "stdout",
     "output_type": "stream",
     "text": [
      "{1, 2, 3, 4}\n",
      "{1, 2, 3, 4}\n"
     ]
    }
   ],
   "source": [
    "# set\n",
    "a = {1,2,3,4}\n",
    "b = {1,2,3,4,5}\n",
    "print(a & b)\n",
    "print(a.intersection(b))"
   ]
  },
  {
   "cell_type": "code",
   "execution_count": 62,
   "metadata": {},
   "outputs": [
    {
     "name": "stdout",
     "output_type": "stream",
     "text": [
      "{('3', 3), ('2', 2), ('1', 1)}\n",
      "{'1', '2', '3'}\n"
     ]
    }
   ],
   "source": [
    "# dictionary\n",
    "a = {'1':1,'2':2,'3':3}\n",
    "b = {'1':1,'2':2,'3':3,'4':4}\n",
    "print(a.items() & b.items())\n",
    "print(a.keys() & b.keys())\n"
   ]
  },
  {
   "cell_type": "code",
   "execution_count": 63,
   "metadata": {},
   "outputs": [
    {
     "name": "stdout",
     "output_type": "stream",
     "text": [
      "9\n"
     ]
    }
   ],
   "source": [
    "# int\n",
    "a = 11\n",
    "b = 13\n",
    "# check Bitwise Operators\n",
    "print(a & b)"
   ]
  },
  {
   "cell_type": "code",
   "execution_count": 64,
   "metadata": {},
   "outputs": [
    {
     "name": "stdout",
     "output_type": "stream",
     "text": [
      "False\n"
     ]
    }
   ],
   "source": [
    "# bool\n",
    "a = False # 0\n",
    "b = True  # 1\n",
    "print(a & b)"
   ]
  },
  {
   "cell_type": "markdown",
   "metadata": {},
   "source": [
    "### Difference\n",
    "- not appliacble type\n",
    "    * list\n",
    "    * string"
   ]
  },
  {
   "cell_type": "markdown",
   "metadata": {},
   "source": [
    "![](https://raw.githubusercontent.com/devin19940107/My-Python-Notebook/master/supporting%20files/Images/difference.jpg)"
   ]
  },
  {
   "cell_type": "code",
   "execution_count": 70,
   "metadata": {},
   "outputs": [
    {
     "ename": "TypeError",
     "evalue": "unsupported operand type(s) for -: 'list' and 'list'",
     "output_type": "error",
     "traceback": [
      "\u001b[0;31m---------------------------------------------------------------------------\u001b[0m",
      "\u001b[0;31mTypeError\u001b[0m                                 Traceback (most recent call last)",
      "\u001b[0;32m<ipython-input-70-444284d92e20>\u001b[0m in \u001b[0;36m<module>\u001b[0;34m\u001b[0m\n\u001b[1;32m      5\u001b[0m \u001b[0;34m\u001b[0m\u001b[0m\n\u001b[1;32m      6\u001b[0m \u001b[0;34m\u001b[0m\u001b[0m\n\u001b[0;32m----> 7\u001b[0;31m \u001b[0ma\u001b[0m \u001b[0;34m-\u001b[0m \u001b[0mb\u001b[0m \u001b[0;31m# unsupported operand\u001b[0m\u001b[0;34m\u001b[0m\u001b[0;34m\u001b[0m\u001b[0m\n\u001b[0m\u001b[1;32m      8\u001b[0m \u001b[0;31m# but you can use a+b it returns:\u001b[0m\u001b[0;34m\u001b[0m\u001b[0;34m\u001b[0m\u001b[0;34m\u001b[0m\u001b[0m\n\u001b[1;32m      9\u001b[0m \u001b[0;31m# [1, 2, 3, 4, 1, 2, 3, 4, 5]\u001b[0m\u001b[0;34m\u001b[0m\u001b[0;34m\u001b[0m\u001b[0;34m\u001b[0m\u001b[0m\n",
      "\u001b[0;31mTypeError\u001b[0m: unsupported operand type(s) for -: 'list' and 'list'"
     ]
    }
   ],
   "source": [
    "# list\n",
    "\n",
    "a = [1,2,3,4]\n",
    "b = [1,2,3,4,5]\n",
    "\n",
    "# str\n",
    "a = '12345'\n",
    "b = '123456'\n",
    "\n",
    "print(a <= b)\n",
    "a - b # unsupported operand\n",
    "# but you can use a+b it returns:\n",
    "# [1, 2, 3, 4, 1, 2, 3, 4, 5]\n",
    "# 12345123456"
   ]
  },
  {
   "cell_type": "code",
   "execution_count": 75,
   "metadata": {},
   "outputs": [
    {
     "name": "stdout",
     "output_type": "stream",
     "text": [
      "-0.0005999999999986017\n"
     ]
    }
   ],
   "source": [
    "# float\n",
    "a = 12.345\n",
    "b = 12.3456\n",
    "print(a - b)"
   ]
  },
  {
   "cell_type": "code",
   "execution_count": 76,
   "metadata": {},
   "outputs": [
    {
     "name": "stdout",
     "output_type": "stream",
     "text": [
      "-2\n"
     ]
    }
   ],
   "source": [
    "# int\n",
    "a = 11\n",
    "b = 13\n",
    "# check Bitwise Operators\n",
    "print(a - b)"
   ]
  },
  {
   "cell_type": "code",
   "execution_count": 78,
   "metadata": {},
   "outputs": [
    {
     "name": "stdout",
     "output_type": "stream",
     "text": [
      "{6}\n",
      "{6}\n"
     ]
    }
   ],
   "source": [
    "# set\n",
    "a = {1,2,3,4,5,6}\n",
    "b = {1,2,3,4,5}\n",
    "print(a - b)\n",
    "print(a.difference(b))"
   ]
  },
  {
   "cell_type": "code",
   "execution_count": 85,
   "metadata": {},
   "outputs": [
    {
     "name": "stdout",
     "output_type": "stream",
     "text": [
      "{('4', 4)}\n",
      "{'4'}\n"
     ]
    }
   ],
   "source": [
    "# dictionary\n",
    "\n",
    "a = {'1':1,'2':2,'3':3,'4':4}\n",
    "b = {'1':1,'2':2,'3':3}\n",
    "\n",
    "print(a.items() - b.items())\n",
    "\n",
    "print(a.keys() - b.keys())"
   ]
  },
  {
   "cell_type": "code",
   "execution_count": 86,
   "metadata": {},
   "outputs": [
    {
     "name": "stdout",
     "output_type": "stream",
     "text": [
      "-1\n"
     ]
    }
   ],
   "source": [
    "# bool\n",
    "a = False # 0\n",
    "b = True  # 1\n",
    "print(a - b)"
   ]
  },
  {
   "cell_type": "markdown",
   "metadata": {},
   "source": [
    "### symmetric difference\n",
    "- not appliacble type\n",
    "    * list\n",
    "    * string\n",
    "    * float"
   ]
  },
  {
   "cell_type": "markdown",
   "metadata": {},
   "source": [
    "![](https://raw.githubusercontent.com/devin19940107/My-Python-Notebook/master/supporting%20files/Images/symmetric-difference.jpg)"
   ]
  },
  {
   "cell_type": "code",
   "execution_count": 90,
   "metadata": {},
   "outputs": [
    {
     "name": "stdout",
     "output_type": "stream",
     "text": [
      "6\n"
     ]
    }
   ],
   "source": [
    "# int\n",
    "a = 11\n",
    "b = 13\n",
    "# check Bitwise Operators\n",
    "print(a ^ b) # Sets each bit to 1 if only one of two bits is 1"
   ]
  },
  {
   "cell_type": "code",
   "execution_count": 92,
   "metadata": {},
   "outputs": [
    {
     "name": "stdout",
     "output_type": "stream",
     "text": [
      "{6, 7}\n",
      "{6, 7}\n"
     ]
    }
   ],
   "source": [
    "# set\n",
    "a = {1,2,3,4,5,6}\n",
    "b = {1,2,3,4,5,7}\n",
    "print(a ^ b)\n",
    "print(a.symmetric_difference(b))"
   ]
  },
  {
   "cell_type": "code",
   "execution_count": 93,
   "metadata": {},
   "outputs": [
    {
     "name": "stdout",
     "output_type": "stream",
     "text": [
      "{('4', 4)}\n"
     ]
    }
   ],
   "source": [
    "# dictionary\n",
    "\n",
    "a = {'1':1,'2':2,'3':3,'4':4}\n",
    "b = {'1':1,'2':2,'3':3}\n",
    "\n",
    "print(a.items() ^b.items())\n"
   ]
  },
  {
   "cell_type": "code",
   "execution_count": 94,
   "metadata": {},
   "outputs": [
    {
     "name": "stdout",
     "output_type": "stream",
     "text": [
      "True\n"
     ]
    }
   ],
   "source": [
    "# bool\n",
    "a = False # 0\n",
    "b = True  # 1\n",
    "print(a ^ b)"
   ]
  },
  {
   "cell_type": "markdown",
   "metadata": {},
   "source": [
    "### Sepcial discuss: \n",
    " bool value can be oeprated by any operator, but, why???\n",
    " \n",
    " I think it just a int with range(0,2)"
   ]
  },
  {
   "cell_type": "code",
   "execution_count": 105,
   "metadata": {},
   "outputs": [
    {
     "name": "stdout",
     "output_type": "stream",
     "text": [
      "bool opeartion： True\n",
      "1\n"
     ]
    }
   ],
   "source": [
    "a = False # 0\n",
    "b = True  # 1\n",
    "print('bool opeartion：',a ^ b)\n",
    "\n",
    "a = 0\n",
    "b = 1\n",
    "print(a ^ b)"
   ]
  },
  {
   "cell_type": "code",
   "execution_count": 104,
   "metadata": {},
   "outputs": [
    {
     "name": "stdout",
     "output_type": "stream",
     "text": [
      "bool operation： -1\n",
      "-1\n"
     ]
    }
   ],
   "source": [
    "# bool\n",
    "a = False # 0\n",
    "b = True  # 1\n",
    "print('bool operation：',a - b)\n",
    "\n",
    "a = 0\n",
    "b = 1\n",
    "print(a - b)"
   ]
  },
  {
   "cell_type": "code",
   "execution_count": 108,
   "metadata": {},
   "outputs": [
    {
     "name": "stdout",
     "output_type": "stream",
     "text": [
      "bool operation： False\n",
      "0\n"
     ]
    }
   ],
   "source": [
    "# bool\n",
    "a = False # 0\n",
    "b = True  # 1\n",
    "print('bool operation：',a & b)\n",
    "\n",
    "\n",
    "a = 0\n",
    "b = 1\n",
    "print(a & b)"
   ]
  },
  {
   "cell_type": "code",
   "execution_count": 110,
   "metadata": {},
   "outputs": [
    {
     "name": "stdout",
     "output_type": "stream",
     "text": [
      "bool operation： True\n",
      "True\n"
     ]
    }
   ],
   "source": [
    "# bool\n",
    "a = False # 0\n",
    "b = True  # 1\n",
    "print('bool operation：',a <= b)\n",
    "\n",
    "\n",
    "a = 0\n",
    "b = 1\n",
    "print(a <= b)"
   ]
  },
  {
   "cell_type": "code",
   "execution_count": 111,
   "metadata": {},
   "outputs": [
    {
     "name": "stdout",
     "output_type": "stream",
     "text": [
      "bool operation： True\n",
      "True\n"
     ]
    }
   ],
   "source": [
    "# bool\n",
    "a = False # 0\n",
    "b = True  # 1\n",
    "a = False # 0\n",
    "b = True  # 1\n",
    "print('bool operation：',a | b)\n",
    "\n",
    "\n",
    "print(a | b)"
   ]
  },
  {
   "cell_type": "code",
   "execution_count": 1,
   "metadata": {},
   "outputs": [
    {
     "name": "stdout",
     "output_type": "stream",
     "text": [
      "codelines 112\n"
     ]
    }
   ],
   "source": [
    "print('codelines 112')"
   ]
  },
  {
   "cell_type": "code",
   "execution_count": null,
   "metadata": {},
   "outputs": [],
   "source": []
  }
 ],
 "metadata": {
  "kernelspec": {
   "display_name": "Python 3",
   "language": "python",
   "name": "python3"
  },
  "language_info": {
   "codemirror_mode": {
    "name": "ipython",
    "version": 3
   },
   "file_extension": ".py",
   "mimetype": "text/x-python",
   "name": "python",
   "nbconvert_exporter": "python",
   "pygments_lexer": "ipython3",
   "version": "3.7.1"
  }
 },
 "nbformat": 4,
 "nbformat_minor": 2
}
