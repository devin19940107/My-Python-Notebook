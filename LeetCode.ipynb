{
 "cells": [
  {
   "cell_type": "code",
   "execution_count": 3,
   "metadata": {},
   "outputs": [],
   "source": [
    "from IPython.core.interactiveshell import InteractiveShell\n",
    "InteractiveShell.ast_node_interactivity = \"all\"\n",
    "\n",
    "import time"
   ]
  },
  {
   "cell_type": "markdown",
   "metadata": {},
   "source": [
    "# Two Sum"
   ]
  },
  {
   "cell_type": "code",
   "execution_count": 21,
   "metadata": {},
   "outputs": [],
   "source": [
    "# Question\n",
    "# Check full description of question from LeetCode\n",
    "nums = [2, 7, 11, 15]\n",
    "target = 9 "
   ]
  },
  {
   "cell_type": "code",
   "execution_count": null,
   "metadata": {},
   "outputs": [],
   "source": [
    "# Brute Force ----- O(N^2)\n",
    "\n",
    "for i in range(len(nums)):\n",
    "    for j in range(i+1,len(nums)):\n",
    "        if nums[i]+nums[j] == target:\n",
    "            print([i,j])"
   ]
  },
  {
   "cell_type": "code",
   "execution_count": 23,
   "metadata": {},
   "outputs": [
    {
     "name": "stdout",
     "output_type": "stream",
     "text": [
      "[0, 1]\n"
     ]
    }
   ],
   "source": [
    "# Hash Map ----- O(N)\n",
    "dct = {}\n",
    "for i, n in enumerate(nums):\n",
    "    if target - n in dct:\n",
    "        print([dct[target - n], i]) \n",
    "    dct[n] = i\n",
    "    "
   ]
  },
  {
   "cell_type": "markdown",
   "metadata": {},
   "source": [
    "# Merge Two Sorted Lists"
   ]
  },
  {
   "cell_type": "code",
   "execution_count": 55,
   "metadata": {},
   "outputs": [],
   "source": [
    "#Definition for singly-linked list.\n",
    "class ListNode:\n",
    "    def __init__(self, val=0, next=None):\n",
    "        self.val = val\n",
    "        self.next = next"
   ]
  },
  {
   "cell_type": "code",
   "execution_count": 56,
   "metadata": {},
   "outputs": [],
   "source": [
    "L1 = [1,2,4]\n",
    "l1 = ListNode(L1)\n",
    "L2 = [1,3,4]\n",
    "l2 = ListNode(L2)"
   ]
  },
  {
   "cell_type": "code",
   "execution_count": 57,
   "metadata": {},
   "outputs": [],
   "source": [
    "def mergeTwoLists(l1: ListNode, l2: ListNode) -> ListNode:\n",
    "    curr = dummy = ListNode(0)\n",
    "\n",
    "    while l1 and l2:\n",
    "        if l1.val < l2.val:\n",
    "            curr.next = l1\n",
    "            l1 = l1.next\n",
    "        else:\n",
    "            curr.next = l2\n",
    "            l2 = l2.next\n",
    "        curr = curr.next\n",
    "            \n",
    "    curr.next = l1 or l2\n",
    "    return(dummy.next)"
   ]
  },
  {
   "cell_type": "code",
   "execution_count": 58,
   "metadata": {},
   "outputs": [
    {
     "data": {
      "text/plain": [
       "<__main__.ListNode at 0x7fd8aa15bcf8>"
      ]
     },
     "execution_count": 58,
     "metadata": {},
     "output_type": "execute_result"
    }
   ],
   "source": [
    "mergeTwoLists(l1,l2)"
   ]
  },
  {
   "cell_type": "markdown",
   "metadata": {},
   "source": [
    "# Selection Sort"
   ]
  },
  {
   "cell_type": "code",
   "execution_count": 25,
   "metadata": {},
   "outputs": [
    {
     "data": {
      "text/plain": [
       "[55555, 333, 22, 1, 4444, 88888888, 7777777, 666666]"
      ]
     },
     "execution_count": 25,
     "metadata": {},
     "output_type": "execute_result"
    }
   ],
   "source": [
    "a = [55555,333,22,1,4444,88888888,7777777,666666]\n",
    "a"
   ]
  },
  {
   "cell_type": "code",
   "execution_count": 26,
   "metadata": {},
   "outputs": [
    {
     "name": "stdout",
     "output_type": "stream",
     "text": [
      "time used 0.000236 ms\n"
     ]
    },
    {
     "data": {
      "text/plain": [
       "[1, 22, 333, 4444, 55555, 666666, 7777777, 88888888]"
      ]
     },
     "execution_count": 26,
     "metadata": {},
     "output_type": "execute_result"
    }
   ],
   "source": [
    "start= time.time()\n",
    "for i in range(len(a)):\n",
    "    for j in range(i,len(a)):\n",
    "        if a[j] < a[i]:\n",
    "            a[j],a[i] = a[i],a[j]\n",
    "end = time.time()\n",
    "\n",
    "print('time used %f ms'%(end-start))\n",
    "a"
   ]
  },
  {
   "cell_type": "markdown",
   "metadata": {},
   "source": [
    "# Bubble Sort"
   ]
  },
  {
   "cell_type": "code",
   "execution_count": 12,
   "metadata": {},
   "outputs": [
    {
     "data": {
      "text/plain": [
       "[55555, 333, 22, 1, 4444, 88888888, 7777777, 666666]"
      ]
     },
     "execution_count": 12,
     "metadata": {},
     "output_type": "execute_result"
    }
   ],
   "source": [
    "a = [55555,333,22,1,4444,88888888,7777777,666666]\n",
    "\n",
    "a"
   ]
  },
  {
   "cell_type": "code",
   "execution_count": 13,
   "metadata": {},
   "outputs": [
    {
     "data": {
      "text/plain": [
       "[333, 22, 1, 4444, 55555, 7777777, 666666, 88888888]"
      ]
     },
     "execution_count": 13,
     "metadata": {},
     "output_type": "execute_result"
    },
    {
     "data": {
      "text/plain": [
       "[22, 1, 333, 4444, 55555, 666666, 7777777, 88888888]"
      ]
     },
     "execution_count": 13,
     "metadata": {},
     "output_type": "execute_result"
    },
    {
     "data": {
      "text/plain": [
       "[1, 22, 333, 4444, 55555, 666666, 7777777, 88888888]"
      ]
     },
     "execution_count": 13,
     "metadata": {},
     "output_type": "execute_result"
    },
    {
     "data": {
      "text/plain": [
       "8"
      ]
     },
     "execution_count": 13,
     "metadata": {},
     "output_type": "execute_result"
    }
   ],
   "source": [
    "# first loop, we make the biggest number to the left ---- 90\n",
    "for i in range(len(a)-1):\n",
    "    if a[i]>a[i+1]:\n",
    "        a[i],a[i+1] = a[i+1],a[i]\n",
    "a\n",
    "\n",
    "# second loop, we make the secoend biggest number to the left ----- 80,90\n",
    "for i in range(len(a)-1):\n",
    "    if a[i]>a[i+1]:\n",
    "        a[i],a[i+1] = a[i+1],a[i]\n",
    "a\n",
    "\n",
    "# so on and so forth\n",
    "for i in range(len(a)-1):\n",
    "    if a[i]>a[i+1]:\n",
    "        a[i],a[i+1] = a[i+1],a[i]\n",
    "a\n",
    "\n",
    "# in total we need run length of the list times.\n",
    "len(a)\n"
   ]
  },
  {
   "cell_type": "code",
   "execution_count": 19,
   "metadata": {},
   "outputs": [
    {
     "data": {
      "text/plain": [
       "[1, 22, 333, 4444, 55555, 666666, 7777777, 88888888]"
      ]
     },
     "execution_count": 19,
     "metadata": {},
     "output_type": "execute_result"
    },
    {
     "name": "stdout",
     "output_type": "stream",
     "text": [
      "time used 0.000124 ms\n"
     ]
    }
   ],
   "source": [
    "# compress it into a for loop:\n",
    "\n",
    "a = [55555,333,22,1,4444,88888888,7777777,666666]\n",
    "\n",
    "start= time.time()\n",
    "for j in range(len(a)): # control loop : control the times of the swap loop\n",
    "    for i in range(len(a)-1): # swap loop: in this loop we make two element swap\n",
    "        if a[i]>a[i+1]: # if condition to compare the number\n",
    "            a[i],a[i+1] = a[i+1],a[i] # swap\n",
    "end = time.time()\n",
    "\n",
    "\n",
    "a\n",
    "print('time used %f ms'%(end-start))"
   ]
  },
  {
   "cell_type": "code",
   "execution_count": 20,
   "metadata": {},
   "outputs": [
    {
     "data": {
      "text/plain": [
       "[1, 22, 333, 4444, 55555, 666666, 7777777, 88888888]"
      ]
     },
     "execution_count": 20,
     "metadata": {},
     "output_type": "execute_result"
    },
    {
     "name": "stdout",
     "output_type": "stream",
     "text": [
      "time used 0.000087 ms\n"
     ]
    }
   ],
   "source": [
    "#### advanced thinking #####\n",
    "# in each swap loop, we let i run from 0 to len(a)-1\n",
    "# actually, the tail of the list has already sorted, we do not need to compare and swap again\n",
    "# then we need to modify the swap loop, let it stop at the head of the sorted part\n",
    "\n",
    "a = [55555,333,22,1,4444,88888888,7777777,666666]\n",
    "\n",
    "start= time.time()\n",
    "for j in range(len(a)):\n",
    "    for i in range(len(a)-1-j): # in j times of loop, we make sure j biggest numbers is sorted\n",
    "        if a[i]>a[i+1]: \n",
    "            a[i],a[i+1] = a[i+1],a[i] # swap\n",
    "end = time.time()\n",
    "\n",
    "a\n",
    "print('time used %f ms'%(end-start))"
   ]
  },
  {
   "cell_type": "code",
   "execution_count": null,
   "metadata": {},
   "outputs": [],
   "source": []
  },
  {
   "cell_type": "code",
   "execution_count": null,
   "metadata": {},
   "outputs": [],
   "source": []
  },
  {
   "cell_type": "code",
   "execution_count": null,
   "metadata": {},
   "outputs": [],
   "source": []
  },
  {
   "cell_type": "code",
   "execution_count": null,
   "metadata": {},
   "outputs": [],
   "source": []
  },
  {
   "cell_type": "code",
   "execution_count": null,
   "metadata": {},
   "outputs": [],
   "source": []
  },
  {
   "cell_type": "code",
   "execution_count": 29,
   "metadata": {},
   "outputs": [],
   "source": [
    "def encode(s):\n",
    "    return ' '.join([bin(ord(c)).replace('0b', '') for c in s])\n"
   ]
  },
  {
   "cell_type": "code",
   "execution_count": 33,
   "metadata": {},
   "outputs": [
    {
     "data": {
      "text/plain": [
       "'1100001 1100010'"
      ]
     },
     "execution_count": 33,
     "metadata": {},
     "output_type": "execute_result"
    },
    {
     "data": {
      "text/plain": [
       "'1000101'"
      ]
     },
     "execution_count": 33,
     "metadata": {},
     "output_type": "execute_result"
    }
   ],
   "source": [
    "encode('')\n",
    "encode('E')"
   ]
  },
  {
   "cell_type": "code",
   "execution_count": null,
   "metadata": {},
   "outputs": [],
   "source": []
  },
  {
   "cell_type": "code",
   "execution_count": null,
   "metadata": {},
   "outputs": [],
   "source": []
  },
  {
   "cell_type": "code",
   "execution_count": null,
   "metadata": {},
   "outputs": [],
   "source": []
  },
  {
   "cell_type": "code",
   "execution_count": 27,
   "metadata": {},
   "outputs": [
    {
     "name": "stdout",
     "output_type": "stream",
     "text": [
      "code of liens 84\n"
     ]
    }
   ],
   "source": [
    "lines = 58+26\n",
    "print(f'code of liens {lines}')"
   ]
  },
  {
   "cell_type": "code",
   "execution_count": null,
   "metadata": {},
   "outputs": [],
   "source": []
  }
 ],
 "metadata": {
  "kernelspec": {
   "display_name": "Python 3",
   "language": "python",
   "name": "python3"
  },
  "language_info": {
   "codemirror_mode": {
    "name": "ipython",
    "version": 3
   },
   "file_extension": ".py",
   "mimetype": "text/x-python",
   "name": "python",
   "nbconvert_exporter": "python",
   "pygments_lexer": "ipython3",
   "version": "3.7.1"
  }
 },
 "nbformat": 4,
 "nbformat_minor": 2
}
