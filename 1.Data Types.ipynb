{
 "cells": [
  {
   "cell_type": "markdown",
   "metadata": {},
   "source": [
    "# Python build-in Data Type"
   ]
  },
  {
   "cell_type": "markdown",
   "metadata": {},
   "source": [
    "| Type            | Function                                                                   |\n",
    "| :-------------  |:---------------------------------------------------------------------------|\n",
    "| Text            | `str`                                                                      |\n",
    "| Numeric         | `int`  `float` `complex`                                                   |\n",
    "| Sequence        | `list` `tuple` `range`                                                     |\n",
    "| Mapping         | `dictionary`                                                               |\n",
    "| Set             | `set`  `frozenset`                                                         |\n",
    "| Boolean         | `bool`                                                                     |\n",
    "| Binary          | `bytes` `bytearray` `memoryview`                                           |"
   ]
  },
  {
   "cell_type": "markdown",
   "metadata": {},
   "source": [
    "<font color = red>\n",
    "    \n",
    "* Immutable：Numeric(int/float/complex),Boolean,String,Tuple；\n",
    "* Mutable：List,Dictionary,Set"
   ]
  },
  {
   "cell_type": "markdown",
   "metadata": {},
   "source": [
    "# Setting the Data Type"
   ]
  },
  {
   "cell_type": "markdown",
   "metadata": {},
   "source": [
    "|Example|Data Type|\n",
    "| :-------------  |:---------------------------------------------------------------------------|\n",
    "|str\t|x = \"Hello World\"\n",
    "|int\t|x = 20\t\n",
    "|float\t|x = 20.5\t\n",
    "|complex\t|x = 1j\t\n",
    "|list |x = [\"apple\", \"banana\", \"cherry\"]\t\n",
    "|tuple |x = (\"apple\", \"banana\", \"cherry\")\t\t\n",
    "|range\t|x = range(6)\t\n",
    "|dict |x = {\"name\" : \"John\", \"age\" : 36}\t\t\n",
    "|set\t|x = {\"apple\", \"banana\", \"cherry\"}\t\n",
    "|frozenset\t|x = frozenset({\"apple\", \"banana\", \"cherry\"})\t\n",
    "|bool\t|x = True\t\n",
    "|bytes\t|x = b\"Hello\"\t\n",
    "|bytearray\t|x = bytearray(5)\t\n",
    "|memoryview |x = memoryview(bytes(5))\t"
   ]
  },
  {
   "cell_type": "markdown",
   "metadata": {},
   "source": [
    "# String\n"
   ]
  },
  {
   "cell_type": "markdown",
   "metadata": {},
   "source": [
    " <div class=\"alert alert-block alert-info\">\n",
    " * Strings are identified as a contiguous set of characters represented in the quotation marks\n",
    " * Substrings can be taken using slice operator **<font color=blue>[ ]</font>** with indexes starting at **<font color=blue>0</font> in the beginning of the string ** and working their way from **<font color=blue>-1</font> at the end **.\n",
    " * Strings can be concatenated using **<font color=blue>+</font>**\n",
    " * Useful string functions: **<font color=blue>strip, lstrip, rstrip, split, lower, upper, find, rfind, replace</font>**"
   ]
  },
  {
   "cell_type": "markdown",
   "metadata": {},
   "source": [
    "#### Create a string"
   ]
  },
  {
   "cell_type": "code",
   "execution_count": 6,
   "metadata": {},
   "outputs": [
    {
     "name": "stdout",
     "output_type": "stream",
     "text": [
      "An empty string: \n",
      "_______________________ \n",
      "\n",
      "This is a non-empty string: Hello World!\n"
     ]
    }
   ],
   "source": [
    "s0 =''               # an empty string\n",
    "s = 'Hello World!'\n",
    "print('An empty string:',s0)\n",
    "print('_______________________ \\n')\n",
    "print('This is a non-empty string:',s)"
   ]
  },
  {
   "cell_type": "markdown",
   "metadata": {},
   "source": [
    "#### Slicing a string"
   ]
  },
  {
   "cell_type": "code",
   "execution_count": 11,
   "metadata": {},
   "outputs": [
    {
     "name": "stdout",
     "output_type": "stream",
     "text": [
      "Hello World!\n",
      "_______________________ \n",
      "\n",
      "H\n",
      "_______________________ \n",
      "\n",
      "llo\n",
      "_______________________ \n",
      "\n",
      "llo World!\n",
      "_______________________ \n",
      "\n",
      "!\n",
      "_______________________ \n",
      "\n",
      "ld!\n",
      "_______________________ \n",
      "\n",
      "HloWr\n"
     ]
    }
   ],
   "source": [
    "print(s)          # Prints complete string\n",
    "print('_______________________ \\n')\n",
    "\n",
    "\n",
    "print(s[0])       # Prints first character of the string\n",
    "print('_______________________ \\n')\n",
    "\n",
    "\n",
    "print(s[2:5])     # Prints characters starting from 3rd to 5th\n",
    "print('_______________________ \\n')\n",
    "\n",
    "\n",
    "print(s[2:] )     # Prints string starting from 3rd character\n",
    "print('_______________________ \\n')\n",
    "\n",
    "\n",
    "print(s[-1])      # Prints the last character \n",
    "print('_______________________ \\n')\n",
    "\n",
    "\n",
    "print(s[-3:])     #get the last three characters\n",
    "print('_______________________ \\n')\n",
    "\n",
    "\n",
    "print(s[0:10:2])   # step-wise slicing; [start,end,step]"
   ]
  },
  {
   "cell_type": "markdown",
   "metadata": {},
   "source": [
    "# List"
   ]
  },
  {
   "cell_type": "markdown",
   "metadata": {},
   "source": [
    "<div class=\"alert alert-info\" style=\"margin: 20px\">\n",
    "    \n",
    "* Items in a list can be of **different data type** e.g. numbers, strings, lists, tuples, dictionaries\n",
    "* Values in a list can be accessed using slice operator **<font color=blue>[ ]</font>** with indexes starting at **<font color=blue>0</font> for the first element ** and working their way from **<font color=blue>-1</font> at the end **.\n",
    "\n",
    "* Lists can be concatenated using **<font color=blue>+</font>**\n",
    "* A string is actually a list of characters without commas!\n"
   ]
  },
  {
   "cell_type": "code",
   "execution_count": 61,
   "metadata": {},
   "outputs": [
    {
     "name": "stdout",
     "output_type": "stream",
     "text": [
      "['welcome to my notebook']\n",
      "________________________ \n",
      "\n",
      "['welcome to my notebook']\n"
     ]
    }
   ],
   "source": [
    "list0 = [ 'welcome', \"to\" , \"my\", 'notebook' ]\n",
    "list1 = ['welcome to my notebook']\n",
    "print(list1)\n",
    "print('________________________ \\n')\n",
    "print(list2)"
   ]
  },
  {
   "cell_type": "markdown",
   "metadata": {},
   "source": [
    "#### length of a lsit"
   ]
  },
  {
   "cell_type": "code",
   "execution_count": 62,
   "metadata": {},
   "outputs": [
    {
     "name": "stdout",
     "output_type": "stream",
     "text": [
      "the length of list0 is 4, and length of list1 is 1\n"
     ]
    }
   ],
   "source": [
    "print(f'the length of list0 is {len(list0)}, and length of list1 is {len(list1)}')"
   ]
  },
  {
   "cell_type": "markdown",
   "metadata": {},
   "source": [
    "#### List indexing"
   ]
  },
  {
   "cell_type": "code",
   "execution_count": 63,
   "metadata": {},
   "outputs": [
    {
     "name": "stdout",
     "output_type": "stream",
     "text": [
      "['welcome', 'to', 'my', 'notebook']\n",
      "_______________________ \n",
      "\n",
      "welcome\n",
      "_______________________ \n",
      "\n",
      "['to', 'my']\n",
      "_______________________ \n",
      "\n",
      "['my', 'notebook']\n",
      "_______________________ \n",
      "\n",
      "notebook\n",
      "_______________________ \n",
      "\n",
      "welcome+to+my+notebook\n",
      "_______________________ \n",
      "\n",
      "['welcome', 'to', 'my', 'notebook', 'welcome to my notebook']\n"
     ]
    }
   ],
   "source": [
    "print (list0)          # Prints complete list\n",
    "print('_______________________ \\n')\n",
    "\n",
    "\n",
    "\n",
    "print (list0[0])       # Prints first element of the list\n",
    "print('_______________________ \\n')\n",
    "\n",
    "\n",
    "\n",
    "print (list0[1:3])     # Prints elements starting from 2nd till 3rd \n",
    "print('_______________________ \\n')\n",
    "\n",
    "\n",
    "\n",
    "print (list0[2:])      # Prints elements starting from 3rd element\n",
    "print('_______________________ \\n')\n",
    "\n",
    "\n",
    "\n",
    "print (list0[-1])      # Prints the last element\n",
    "print('_______________________ \\n')\n",
    "\n",
    "# concatenate elements in a list\n",
    "print (\"+\".join(list0))# join elements into a single string with \" \" as the separator\n",
    "\n",
    "print('_______________________ \\n')\n",
    "# concatenate lists\n",
    "print (list0 + list1)  # Prints concatenated lists"
   ]
  },
  {
   "cell_type": "code",
   "execution_count": 52,
   "metadata": {},
   "outputs": [
    {
     "data": {
      "text/plain": [
       "['My python notebook', 'List indexing']"
      ]
     },
     "execution_count": 52,
     "metadata": {},
     "output_type": "execute_result"
    }
   ],
   "source": [
    "list2 = ['My python notebook','List indexing']\n",
    "list2"
   ]
  },
  {
   "cell_type": "code",
   "execution_count": 60,
   "metadata": {},
   "outputs": [
    {
     "name": "stdout",
     "output_type": "stream",
     "text": [
      "My python notebook\n",
      "python\n"
     ]
    }
   ],
   "source": [
    "print(list2[0])\n",
    "print(list2[0][3:9]) "
   ]
  },
  {
   "cell_type": "markdown",
   "metadata": {},
   "source": [
    "<font color= red> indexing always from 0. and the range of indexing always [start, end)"
   ]
  },
  {
   "cell_type": "markdown",
   "metadata": {},
   "source": [
    "#### append / extend/ remove"
   ]
  },
  {
   "cell_type": "code",
   "execution_count": 39,
   "metadata": {},
   "outputs": [
    {
     "data": {
      "text/plain": [
       "[1, 2, 3, 4, 5, 'a', 'b']"
      ]
     },
     "execution_count": 39,
     "metadata": {},
     "output_type": "execute_result"
    }
   ],
   "source": [
    "list3 = [1,2,3,4,5,'a','b']\n",
    "list3"
   ]
  },
  {
   "cell_type": "code",
   "execution_count": 40,
   "metadata": {},
   "outputs": [
    {
     "name": "stdout",
     "output_type": "stream",
     "text": [
      "[1, 2, 3, 4, 5, 'a', 'b', 'c']\n"
     ]
    }
   ],
   "source": [
    "list3.append(\"c\")     # append \"c\" to the end of the list\n",
    "print (list3)"
   ]
  },
  {
   "cell_type": "code",
   "execution_count": 41,
   "metadata": {},
   "outputs": [
    {
     "name": "stdout",
     "output_type": "stream",
     "text": [
      "[1, 2, 3, 4, 5, 'a', 'b', 'c', 'd']\n"
     ]
    }
   ],
   "source": [
    "list3.extend(\"d\")     # extend \"d\" to the end of the list\n",
    "print (list3)"
   ]
  },
  {
   "cell_type": "markdown",
   "metadata": {},
   "source": [
    "<font color = red> when it comes to a new list, a difference between append and extend will show"
   ]
  },
  {
   "cell_type": "code",
   "execution_count": 42,
   "metadata": {},
   "outputs": [
    {
     "name": "stdout",
     "output_type": "stream",
     "text": [
      "[1, 2, 3, 4, 5, 'a', 'b', 'c', 'd', ['11', '22', '33']]\n"
     ]
    }
   ],
   "source": [
    "list4 = ['11','22','33']\n",
    "list3.append(list4)\n",
    "print (list3)"
   ]
  },
  {
   "cell_type": "code",
   "execution_count": 43,
   "metadata": {},
   "outputs": [
    {
     "name": "stdout",
     "output_type": "stream",
     "text": [
      "[1, 2, 3, 4, 5, 'a', 'b', 'c', 'd', ['11', '22', '33'], 'aa', 'bb', 'cc']\n"
     ]
    }
   ],
   "source": [
    "list5 =['aa','bb','cc']\n",
    "list3.extend(list5) \n",
    "print (list3)"
   ]
  },
  {
   "cell_type": "code",
   "execution_count": 36,
   "metadata": {},
   "outputs": [
    {
     "name": "stdout",
     "output_type": "stream",
     "text": [
      "[1, 2, 3, 4, 5, 'b', 'c', 'd']\n"
     ]
    }
   ],
   "source": [
    "list3.remove(\"a\")     # remove the first \"a\" found in the list from the beginning\n",
    "print (list3) "
   ]
  },
  {
   "cell_type": "markdown",
   "metadata": {},
   "source": [
    "# Tuples "
   ]
  },
  {
   "cell_type": "markdown",
   "metadata": {},
   "source": [
    "<div class=\"alert alert-info\" style=\"margin: 20px\">\n",
    "    \n",
    "* Tuples are enclosed within parentheses **<font color=blue>( )</font>**, while lists are enclosed in **<font color=blue>[ ]</font>**.\n",
    "    \n",
    "* A tuple, once declared, **<font color=blue>cannot be updated (read-only)</font>**, while the elements and size of a list can be changed"
   ]
  },
  {
   "cell_type": "code",
   "execution_count": 103,
   "metadata": {},
   "outputs": [
    {
     "name": "stdout",
     "output_type": "stream",
     "text": [
      "('welcome', 'to', 'my', 'notebook')\n",
      "_______________________ \n",
      "\n",
      "welcome\n",
      "_______________________ \n",
      "\n",
      "('to', 'my')\n",
      "_______________________ \n",
      "\n",
      "('my', 'notebook')\n",
      "_______________________ \n",
      "\n",
      "('welcome', 'to', 'my', 'notebook', 'tuple(mynotebook)', 1994)\n"
     ]
    }
   ],
   "source": [
    "tuple1 = ( 'welcome', \"to\" , \"my\", 'notebook' )\n",
    "tuple2 = ('tuple(mynotebook)', 1994)\n",
    "\n",
    "print (tuple1)          # Prints complete tuple\n",
    "print('_______________________ \\n')\n",
    "\n",
    "\n",
    "print (tuple1[0])       # Prints first element of the tuple\n",
    "print('_______________________ \\n')\n",
    "\n",
    "\n",
    "\n",
    "print (tuple1[1:3])     # Prints elements starting from 2nd till 3rd \n",
    "print('_______________________ \\n')\n",
    "\n",
    "\n",
    "\n",
    "print (tuple1[2:])      # Prints elements starting from 3rd element\n",
    "print('_______________________ \\n')\n",
    "\n",
    "\n",
    "\n",
    "print (tuple1 + tuple2)  # Prints concatenated tuples"
   ]
  },
  {
   "cell_type": "code",
   "execution_count": 84,
   "metadata": {},
   "outputs": [],
   "source": [
    "# Make a list of tuple\n",
    "# e.g. [(1,'Mary'),(2,'Tom'),(3, 'Joe')]\n",
    "\n",
    "ids=(1,2,3)\n",
    "names=('Mary','Tom','Joe')\n"
   ]
  },
  {
   "cell_type": "code",
   "execution_count": 85,
   "metadata": {},
   "outputs": [
    {
     "name": "stdout",
     "output_type": "stream",
     "text": [
      "[(1, 'Mary'), (2, 'Tom'), (3, 'Joe')]\n"
     ]
    }
   ],
   "source": [
    "x=[(ids[0], names[0]),(ids[1], names[1]),(ids[2], names[2]) ]\n",
    "print(x)"
   ]
  },
  {
   "cell_type": "code",
   "execution_count": 86,
   "metadata": {},
   "outputs": [
    {
     "name": "stdout",
     "output_type": "stream",
     "text": [
      "[(1, 'Mary'), (2, 'Tom'), (3, 'Joe')]\n"
     ]
    }
   ],
   "source": [
    "# A efficient way: zip function - combine lists element-wise\n",
    "# zip function in python 3 returns an iterator\n",
    "# use list function to convert an iterator to list\n",
    "zipped=list(zip(ids, names))   \n",
    "print(zipped)\n",
    "\n"
   ]
  },
  {
   "cell_type": "code",
   "execution_count": 98,
   "metadata": {},
   "outputs": [
    {
     "name": "stdout",
     "output_type": "stream",
     "text": [
      "(1, 2, 3) ('Mary', 'Tom', 'Joe')\n"
     ]
    }
   ],
   "source": [
    "# how to convert zipped back to unzipped? zip itself can also be an unzipped\n",
    "idx, names = list(zip(*zipped))\n",
    "print(idx, names)"
   ]
  },
  {
   "cell_type": "markdown",
   "metadata": {},
   "source": [
    "# Dictionary"
   ]
  },
  {
   "cell_type": "markdown",
   "metadata": {},
   "source": [
    "<div class=\"alert alert-info\" style=\"margin: 20px\">\n",
    "\n",
    "*  A dictionary is made of key-value pairs, e.g. {1:'Mary Joe', 2:'David Johnson'} \n",
    "*  Keys are **unique**\n",
    "*  A dictionary is enclosed by **curly braces { }** \n",
    "*  Values can be assigned and accessed using **square braces [ ]**\n",
    "*  Keys are usually **numbers or strings**, but values can be of any python data types, e.g. numbers, strings, lists, tuples, dictionaries"
   ]
  },
  {
   "cell_type": "code",
   "execution_count": 101,
   "metadata": {},
   "outputs": [
    {
     "data": {
      "text/plain": [
       "{'one': 'This is one', 2: 'This is two'}"
      ]
     },
     "execution_count": 101,
     "metadata": {},
     "output_type": "execute_result"
    }
   ],
   "source": [
    "dict1 = {}                     # define an empty dictionary\n",
    "\n",
    "dict1['one'] = \"This is one\"   # add  key-value pairs to the dictionary\n",
    "dict1[2]     = \"This is two\"\n",
    "\n",
    "dict1"
   ]
  },
  {
   "cell_type": "code",
   "execution_count": 102,
   "metadata": {},
   "outputs": [
    {
     "data": {
      "text/plain": [
       "{1: 'Mary Joe', 2: 'David Johnson'}"
      ]
     },
     "execution_count": 102,
     "metadata": {},
     "output_type": "execute_result"
    }
   ],
   "source": [
    "dict2 = {1:'Mary Joe', 2:'David Johnson'}  # a more compact way to define a dictionary\n",
    "dict2"
   ]
  },
  {
   "cell_type": "code",
   "execution_count": 177,
   "metadata": {},
   "outputs": [
    {
     "name": "stdout",
     "output_type": "stream",
     "text": [
      "Mary Joe\n"
     ]
    },
    {
     "data": {
      "text/plain": [
       "2"
      ]
     },
     "execution_count": 177,
     "metadata": {},
     "output_type": "execute_result"
    }
   ],
   "source": [
    "# key must be unique, if duplicated key created, drop the old key-value pair\n",
    "dic ={1:'Mary Joe', 2:'David Johnson', 2:'Mary Joe'} \n",
    "print(dic[2])\n",
    "len(dic)"
   ]
  },
  {
   "cell_type": "code",
   "execution_count": 119,
   "metadata": {},
   "outputs": [
    {
     "data": {
      "text/plain": [
       "dict_keys(['key1', 'key2', 'key3', 3, 123.3, True, None, 4, 5])"
      ]
     },
     "execution_count": 119,
     "metadata": {},
     "output_type": "execute_result"
    }
   ],
   "source": [
    "Dictonary = {'key1':1,\n",
    "             'key2':'value2',\n",
    "             'key3':False,\n",
    "             3:3,\n",
    "             123.3:123.3,\n",
    "             True:False,\n",
    "             None:'not None',\n",
    "             4:None,\n",
    "             5:[12,32]\n",
    "            }\n",
    "# key can be str, int, float, bool, None, expect a list\n",
    "# value can be every thing\n",
    "\n",
    "Dictonary[None] # we can return the valye by calling the key\n",
    "\n",
    "Dictonary.keys() # we can view keys by calling keys() function"
   ]
  },
  {
   "cell_type": "code",
   "execution_count": 105,
   "metadata": {},
   "outputs": [
    {
     "name": "stdout",
     "output_type": "stream",
     "text": [
      "This is one\n",
      "_______________________ \n",
      "\n",
      "This is two\n",
      "_______________________ \n",
      "\n",
      "{1: 'Mary Joe', 2: 'David Johnson'}\n",
      "_______________________ \n",
      "\n",
      "dict_keys([1, 2])\n",
      "_______________________ \n",
      "\n",
      "dict_values(['Mary Joe', 'David Johnson'])\n",
      "_______________________ \n",
      "\n"
     ]
    }
   ],
   "source": [
    "print (dict1['one'])       # Prints value for 'one' key\n",
    "print('_______________________ \\n')\n",
    "\n",
    "\n",
    "\n",
    "print (dict1[2])           # Prints value for 2 key\n",
    "print('_______________________ \\n')\n",
    "\n",
    "\n",
    "\n",
    "print (dict2)              # Prints complete dictionary\n",
    "print('_______________________ \\n')\n",
    "\n",
    "\n",
    "\n",
    "print (dict2.keys())       # Prints all the keys\n",
    "print('_______________________ \\n')\n",
    "\n",
    "\n",
    "\n",
    "print (dict2.values())     # Prints all the values\n",
    "print('_______________________ \\n')\n",
    "\n"
   ]
  },
  {
   "cell_type": "code",
   "execution_count": 106,
   "metadata": {},
   "outputs": [
    {
     "name": "stdout",
     "output_type": "stream",
     "text": [
      "[(1, 'Mary Joe'), (2, 'David Johnson')]\n"
     ]
    }
   ],
   "source": [
    "print (list(dict2.items()) ) # print key-value pair as a list of tuples"
   ]
  },
  {
   "cell_type": "markdown",
   "metadata": {},
   "source": [
    " # Set"
   ]
  },
  {
   "cell_type": "markdown",
   "metadata": {},
   "source": [
    "<div class=\"alert alert-info\" style=\"margin: 20px\">\n",
    "    \n",
    "* set is for constructing and manipulating  collections of unique elements\n",
    "* set is unordered, indexing has no meaning. so, sets do not support indexing, slicing, or other sequence-like behavior.\n",
    "* set classes are implemented using dictionaries.\n"
   ]
  },
  {
   "cell_type": "markdown",
   "metadata": {},
   "source": [
    "### Creating a set"
   ]
  },
  {
   "cell_type": "code",
   "execution_count": 179,
   "metadata": {},
   "outputs": [
    {
     "name": "stdout",
     "output_type": "stream",
     "text": [
      "<class 'set'>\n"
     ]
    }
   ],
   "source": [
    "a = {1,3}  # Dictionary ???????\n",
    "print(type(a))"
   ]
  },
  {
   "cell_type": "code",
   "execution_count": 180,
   "metadata": {},
   "outputs": [
    {
     "name": "stdout",
     "output_type": "stream",
     "text": [
      "<class 'dict'>\n",
      "<class 'set'>\n"
     ]
    }
   ],
   "source": [
    "a = {}  # you can't create a empty set\n",
    "print(type(a))\n",
    "\n",
    "\n",
    "a = set() # this is the only way to create a empty set\n",
    "print(type(a))"
   ]
  },
  {
   "cell_type": "code",
   "execution_count": 254,
   "metadata": {},
   "outputs": [
    {
     "name": "stdout",
     "output_type": "stream",
     "text": [
      "0.23683023000012327\n",
      "0.08237057800033654\n"
     ]
    }
   ],
   "source": [
    "# difference?\n",
    "import timeit\n",
    "print(timeit.timeit('a = set([1,2,3])'))\n",
    "\n",
    "print(timeit.timeit('a = {1, 2, 3}')) # Faster"
   ]
  },
  {
   "cell_type": "code",
   "execution_count": 244,
   "metadata": {},
   "outputs": [
    {
     "name": "stdout",
     "output_type": "stream",
     "text": [
      "<class 'set'> {1, 2, 3, 4, 5, 6, '33'}\n",
      "<class 'set'> {1, '2'}\n",
      "<class 'set'> {' ', 'a', 'd', 'n', '2', '3', '.', 'r', 'o', '1'}\n",
      "<class 'set'> {1, 2, 3, 4, 5, 6, '6'}\n"
     ]
    }
   ],
   "source": [
    "# set() only receive one argument\n",
    "\n",
    "# list\n",
    "a = set([1,2,2,2,2,2,'33',3,'33',3,4,5,6])\n",
    "print(type(a),a)\n",
    "\n",
    "# dictionary\n",
    "a = set({1:1,'2':2,'2':3})\n",
    "print(type(a),a)\n",
    "\n",
    "# str\n",
    "a = set('aaaaaaaaa and 123 or 1  or 2 or 22.31 ')\n",
    "print(type(a),a)\n",
    "\n",
    "# tuple\n",
    "a = set((1,2,3,3,3,3,4,5,6,'6','6'))\n",
    "print(type(a),a)\n"
   ]
  },
  {
   "cell_type": "code",
   "execution_count": 214,
   "metadata": {},
   "outputs": [
    {
     "name": "stdout",
     "output_type": "stream",
     "text": [
      "<class 'set'> {'a', 2, 3, ('a', 'a')}\n",
      "<class 'set'> {'aaabbc', 'aaaaaa'}\n",
      "<class 'set'> {12345, 1234}\n",
      "<class 'set'> {123.4, 123.45}\n"
     ]
    }
   ],
   "source": [
    "# {} can be passed many values\n",
    "# but not a list\n",
    "\n",
    "a = {'a',2,('a','a'),3,3}\n",
    "print(type(a),a)\n",
    "\n",
    "\n",
    "# string\n",
    "a = 'aaaaaa'\n",
    "b = 'aaabbc'\n",
    "c = {a,b}\n",
    "print(type(c),c)\n",
    "\n",
    "\n",
    "# int\n",
    "a = 12345\n",
    "b = 1234\n",
    "c = {a,b}\n",
    "print(type(c),c)\n",
    "\n",
    "\n",
    "#float\n",
    "a = 123.45\n",
    "b = 123.4\n",
    "c = {a,b}\n",
    "print(type(c),c)"
   ]
  },
  {
   "cell_type": "code",
   "execution_count": 259,
   "metadata": {},
   "outputs": [
    {
     "data": {
      "text/plain": [
       "{1, 2, 3, 4, 5, 6, 7, 8, 9}"
      ]
     },
     "execution_count": 259,
     "metadata": {},
     "output_type": "execute_result"
    }
   ],
   "source": []
  },
  {
   "cell_type": "markdown",
   "metadata": {},
   "source": [
    "### set addation"
   ]
  },
  {
   "cell_type": "code",
   "execution_count": 263,
   "metadata": {},
   "outputs": [
    {
     "name": "stdout",
     "output_type": "stream",
     "text": [
      "initate: {1, 3}\n",
      "add(2): {1, 2, 3}\n",
      "update multiple elements: {1, 2, 3, 4}\n",
      "add list and set: {1, 2, 3, 4, 5, 6, 8}\n",
      "|= t is equal to update {1, 2, 3, 4, 5, 6, 7, 8, 9}\n"
     ]
    }
   ],
   "source": [
    "# Set\n",
    "Set = {1, 3}\n",
    "print('initate:',Set)\n",
    "\n",
    "Set.add(2)\n",
    "print('add(2):',Set)\n",
    "\n",
    "# add multiple elements\n",
    "Set.update([2, 3, 4])\n",
    "print('update multiple elements:',Set)\n",
    "\n",
    "# add list and set\n",
    "Set.update([4, 5], {1, 6, 8})\n",
    "print('add list and set:',Set)\n",
    "\n",
    "# update t\n",
    "a = {1,2,3,4,5}\n",
    "t = {5,6,7,8,9}\n",
    "a |= t\n",
    "print(\"|= t is equal to update\",a)\n",
    "# more details see operation chapter"
   ]
  },
  {
   "cell_type": "markdown",
   "metadata": {},
   "source": [
    "### set deletion"
   ]
  },
  {
   "cell_type": "code",
   "execution_count": 226,
   "metadata": {},
   "outputs": [
    {
     "name": "stdout",
     "output_type": "stream",
     "text": [
      "discard 4: {1, 2, 3, 5, 6, 8}\n",
      "remove 5: {1, 2, 3, 6, 8}\n",
      "pop 1st: {2, 3, 6, 8}\n",
      "pop 2nd: {3, 6, 8}\n"
     ]
    },
    {
     "ename": "KeyError",
     "evalue": "4",
     "output_type": "error",
     "traceback": [
      "\u001b[0;31m---------------------------------------------------------------------------\u001b[0m",
      "\u001b[0;31mKeyError\u001b[0m                                  Traceback (most recent call last)",
      "\u001b[0;32m<ipython-input-226-c726505d76f1>\u001b[0m in \u001b[0;36m<module>\u001b[0;34m\u001b[0m\n\u001b[1;32m     23\u001b[0m \u001b[0;31m# The only difference is remove will raise an error when there is no such element\u001b[0m\u001b[0;34m\u001b[0m\u001b[0;34m\u001b[0m\u001b[0;34m\u001b[0m\u001b[0m\n\u001b[1;32m     24\u001b[0m \u001b[0mSet\u001b[0m\u001b[0;34m.\u001b[0m\u001b[0mdiscard\u001b[0m\u001b[0;34m(\u001b[0m\u001b[0;36m5\u001b[0m\u001b[0;34m)\u001b[0m\u001b[0;34m\u001b[0m\u001b[0;34m\u001b[0m\u001b[0m\n\u001b[0;32m---> 25\u001b[0;31m \u001b[0mSet\u001b[0m\u001b[0;34m.\u001b[0m\u001b[0mremove\u001b[0m\u001b[0;34m(\u001b[0m\u001b[0;36m4\u001b[0m\u001b[0;34m)\u001b[0m\u001b[0;34m\u001b[0m\u001b[0;34m\u001b[0m\u001b[0m\n\u001b[0m",
      "\u001b[0;31mKeyError\u001b[0m: 4"
     ]
    }
   ],
   "source": [
    "# discard / remove/ pop / clear \n",
    "\n",
    "\n",
    "# discard and remove\n",
    "Set.discard(4)\n",
    "print('discard 4:',Set)\n",
    "Set.remove(5)\n",
    "print('remove 5:',Set)\n",
    "\n",
    "\n",
    "\n",
    "\n",
    "Set.pop()\n",
    "print('pop 1st:',Set)\n",
    "# pop will delete 1st left element in a set. Since set is generated in a random order, pop can be different.\n",
    "# but once a set is generated, order is settled, pop always from left 1 to the right end.\n",
    "Set.pop()\n",
    "print('pop 2nd:',Set)\n",
    "\n",
    "\n",
    "\n",
    "# The only difference is remove will raise an error when there is no such element\n",
    "Set.discard(5)\n",
    "Set.remove(4)"
   ]
  },
  {
   "cell_type": "code",
   "execution_count": 228,
   "metadata": {},
   "outputs": [
    {
     "data": {
      "text/plain": [
       "set()"
      ]
     },
     "execution_count": 228,
     "metadata": {},
     "output_type": "execute_result"
    }
   ],
   "source": [
    "# clear\n",
    "Set.clear()\n",
    "Set # empty set"
   ]
  },
  {
   "cell_type": "markdown",
   "metadata": {},
   "source": [
    "# Data type converting"
   ]
  },
  {
   "cell_type": "markdown",
   "metadata": {},
   "source": [
    "### bool( )\n",
    "* Any data type can be converted to bool\n",
    "* Only empty type canbe translated to False, otherwise True"
   ]
  },
  {
   "cell_type": "code",
   "execution_count": 51,
   "metadata": {},
   "outputs": [
    {
     "name": "stdout",
     "output_type": "stream",
     "text": [
      "<class 'bool'> True\n"
     ]
    }
   ],
   "source": [
    "a =  True\n",
    "print(type(a),a)"
   ]
  },
  {
   "cell_type": "code",
   "execution_count": 48,
   "metadata": {},
   "outputs": [
    {
     "name": "stdout",
     "output_type": "stream",
     "text": [
      "<class 'bool'> True\n",
      "<class 'bool'> True\n",
      "<class 'bool'> True\n",
      "<class 'bool'> True\n",
      "<class 'bool'> False\n"
     ]
    }
   ],
   "source": [
    "# str to bool\n",
    "a = 'True'\n",
    "a = bool(a)\n",
    "print(type(a),a)\n",
    "\n",
    "a = '1'\n",
    "a = bool(a)\n",
    "print(type(a),a)\n",
    "\n",
    "a = '0' # not empty\n",
    "a = bool(a)\n",
    "print(type(a),a) # True\n",
    "\n",
    "a = 'False' # not empty\n",
    "a = bool(a)\n",
    "print(type(a),a) # True\n",
    "\n",
    "a = '' # empty\n",
    "a = bool(a)\n",
    "print(type(a),a) # False\n",
    "\n"
   ]
  },
  {
   "cell_type": "code",
   "execution_count": 34,
   "metadata": {},
   "outputs": [
    {
     "name": "stdout",
     "output_type": "stream",
     "text": [
      "<class 'bool'> True\n",
      "<class 'bool'> True\n",
      "<class 'bool'> True\n",
      "<class 'bool'> False\n"
     ]
    }
   ],
   "source": [
    "# int to bool\n",
    "a = 1\n",
    "a = bool(a)\n",
    "print(type(a),a)\n",
    "\n",
    "a = 123\n",
    "a = bool(a)\n",
    "print(type(a),a) # True\n",
    "\n",
    "a = -3\n",
    "a = bool(a)\n",
    "print(type(a),a) #True\n",
    "\n",
    "a = 0\n",
    "a = bool(a)\n",
    "print(type(a),a) # Only 0 canbe reconized as False"
   ]
  },
  {
   "cell_type": "code",
   "execution_count": 50,
   "metadata": {},
   "outputs": [
    {
     "name": "stdout",
     "output_type": "stream",
     "text": [
      "<class 'bool'> True\n",
      "<class 'bool'> True\n",
      "<class 'bool'> False\n",
      "<class 'bool'> False\n"
     ]
    }
   ],
   "source": [
    "# float to bool\n",
    "a = 11.35\n",
    "a = bool(a)\n",
    "print(type(a),a)\n",
    "\n",
    "a = -0.1\n",
    "a = bool(a)\n",
    "print(type(a),a)\n",
    "\n",
    "a = -0.0\n",
    "a = bool(a)\n",
    "print(type(a),a)\n",
    "\n",
    "a = 0.0\n",
    "a = bool(a)\n",
    "print(type(a),a)\n"
   ]
  },
  {
   "cell_type": "code",
   "execution_count": 64,
   "metadata": {},
   "outputs": [
    {
     "name": "stdout",
     "output_type": "stream",
     "text": [
      "<class 'bool'> False\n"
     ]
    }
   ],
   "source": [
    "# None type to bool\n",
    "a = None\n",
    "a = bool(a)\n",
    "print(type(a),a)"
   ]
  },
  {
   "cell_type": "code",
   "execution_count": 70,
   "metadata": {},
   "outputs": [
    {
     "name": "stdout",
     "output_type": "stream",
     "text": [
      "<class 'bool'> True\n",
      "<class 'bool'> True\n",
      "<class 'bool'> False\n"
     ]
    }
   ],
   "source": [
    "# list  to bool\n",
    "a = [1,2,3]\n",
    "a = bool(a)\n",
    "print(type(a),a)\n",
    "\n",
    "a = [0]\n",
    "a = bool(a)\n",
    "print(type(a),a)\n",
    "\n",
    "\n",
    "a = []\n",
    "a = bool(a)\n",
    "print(type(a),a)"
   ]
  },
  {
   "cell_type": "code",
   "execution_count": 82,
   "metadata": {},
   "outputs": [
    {
     "name": "stdout",
     "output_type": "stream",
     "text": [
      "<class 'bool'> True\n",
      "<class 'bool'> False\n"
     ]
    }
   ],
   "source": [
    "# dic to bool\n",
    "a = {'key1':11,'key2':12}\n",
    "a = bool(a) \n",
    "print(type(a),a)\n",
    "\n",
    "a = {}\n",
    "a = bool(a) \n",
    "print(type(a),a)"
   ]
  },
  {
   "cell_type": "markdown",
   "metadata": {},
   "source": [
    "### int( ) \n",
    "* True = 1 , False = 0\n",
    "* Float only reamin integer part\n",
    "* Only integer in string can be convert to integer"
   ]
  },
  {
   "cell_type": "code",
   "execution_count": 53,
   "metadata": {},
   "outputs": [
    {
     "name": "stdout",
     "output_type": "stream",
     "text": [
      "<class 'int'> 11\n"
     ]
    }
   ],
   "source": [
    "a = 11\n",
    "print(type(a),a)"
   ]
  },
  {
   "cell_type": "code",
   "execution_count": 54,
   "metadata": {},
   "outputs": [
    {
     "name": "stdout",
     "output_type": "stream",
     "text": [
      "<class 'int'> 1\n",
      "<class 'int'> 0\n"
     ]
    }
   ],
   "source": [
    "# bool to int\n",
    "a = True \n",
    "a = int(a)\n",
    "print(type(a),a) # True =1. False =0\n",
    "\n",
    "a = False \n",
    "a = int(a)\n",
    "print(type(a),a)"
   ]
  },
  {
   "cell_type": "code",
   "execution_count": null,
   "metadata": {},
   "outputs": [],
   "source": [
    "# "
   ]
  },
  {
   "cell_type": "code",
   "execution_count": 55,
   "metadata": {},
   "outputs": [
    {
     "name": "stdout",
     "output_type": "stream",
     "text": [
      "<class 'int'> 11\n",
      "<class 'int'> -11\n"
     ]
    }
   ],
   "source": [
    "# float to int\n",
    "a = 11.35\n",
    "a = int(a) # direct cut off the decimals, only reamin interger part. No round, cilling or floor\n",
    "print(type(a),a)\n",
    "\n",
    "a = -11.35\n",
    "a = int(a) # direct cut off the decimals, only reamin interger part. No round, cilling or floor\n",
    "print(type(a),a)"
   ]
  },
  {
   "cell_type": "code",
   "execution_count": 60,
   "metadata": {
    "scrolled": true
   },
   "outputs": [
    {
     "name": "stdout",
     "output_type": "stream",
     "text": [
      "<class 'int'> 11\n"
     ]
    },
    {
     "ename": "ValueError",
     "evalue": "invalid literal for int() with base 10: 'Hello, World'",
     "output_type": "error",
     "traceback": [
      "\u001b[0;31m---------------------------------------------------------------------------\u001b[0m",
      "\u001b[0;31mValueError\u001b[0m                                Traceback (most recent call last)",
      "\u001b[0;32m<ipython-input-60-d36289c6b931>\u001b[0m in \u001b[0;36m<module>\u001b[0;34m\u001b[0m\n\u001b[1;32m     10\u001b[0m \u001b[0;34m\u001b[0m\u001b[0m\n\u001b[1;32m     11\u001b[0m \u001b[0ma\u001b[0m \u001b[0;34m=\u001b[0m \u001b[0;34m'Hello, World'\u001b[0m\u001b[0;34m\u001b[0m\u001b[0;34m\u001b[0m\u001b[0m\n\u001b[0;32m---> 12\u001b[0;31m \u001b[0ma\u001b[0m \u001b[0;34m=\u001b[0m \u001b[0mint\u001b[0m\u001b[0;34m(\u001b[0m\u001b[0ma\u001b[0m\u001b[0;34m)\u001b[0m\u001b[0;34m\u001b[0m\u001b[0;34m\u001b[0m\u001b[0m\n\u001b[0m\u001b[1;32m     13\u001b[0m \u001b[0mprint\u001b[0m\u001b[0;34m(\u001b[0m\u001b[0mtype\u001b[0m\u001b[0;34m(\u001b[0m\u001b[0ma\u001b[0m\u001b[0;34m)\u001b[0m\u001b[0;34m,\u001b[0m\u001b[0ma\u001b[0m\u001b[0;34m)\u001b[0m \u001b[0;31m# ValueError\u001b[0m\u001b[0;34m\u001b[0m\u001b[0;34m\u001b[0m\u001b[0m\n",
      "\u001b[0;31mValueError\u001b[0m: invalid literal for int() with base 10: 'Hello, World'"
     ]
    }
   ],
   "source": [
    "# str to int\n",
    "a = '11' \n",
    "a = int(a)\n",
    "print(type(a),a)\n",
    "\n",
    "\n",
    "a = '11.35' \n",
    "a = int(a)\n",
    "print(type(a),a) # ValueError \n",
    "\n",
    "a = 'Hello, World'\n",
    "a = int(a)\n",
    "print(type(a),a) # ValueError "
   ]
  },
  {
   "cell_type": "code",
   "execution_count": 63,
   "metadata": {},
   "outputs": [
    {
     "ename": "TypeError",
     "evalue": "int() argument must be a string, a bytes-like object or a number, not 'NoneType'",
     "output_type": "error",
     "traceback": [
      "\u001b[0;31m---------------------------------------------------------------------------\u001b[0m",
      "\u001b[0;31mTypeError\u001b[0m                                 Traceback (most recent call last)",
      "\u001b[0;32m<ipython-input-63-9353b7b8fa98>\u001b[0m in \u001b[0;36m<module>\u001b[0;34m\u001b[0m\n\u001b[1;32m      1\u001b[0m \u001b[0;31m# None type to int\u001b[0m\u001b[0;34m\u001b[0m\u001b[0;34m\u001b[0m\u001b[0;34m\u001b[0m\u001b[0m\n\u001b[1;32m      2\u001b[0m \u001b[0ma\u001b[0m \u001b[0;34m=\u001b[0m \u001b[0;32mNone\u001b[0m\u001b[0;34m\u001b[0m\u001b[0;34m\u001b[0m\u001b[0m\n\u001b[0;32m----> 3\u001b[0;31m \u001b[0ma\u001b[0m \u001b[0;34m=\u001b[0m \u001b[0mint\u001b[0m\u001b[0;34m(\u001b[0m\u001b[0ma\u001b[0m\u001b[0;34m)\u001b[0m\u001b[0;34m\u001b[0m\u001b[0;34m\u001b[0m\u001b[0m\n\u001b[0m\u001b[1;32m      4\u001b[0m \u001b[0mprint\u001b[0m\u001b[0;34m(\u001b[0m\u001b[0mtype\u001b[0m\u001b[0;34m(\u001b[0m\u001b[0ma\u001b[0m\u001b[0;34m)\u001b[0m\u001b[0;34m,\u001b[0m\u001b[0ma\u001b[0m\u001b[0;34m)\u001b[0m\u001b[0;34m\u001b[0m\u001b[0;34m\u001b[0m\u001b[0m\n",
      "\u001b[0;31mTypeError\u001b[0m: int() argument must be a string, a bytes-like object or a number, not 'NoneType'"
     ]
    }
   ],
   "source": [
    "# None type to int\n",
    "a = None\n",
    "a = int(a)\n",
    "print(type(a),a)"
   ]
  },
  {
   "cell_type": "code",
   "execution_count": 72,
   "metadata": {},
   "outputs": [
    {
     "ename": "TypeError",
     "evalue": "int() argument must be a string, a bytes-like object or a number, not 'list'",
     "output_type": "error",
     "traceback": [
      "\u001b[0;31m---------------------------------------------------------------------------\u001b[0m",
      "\u001b[0;31mTypeError\u001b[0m                                 Traceback (most recent call last)",
      "\u001b[0;32m<ipython-input-72-22b03eee8af5>\u001b[0m in \u001b[0;36m<module>\u001b[0;34m\u001b[0m\n\u001b[1;32m      1\u001b[0m \u001b[0;31m# list to int\u001b[0m\u001b[0;34m\u001b[0m\u001b[0;34m\u001b[0m\u001b[0;34m\u001b[0m\u001b[0m\n\u001b[1;32m      2\u001b[0m \u001b[0ma\u001b[0m \u001b[0;34m=\u001b[0m \u001b[0;34m[\u001b[0m\u001b[0;36m1\u001b[0m\u001b[0;34m]\u001b[0m\u001b[0;34m\u001b[0m\u001b[0;34m\u001b[0m\u001b[0m\n\u001b[0;32m----> 3\u001b[0;31m \u001b[0ma\u001b[0m \u001b[0;34m=\u001b[0m \u001b[0mint\u001b[0m\u001b[0;34m(\u001b[0m\u001b[0ma\u001b[0m\u001b[0;34m)\u001b[0m\u001b[0;34m\u001b[0m\u001b[0;34m\u001b[0m\u001b[0m\n\u001b[0m\u001b[1;32m      4\u001b[0m \u001b[0mprint\u001b[0m\u001b[0;34m(\u001b[0m\u001b[0mtype\u001b[0m\u001b[0;34m(\u001b[0m\u001b[0ma\u001b[0m\u001b[0;34m)\u001b[0m\u001b[0;34m,\u001b[0m\u001b[0ma\u001b[0m\u001b[0;34m)\u001b[0m\u001b[0;34m\u001b[0m\u001b[0;34m\u001b[0m\u001b[0m\n",
      "\u001b[0;31mTypeError\u001b[0m: int() argument must be a string, a bytes-like object or a number, not 'list'"
     ]
    }
   ],
   "source": [
    "# list to int\n",
    "a = [1]\n",
    "a = int(a)\n",
    "print(type(a),a)\n"
   ]
  },
  {
   "cell_type": "code",
   "execution_count": 85,
   "metadata": {},
   "outputs": [
    {
     "ename": "TypeError",
     "evalue": "int() argument must be a string, a bytes-like object or a number, not 'dict'",
     "output_type": "error",
     "traceback": [
      "\u001b[0;31m---------------------------------------------------------------------------\u001b[0m",
      "\u001b[0;31mTypeError\u001b[0m                                 Traceback (most recent call last)",
      "\u001b[0;32m<ipython-input-85-1c6ebefa139b>\u001b[0m in \u001b[0;36m<module>\u001b[0;34m\u001b[0m\n\u001b[1;32m      1\u001b[0m \u001b[0ma\u001b[0m \u001b[0;34m=\u001b[0m \u001b[0;34m{\u001b[0m\u001b[0;34m'key1'\u001b[0m\u001b[0;34m:\u001b[0m\u001b[0;36m123\u001b[0m\u001b[0;34m}\u001b[0m\u001b[0;34m\u001b[0m\u001b[0;34m\u001b[0m\u001b[0m\n\u001b[0;32m----> 2\u001b[0;31m \u001b[0ma\u001b[0m \u001b[0;34m=\u001b[0m \u001b[0mint\u001b[0m\u001b[0;34m(\u001b[0m\u001b[0ma\u001b[0m\u001b[0;34m)\u001b[0m\u001b[0;34m\u001b[0m\u001b[0;34m\u001b[0m\u001b[0m\n\u001b[0m\u001b[1;32m      3\u001b[0m \u001b[0mprint\u001b[0m\u001b[0;34m(\u001b[0m\u001b[0mtype\u001b[0m\u001b[0;34m(\u001b[0m\u001b[0ma\u001b[0m\u001b[0;34m)\u001b[0m\u001b[0;34m,\u001b[0m\u001b[0ma\u001b[0m\u001b[0;34m)\u001b[0m\u001b[0;34m\u001b[0m\u001b[0;34m\u001b[0m\u001b[0m\n",
      "\u001b[0;31mTypeError\u001b[0m: int() argument must be a string, a bytes-like object or a number, not 'dict'"
     ]
    }
   ],
   "source": [
    "a = {'key1':123}\n",
    "a = int(a) \n",
    "print(type(a),a)"
   ]
  },
  {
   "cell_type": "markdown",
   "metadata": {},
   "source": [
    "### str( )\n",
    "* every data type can be converted to str"
   ]
  },
  {
   "cell_type": "code",
   "execution_count": 12,
   "metadata": {},
   "outputs": [
    {
     "name": "stdout",
     "output_type": "stream",
     "text": [
      "<class 'str'> 1223.26\n"
     ]
    }
   ],
   "source": [
    "# str\n",
    "a = '1223.26'\n",
    "print(type(a),a)"
   ]
  },
  {
   "cell_type": "code",
   "execution_count": 36,
   "metadata": {},
   "outputs": [
    {
     "name": "stdout",
     "output_type": "stream",
     "text": [
      "<class 'str'> 11\n"
     ]
    }
   ],
   "source": [
    "# int to str\n",
    "a = 11\n",
    "a = str(a)\n",
    "print(type(a),a)"
   ]
  },
  {
   "cell_type": "code",
   "execution_count": 20,
   "metadata": {},
   "outputs": [
    {
     "name": "stdout",
     "output_type": "stream",
     "text": [
      "<class 'str'> True\n"
     ]
    }
   ],
   "source": [
    "# bool to str\n",
    "a = True\n",
    "a = str(a)\n",
    "print(type(a),a)"
   ]
  },
  {
   "cell_type": "code",
   "execution_count": 37,
   "metadata": {},
   "outputs": [
    {
     "name": "stdout",
     "output_type": "stream",
     "text": [
      "<class 'str'> 11.35\n"
     ]
    }
   ],
   "source": [
    "# float to str\n",
    "a = 11.35\n",
    "a = str(a)\n",
    "print(type(a),a)"
   ]
  },
  {
   "cell_type": "code",
   "execution_count": 61,
   "metadata": {},
   "outputs": [
    {
     "name": "stdout",
     "output_type": "stream",
     "text": [
      "<class 'str'> None\n"
     ]
    }
   ],
   "source": [
    "# empty type to str\n",
    "a = None\n",
    "a = str(a)\n",
    "print(type(a),a)"
   ]
  },
  {
   "cell_type": "code",
   "execution_count": 67,
   "metadata": {},
   "outputs": [
    {
     "name": "stdout",
     "output_type": "stream",
     "text": [
      "<class 'str'> [1, 2, 3]\n"
     ]
    }
   ],
   "source": [
    "# list to str\n",
    "a = [1,2,3]\n",
    "a = str(a)\n",
    "print(type(a),a)"
   ]
  },
  {
   "cell_type": "code",
   "execution_count": 79,
   "metadata": {},
   "outputs": [
    {
     "name": "stdout",
     "output_type": "stream",
     "text": [
      "<class 'str'> {'key1': 11, 'key2': 12}\n"
     ]
    },
    {
     "data": {
      "text/plain": [
       "'{'"
      ]
     },
     "execution_count": 79,
     "metadata": {},
     "output_type": "execute_result"
    }
   ],
   "source": [
    "# dictonary to str\n",
    "a = {'key1':11,'key2':12}\n",
    "a = str(a) \n",
    "print(type(a),a)\n",
    "a[0]"
   ]
  },
  {
   "cell_type": "markdown",
   "metadata": {},
   "source": [
    "### float( )\n",
    "* rules are similar to int"
   ]
  },
  {
   "cell_type": "code",
   "execution_count": 13,
   "metadata": {},
   "outputs": [
    {
     "name": "stdout",
     "output_type": "stream",
     "text": [
      "<class 'float'> 1223.26\n"
     ]
    }
   ],
   "source": [
    "# str to float\n",
    "a = float(a)\n",
    "print(type(a),a)"
   ]
  },
  {
   "cell_type": "code",
   "execution_count": 19,
   "metadata": {},
   "outputs": [
    {
     "name": "stdout",
     "output_type": "stream",
     "text": [
      "<class 'float'> 1.0\n"
     ]
    }
   ],
   "source": [
    "# bool to float\n",
    "a = True\n",
    "a = float(a)\n",
    "print(type(a),a)"
   ]
  },
  {
   "cell_type": "code",
   "execution_count": 35,
   "metadata": {},
   "outputs": [
    {
     "name": "stdout",
     "output_type": "stream",
     "text": [
      "<class 'float'> 11.0\n"
     ]
    }
   ],
   "source": [
    "# int to float\n",
    "a = 11\n",
    "a = float(a)\n",
    "print(type(a),a)"
   ]
  },
  {
   "cell_type": "code",
   "execution_count": 87,
   "metadata": {},
   "outputs": [
    {
     "ename": "TypeError",
     "evalue": "float() argument must be a string or a number, not 'NoneType'",
     "output_type": "error",
     "traceback": [
      "\u001b[0;31m---------------------------------------------------------------------------\u001b[0m",
      "\u001b[0;31mTypeError\u001b[0m                                 Traceback (most recent call last)",
      "\u001b[0;32m<ipython-input-87-ff898a1675e2>\u001b[0m in \u001b[0;36m<module>\u001b[0;34m\u001b[0m\n\u001b[1;32m      1\u001b[0m \u001b[0;31m# empty type to flot\u001b[0m\u001b[0;34m\u001b[0m\u001b[0;34m\u001b[0m\u001b[0;34m\u001b[0m\u001b[0m\n\u001b[1;32m      2\u001b[0m \u001b[0ma\u001b[0m \u001b[0;34m=\u001b[0m \u001b[0;32mNone\u001b[0m\u001b[0;34m\u001b[0m\u001b[0;34m\u001b[0m\u001b[0m\n\u001b[0;32m----> 3\u001b[0;31m \u001b[0ma\u001b[0m \u001b[0;34m=\u001b[0m \u001b[0mfloat\u001b[0m\u001b[0;34m(\u001b[0m\u001b[0ma\u001b[0m\u001b[0;34m)\u001b[0m\u001b[0;34m\u001b[0m\u001b[0;34m\u001b[0m\u001b[0m\n\u001b[0m\u001b[1;32m      4\u001b[0m \u001b[0mprint\u001b[0m\u001b[0;34m(\u001b[0m\u001b[0mtype\u001b[0m\u001b[0;34m(\u001b[0m\u001b[0ma\u001b[0m\u001b[0;34m)\u001b[0m\u001b[0;34m,\u001b[0m\u001b[0ma\u001b[0m\u001b[0;34m)\u001b[0m\u001b[0;34m\u001b[0m\u001b[0;34m\u001b[0m\u001b[0m\n",
      "\u001b[0;31mTypeError\u001b[0m: float() argument must be a string or a number, not 'NoneType'"
     ]
    }
   ],
   "source": [
    "# empty type to flot\n",
    "a = None\n",
    "a = float(a)\n",
    "print(type(a),a) #TypeError"
   ]
  },
  {
   "cell_type": "code",
   "execution_count": 88,
   "metadata": {},
   "outputs": [
    {
     "ename": "TypeError",
     "evalue": "int() argument must be a string, a bytes-like object or a number, not 'list'",
     "output_type": "error",
     "traceback": [
      "\u001b[0;31m---------------------------------------------------------------------------\u001b[0m",
      "\u001b[0;31mTypeError\u001b[0m                                 Traceback (most recent call last)",
      "\u001b[0;32m<ipython-input-88-22b03eee8af5>\u001b[0m in \u001b[0;36m<module>\u001b[0;34m\u001b[0m\n\u001b[1;32m      1\u001b[0m \u001b[0;31m# list to int\u001b[0m\u001b[0;34m\u001b[0m\u001b[0;34m\u001b[0m\u001b[0;34m\u001b[0m\u001b[0m\n\u001b[1;32m      2\u001b[0m \u001b[0ma\u001b[0m \u001b[0;34m=\u001b[0m \u001b[0;34m[\u001b[0m\u001b[0;36m1\u001b[0m\u001b[0;34m]\u001b[0m\u001b[0;34m\u001b[0m\u001b[0;34m\u001b[0m\u001b[0m\n\u001b[0;32m----> 3\u001b[0;31m \u001b[0ma\u001b[0m \u001b[0;34m=\u001b[0m \u001b[0mint\u001b[0m\u001b[0;34m(\u001b[0m\u001b[0ma\u001b[0m\u001b[0;34m)\u001b[0m\u001b[0;34m\u001b[0m\u001b[0;34m\u001b[0m\u001b[0m\n\u001b[0m\u001b[1;32m      4\u001b[0m \u001b[0mprint\u001b[0m\u001b[0;34m(\u001b[0m\u001b[0mtype\u001b[0m\u001b[0;34m(\u001b[0m\u001b[0ma\u001b[0m\u001b[0;34m)\u001b[0m\u001b[0;34m,\u001b[0m\u001b[0ma\u001b[0m\u001b[0;34m)\u001b[0m\u001b[0;34m\u001b[0m\u001b[0;34m\u001b[0m\u001b[0m\n",
      "\u001b[0;31mTypeError\u001b[0m: int() argument must be a string, a bytes-like object or a number, not 'list'"
     ]
    }
   ],
   "source": [
    "# list to int\n",
    "a = [1]\n",
    "a = int(a)\n",
    "print(type(a),a )# TypeError"
   ]
  },
  {
   "cell_type": "code",
   "execution_count": 89,
   "metadata": {},
   "outputs": [
    {
     "ename": "TypeError",
     "evalue": "float() argument must be a string or a number, not 'dict'",
     "output_type": "error",
     "traceback": [
      "\u001b[0;31m---------------------------------------------------------------------------\u001b[0m",
      "\u001b[0;31mTypeError\u001b[0m                                 Traceback (most recent call last)",
      "\u001b[0;32m<ipython-input-89-b512a5fdbd18>\u001b[0m in \u001b[0;36m<module>\u001b[0;34m\u001b[0m\n\u001b[1;32m      1\u001b[0m \u001b[0ma\u001b[0m \u001b[0;34m=\u001b[0m \u001b[0;34m{\u001b[0m\u001b[0;34m'key1'\u001b[0m\u001b[0;34m:\u001b[0m\u001b[0;36m123\u001b[0m\u001b[0;34m}\u001b[0m\u001b[0;34m\u001b[0m\u001b[0;34m\u001b[0m\u001b[0m\n\u001b[0;32m----> 2\u001b[0;31m \u001b[0ma\u001b[0m \u001b[0;34m=\u001b[0m \u001b[0mfloat\u001b[0m\u001b[0;34m(\u001b[0m\u001b[0ma\u001b[0m\u001b[0;34m)\u001b[0m\u001b[0;34m\u001b[0m\u001b[0;34m\u001b[0m\u001b[0m\n\u001b[0m\u001b[1;32m      3\u001b[0m \u001b[0mprint\u001b[0m\u001b[0;34m(\u001b[0m\u001b[0mtype\u001b[0m\u001b[0;34m(\u001b[0m\u001b[0ma\u001b[0m\u001b[0;34m)\u001b[0m\u001b[0;34m,\u001b[0m\u001b[0ma\u001b[0m\u001b[0;34m)\u001b[0m\u001b[0;34m\u001b[0m\u001b[0;34m\u001b[0m\u001b[0m\n",
      "\u001b[0;31mTypeError\u001b[0m: float() argument must be a string or a number, not 'dict'"
     ]
    }
   ],
   "source": [
    "a = {'key1':123}\n",
    "a = float(a) \n",
    "print(type(a),a) #TypeError"
   ]
  },
  {
   "cell_type": "markdown",
   "metadata": {},
   "source": [
    "# Mutable vs Inmutable?"
   ]
  },
  {
   "cell_type": "markdown",
   "metadata": {},
   "source": [
    "### Mutable\n",
    "\n",
    "* List\n",
    "* Dictionary\n",
    "* Set"
   ]
  },
  {
   "cell_type": "code",
   "execution_count": 231,
   "metadata": {},
   "outputs": [
    {
     "name": "stdout",
     "output_type": "stream",
     "text": [
      "<class 'list'> [4, 2, 1, 3, 4]\n"
     ]
    },
    {
     "data": {
      "text/plain": [
       "[99999, 2, 1, 3, 4]"
      ]
     },
     "execution_count": 231,
     "metadata": {},
     "output_type": "execute_result"
    }
   ],
   "source": [
    "# List\n",
    "List = [4,2,1,3,4]\n",
    "print(type(List),List)\n",
    "\n",
    "List[0]\n",
    "\n",
    "List[0]=99999\n",
    "List # 1st element changed\n",
    "\n",
    "# More expample check List chapter"
   ]
  },
  {
   "cell_type": "code",
   "execution_count": 120,
   "metadata": {},
   "outputs": [
    {
     "data": {
      "text/plain": [
       "'now it changed to None'"
      ]
     },
     "execution_count": 120,
     "metadata": {},
     "output_type": "execute_result"
    }
   ],
   "source": [
    "# Dictonary\n",
    "\n",
    "Dictonary = {'key1':1,\n",
    "             'key2':'value2',\n",
    "             'key3':False,\n",
    "             3:3,\n",
    "             123.3:123.3,\n",
    "             True:False,\n",
    "             None:'not None',\n",
    "             4:None,\n",
    "             5:[12,32]\n",
    "            }\n",
    "\n",
    "Dictonary[None] = 'now it changed to None'\n",
    "Dictonary[None]"
   ]
  },
  {
   "cell_type": "code",
   "execution_count": 232,
   "metadata": {},
   "outputs": [
    {
     "data": {
      "text/plain": [
       "{2, 3, 4}"
      ]
     },
     "execution_count": 232,
     "metadata": {},
     "output_type": "execute_result"
    }
   ],
   "source": [
    "# Set\n",
    "a = {4,2,1,3,4}\n",
    "a.pop()\n",
    "a"
   ]
  },
  {
   "cell_type": "markdown",
   "metadata": {},
   "source": [
    "### Inmutable\n",
    "* Numeric(int/float/complex)\n",
    "* Boolean\n",
    "* String\n",
    "* Tuple；"
   ]
  },
  {
   "cell_type": "code",
   "execution_count": 235,
   "metadata": {},
   "outputs": [
    {
     "ename": "TypeError",
     "evalue": "'str' object does not support item assignment",
     "output_type": "error",
     "traceback": [
      "\u001b[0;31m---------------------------------------------------------------------------\u001b[0m",
      "\u001b[0;31mTypeError\u001b[0m                                 Traceback (most recent call last)",
      "\u001b[0;32m<ipython-input-235-e1af8b0fd327>\u001b[0m in \u001b[0;36m<module>\u001b[0;34m\u001b[0m\n\u001b[1;32m      1\u001b[0m \u001b[0ma\u001b[0m \u001b[0;34m=\u001b[0m \u001b[0;34m'123'\u001b[0m\u001b[0;34m\u001b[0m\u001b[0;34m\u001b[0m\u001b[0m\n\u001b[1;32m      2\u001b[0m \u001b[0ma\u001b[0m\u001b[0;34m[\u001b[0m\u001b[0;36m1\u001b[0m\u001b[0;34m]\u001b[0m\u001b[0;34m\u001b[0m\u001b[0;34m\u001b[0m\u001b[0m\n\u001b[0;32m----> 3\u001b[0;31m \u001b[0ma\u001b[0m\u001b[0;34m[\u001b[0m\u001b[0;36m1\u001b[0m\u001b[0;34m]\u001b[0m\u001b[0;34m=\u001b[0m\u001b[0;34m'1'\u001b[0m\u001b[0;34m\u001b[0m\u001b[0;34m\u001b[0m\u001b[0m\n\u001b[0m",
      "\u001b[0;31mTypeError\u001b[0m: 'str' object does not support item assignment"
     ]
    }
   ],
   "source": [
    "a = '123'\n",
    "a[1]\n",
    "a[1]='1'"
   ]
  },
  {
   "cell_type": "code",
   "execution_count": 237,
   "metadata": {},
   "outputs": [
    {
     "ename": "TypeError",
     "evalue": "'tuple' object does not support item assignment",
     "output_type": "error",
     "traceback": [
      "\u001b[0;31m---------------------------------------------------------------------------\u001b[0m",
      "\u001b[0;31mTypeError\u001b[0m                                 Traceback (most recent call last)",
      "\u001b[0;32m<ipython-input-237-c2669008c361>\u001b[0m in \u001b[0;36m<module>\u001b[0;34m\u001b[0m\n\u001b[1;32m      1\u001b[0m \u001b[0ma\u001b[0m \u001b[0;34m=\u001b[0m \u001b[0;34m(\u001b[0m\u001b[0;36m1\u001b[0m\u001b[0;34m,\u001b[0m\u001b[0;36m2\u001b[0m\u001b[0;34m,\u001b[0m\u001b[0;36m3\u001b[0m\u001b[0;34m)\u001b[0m\u001b[0;34m\u001b[0m\u001b[0;34m\u001b[0m\u001b[0m\n\u001b[1;32m      2\u001b[0m \u001b[0ma\u001b[0m\u001b[0;34m[\u001b[0m\u001b[0;36m1\u001b[0m\u001b[0;34m]\u001b[0m\u001b[0;34m\u001b[0m\u001b[0;34m\u001b[0m\u001b[0m\n\u001b[0;32m----> 3\u001b[0;31m \u001b[0ma\u001b[0m\u001b[0;34m[\u001b[0m\u001b[0;36m1\u001b[0m\u001b[0;34m]\u001b[0m\u001b[0;34m=\u001b[0m \u001b[0;36m1\u001b[0m\u001b[0;34m\u001b[0m\u001b[0;34m\u001b[0m\u001b[0m\n\u001b[0m",
      "\u001b[0;31mTypeError\u001b[0m: 'tuple' object does not support item assignment"
     ]
    }
   ],
   "source": [
    "a = (1,2,3)\n",
    "a[1]\n",
    "a[1]= 1"
   ]
  },
  {
   "cell_type": "code",
   "execution_count": 238,
   "metadata": {},
   "outputs": [
    {
     "ename": "TypeError",
     "evalue": "'bool' object is not subscriptable",
     "output_type": "error",
     "traceback": [
      "\u001b[0;31m---------------------------------------------------------------------------\u001b[0m",
      "\u001b[0;31mTypeError\u001b[0m                                 Traceback (most recent call last)",
      "\u001b[0;32m<ipython-input-238-69c57e0f5af6>\u001b[0m in \u001b[0;36m<module>\u001b[0;34m\u001b[0m\n\u001b[1;32m      1\u001b[0m \u001b[0ma\u001b[0m \u001b[0;34m=\u001b[0m \u001b[0;32mTrue\u001b[0m\u001b[0;34m\u001b[0m\u001b[0;34m\u001b[0m\u001b[0m\n\u001b[0;32m----> 2\u001b[0;31m \u001b[0ma\u001b[0m\u001b[0;34m[\u001b[0m\u001b[0;36m1\u001b[0m\u001b[0;34m]\u001b[0m\u001b[0;34m\u001b[0m\u001b[0;34m\u001b[0m\u001b[0m\n\u001b[0m",
      "\u001b[0;31mTypeError\u001b[0m: 'bool' object is not subscriptable"
     ]
    }
   ],
   "source": [
    "a = True\n",
    "# you can assign a to a new value\n",
    "a = False\n",
    "a[1] # but you can not indexing or slicing"
   ]
  },
  {
   "cell_type": "code",
   "execution_count": 239,
   "metadata": {},
   "outputs": [
    {
     "ename": "TypeError",
     "evalue": "'int' object is not subscriptable",
     "output_type": "error",
     "traceback": [
      "\u001b[0;31m---------------------------------------------------------------------------\u001b[0m",
      "\u001b[0;31mTypeError\u001b[0m                                 Traceback (most recent call last)",
      "\u001b[0;32m<ipython-input-239-d77b277d0f9d>\u001b[0m in \u001b[0;36m<module>\u001b[0;34m\u001b[0m\n\u001b[1;32m      1\u001b[0m \u001b[0ma\u001b[0m \u001b[0;34m=\u001b[0m \u001b[0;36m123\u001b[0m\u001b[0;34m\u001b[0m\u001b[0;34m\u001b[0m\u001b[0m\n\u001b[0;32m----> 2\u001b[0;31m \u001b[0ma\u001b[0m\u001b[0;34m[\u001b[0m\u001b[0;36m1\u001b[0m\u001b[0;34m]\u001b[0m\u001b[0;34m\u001b[0m\u001b[0;34m\u001b[0m\u001b[0m\n\u001b[0m",
      "\u001b[0;31mTypeError\u001b[0m: 'int' object is not subscriptable"
     ]
    }
   ],
   "source": [
    "# same as boolean\n",
    "a = 123\n",
    "a[1]\n"
   ]
  },
  {
   "cell_type": "code",
   "execution_count": 1,
   "metadata": {},
   "outputs": [
    {
     "name": "stdout",
     "output_type": "stream",
     "text": [
      "code lines 239\n"
     ]
    }
   ],
   "source": [
    "print('code lines 239')"
   ]
  },
  {
   "cell_type": "code",
   "execution_count": null,
   "metadata": {},
   "outputs": [],
   "source": []
  }
 ],
 "metadata": {
  "kernelspec": {
   "display_name": "Python 3",
   "language": "python",
   "name": "python3"
  },
  "language_info": {
   "codemirror_mode": {
    "name": "ipython",
    "version": 3
   },
   "file_extension": ".py",
   "mimetype": "text/x-python",
   "name": "python",
   "nbconvert_exporter": "python",
   "pygments_lexer": "ipython3",
   "version": "3.7.1"
  }
 },
 "nbformat": 4,
 "nbformat_minor": 2
}
