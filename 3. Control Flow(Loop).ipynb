{
 "cells": [
  {
   "cell_type": "markdown",
   "metadata": {},
   "source": [
    "<div class=\"alert alert-block alert-info\" style=\"margin: 20px\">\n"
   ]
  },
  {
   "cell_type": "markdown",
   "metadata": {},
   "source": [
    "# If Statement"
   ]
  },
  {
   "attachments": {},
   "cell_type": "markdown",
   "metadata": {},
   "source": [
    "![ifstatement](https://raw.githubusercontent.com/devin19940107/My-Python-Notebook/master/supporting%20files/Images/if_statement.jpg)"
   ]
  },
  {
   "cell_type": "code",
   "execution_count": 2,
   "metadata": {},
   "outputs": [
    {
     "name": "stdout",
     "output_type": "stream",
     "text": [
      "the value of x >= 50\n",
      "done!\n",
      "the value of x < 200\n",
      "the value of x >= 50 and <200\n",
      "the value of x >= 200 and x<y\n"
     ]
    }
   ],
   "source": [
    "x=100\n",
    "\n",
    "# simple if statement\n",
    "# each control line must end with colon (:) \n",
    "if x>=50:   \n",
    "    # each line in the block should be \n",
    "    # indented with the same amount                                  \n",
    "    print (\"the value of x >= 50\")   \n",
    "    print(\"done!\")\n",
    "\n",
    "# if...else statement\n",
    "if x>=200:\n",
    "    print (\"the value of x >= 200\")\n",
    "else:\n",
    "    print (\"the value of x < 200\")\n",
    "\n",
    "# if...elif...else statement\n",
    "if x>=200:\n",
    "    print (\"the value of x >= 200\")\n",
    "elif x>=50:\n",
    "    print (\"the value of x >= 50 and <200\")\n",
    "else:\n",
    "    print (\"the value of x < 50\")\n",
    "    \n",
    "# nested statements\n",
    "x=300\n",
    "y=500\n",
    "if x>=200:\n",
    "    \n",
    "    # inner \"if\" and \"else\" need to indent the same amount\n",
    "    if x>=y:                                                 \n",
    "        print (\"the value of x >= 200 and x>=y\")\n",
    "    else:\n",
    "        print (\"the value of x >= 200 and x<y\")\n",
    "else:\n",
    "    print (\"the value of x < 200\")"
   ]
  },
  {
   "cell_type": "markdown",
   "metadata": {},
   "source": [
    "# Loop statements: while"
   ]
  },
  {
   "cell_type": "markdown",
   "metadata": {},
   "source": [
    "![whilestatement](https://raw.githubusercontent.com/devin19940107/My-Python-Notebook/master/supporting%20files/Images/whilestatement.jpg)"
   ]
  },
  {
   "cell_type": "code",
   "execution_count": 3,
   "metadata": {},
   "outputs": [
    {
     "name": "stdout",
     "output_type": "stream",
     "text": [
      "1\n",
      "2\n",
      "3\n",
      "4\n"
     ]
    }
   ],
   "source": [
    "x=1\n",
    "# in each round, the condition following 'while' is evaluated       \n",
    "while x<5:    \n",
    "    # continue the block if the conidtion is true\n",
    "    print (x)           \n",
    "    x+=1\n",
    "    "
   ]
  },
  {
   "cell_type": "markdown",
   "metadata": {},
   "source": [
    "# Loop statements: For"
   ]
  },
  {
   "cell_type": "code",
   "execution_count": null,
   "metadata": {},
   "outputs": [],
   "source": []
  }
 ],
 "metadata": {
  "kernelspec": {
   "display_name": "Python 3",
   "language": "python",
   "name": "python3"
  },
  "language_info": {
   "codemirror_mode": {
    "name": "ipython",
    "version": 3
   },
   "file_extension": ".py",
   "mimetype": "text/x-python",
   "name": "python",
   "nbconvert_exporter": "python",
   "pygments_lexer": "ipython3",
   "version": "3.7.1"
  }
 },
 "nbformat": 4,
 "nbformat_minor": 2
}
