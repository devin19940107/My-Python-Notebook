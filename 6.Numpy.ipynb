{
 "cells": [
  {
   "cell_type": "markdown",
   "metadata": {},
   "source": [
    "# Numpy\n",
    "- Numpy is the core library for scientific computing in Python. It provides high-performance multidimensional array objects, and tools for working with these arrays. \n",
    "\n",
    "- A numpy **array** is a grid of values, usually of the same type, although technically you can store values of different types (this may complicate array operation). \n",
    "    - The number of dimensions is the **rank** of the array\n",
    "    - The **shape** of an array is a tuple of integers giving the size of the array along each dimension\n",
    "      * e.g. array([5, 2, 3]) has shape (3,) \n",
    "      * e.g. array([[5, 2, 3], [1,2,3]]) has shape (2,3)\n",
    "    - Numpy arrays can be initialized from nested Python lists, and access elements using square brackets"
   ]
  },
  {
   "cell_type": "markdown",
   "metadata": {},
   "source": [
    "![](https://raw.githubusercontent.com/devin19940107/My-Python-Notebook/master/supporting%20files/Images/matrix.jpg)"
   ]
  },
  {
   "cell_type": "markdown",
   "metadata": {},
   "source": [
    "![](https://raw.githubusercontent.com/devin19940107/My-Python-Notebook/master/supporting%20files/Images/scalar-vector-matrix-tensor.jpeg)"
   ]
  },
  {
   "cell_type": "markdown",
   "metadata": {},
   "source": [
    "![](https://raw.githubusercontent.com/devin19940107/My-Python-Notebook/master/supporting%20files/Images/dimension.png)"
   ]
  },
  {
   "cell_type": "code",
   "execution_count": 6,
   "metadata": {},
   "outputs": [],
   "source": [
    "import numpy as np # always import numpy 1st"
   ]
  },
  {
   "cell_type": "markdown",
   "metadata": {},
   "source": [
    "# Creating an array"
   ]
  },
  {
   "cell_type": "code",
   "execution_count": 13,
   "metadata": {},
   "outputs": [
    {
     "name": "stdout",
     "output_type": "stream",
     "text": [
      "42\n"
     ]
    }
   ],
   "source": [
    "# 0-D Array\n",
    "arr = np.array(42)\n",
    "\n",
    "print(arr)"
   ]
  },
  {
   "cell_type": "code",
   "execution_count": 14,
   "metadata": {},
   "outputs": [
    {
     "data": {
      "text/plain": [
       "array([1, 2, 3, 4, 5, 6, 7, 8, 9])"
      ]
     },
     "execution_count": 14,
     "metadata": {},
     "output_type": "execute_result"
    }
   ],
   "source": [
    "# 1-D Array\n",
    "data1 = [1,2,3,4,5,6,7,8,9]\n",
    "arr1 = np.array(data1)\n",
    "arr1"
   ]
  },
  {
   "cell_type": "code",
   "execution_count": 15,
   "metadata": {},
   "outputs": [
    {
     "data": {
      "text/plain": [
       "array([[1, 2, 3, 4],\n",
       "       [5, 6, 7, 8]])"
      ]
     },
     "execution_count": 15,
     "metadata": {},
     "output_type": "execute_result"
    }
   ],
   "source": [
    "# 2D Array\n",
    "data2 = [[1, 2, 3, 4], [5, 6, 7, 8]]\n",
    "arr2 = np.array(data2)\n",
    "arr2"
   ]
  },
  {
   "cell_type": "code",
   "execution_count": 16,
   "metadata": {},
   "outputs": [
    {
     "name": "stdout",
     "output_type": "stream",
     "text": [
      "[[[1 2 3]\n",
      "  [4 5 6]]\n",
      "\n",
      " [[1 2 3]\n",
      "  [4 5 6]]]\n"
     ]
    }
   ],
   "source": [
    "#3D array\n",
    "arr3 = np.array([[[1, 2, 3], [4, 5, 6]], [[1, 2, 3], [4, 5, 6]]])\n",
    "\n",
    "print(arr3)"
   ]
  },
  {
   "cell_type": "markdown",
   "metadata": {},
   "source": [
    "# Dimension"
   ]
  },
  {
   "cell_type": "code",
   "execution_count": 18,
   "metadata": {},
   "outputs": [
    {
     "name": "stdout",
     "output_type": "stream",
     "text": [
      "0\n",
      "1\n",
      "2\n",
      "3\n"
     ]
    }
   ],
   "source": [
    "print(arr.ndim)\n",
    "print(arr1.ndim)\n",
    "print(arr2.ndim)\n",
    "print(arr3.ndim)"
   ]
  },
  {
   "cell_type": "markdown",
   "metadata": {},
   "source": [
    "# Rank (shape) \n",
    "\n",
    "* Number of dimensions of the array is called rank of the array"
   ]
  },
  {
   "cell_type": "code",
   "execution_count": 35,
   "metadata": {},
   "outputs": [
    {
     "name": "stdout",
     "output_type": "stream",
     "text": [
      "42 rank is---> ()\n",
      "[[1,2,3,4,5,6,7,8,9]] rank is------> (9,)\n",
      "[[1, 2, 3, 4], [5, 6, 7, 8]] rank is -----> (2, 4)\n",
      "[[1, 2, 3], [4, 5, 6]], [[1, 2, 3], [4, 5, 6]]] rank is -----> (2, 2, 3)\n"
     ]
    }
   ],
   "source": [
    "print('42 rank is--->',arr.shape)\n",
    "print('[[1,2,3,4,5,6,7,8,9]] rank is------>',arr1.shape)\n",
    "print('[[1, 2, 3, 4], [5, 6, 7, 8]] rank is ----->',arr2.shape)\n",
    "print('[[1, 2, 3], [4, 5, 6]], [[1, 2, 3], [4, 5, 6]]] rank is ----->',arr3.shape)\n"
   ]
  },
  {
   "cell_type": "code",
   "execution_count": 135,
   "metadata": {},
   "outputs": [
    {
     "data": {
      "text/plain": [
       "array([[1, 2],\n",
       "       [3, 3],\n",
       "       [2, 1]])"
      ]
     },
     "execution_count": 135,
     "metadata": {},
     "output_type": "execute_result"
    }
   ],
   "source": [
    "# also we can reshape \n",
    "ary = np.array([[1,2,3],\n",
    "                [3,2,1]])  # shape is 2x3\n",
    "\n",
    "ary.reshape(3,2) # reshape to 3x2"
   ]
  },
  {
   "cell_type": "markdown",
   "metadata": {},
   "source": [
    "# Type & Dtype"
   ]
  },
  {
   "cell_type": "code",
   "execution_count": 56,
   "metadata": {},
   "outputs": [
    {
     "name": "stdout",
     "output_type": "stream",
     "text": [
      "type of arr: <class 'numpy.ndarray'>\n",
      "dtype of arr: int64\n",
      "----------------------------------\n",
      "type of arr1: <class 'numpy.ndarray'>\n",
      "dtype of arr1: int64\n",
      "----------------------------------\n",
      "type of arr2: <class 'numpy.ndarray'>\n",
      "dtype of arr2: int64\n",
      "----------------------------------\n",
      "type of arr3: <class 'numpy.ndarray'>\n",
      "dtype of arr3: int64\n"
     ]
    }
   ],
   "source": [
    "print('type of arr:',type(arr))\n",
    "print('dtype of arr:',arr.dtype)\n",
    "print('----------------------------------')\n",
    "print('type of arr1:',type(arr1))\n",
    "print('dtype of arr1:',arr1.dtype)\n",
    "print('----------------------------------')\n",
    "print('type of arr2:',type(arr2))\n",
    "print('dtype of arr2:',arr2.dtype)\n",
    "print('----------------------------------')\n",
    "print('type of arr3:',type(arr3))\n",
    "print('dtype of arr3:',arr3.dtype)"
   ]
  },
  {
   "cell_type": "code",
   "execution_count": 54,
   "metadata": {},
   "outputs": [
    {
     "name": "stdout",
     "output_type": "stream",
     "text": [
      "type of arr4: <class 'numpy.ndarray'>\n",
      "dtype of arr4: float64\n"
     ]
    }
   ],
   "source": [
    "arr4 = np.array([[1,2,3,4,5,6,7,8.5]]) # when there is a float, all data type converted to float\n",
    "print('type of arr4:',type(arr4))\n",
    "print('dtype of arr4:',arr4.dtype)"
   ]
  },
  {
   "cell_type": "code",
   "execution_count": null,
   "metadata": {},
   "outputs": [],
   "source": []
  },
  {
   "cell_type": "markdown",
   "metadata": {},
   "source": [
    "# Specical Maxtix / Array\n",
    "#### *zeros*\n",
    "\n",
    "\n",
    "<font color = green>numpy.zeros(shape, dtype=float, order='C'')  \n",
    "    \n",
    "* shape : Shape of the new array\n",
    "* dtype : Data-type of the returned array. [optional]\n",
    "* order: C - columon wise; R - row wise. [optional]"
   ]
  },
  {
   "cell_type": "code",
   "execution_count": 61,
   "metadata": {},
   "outputs": [
    {
     "data": {
      "text/plain": [
       "array([0., 0., 0., 0., 0.])"
      ]
     },
     "execution_count": 61,
     "metadata": {},
     "output_type": "execute_result"
    }
   ],
   "source": [
    "np.zeros(5) # np.zeros(shape)"
   ]
  },
  {
   "cell_type": "code",
   "execution_count": 62,
   "metadata": {},
   "outputs": [
    {
     "data": {
      "text/plain": [
       "array([[0., 0.],\n",
       "       [0., 0.],\n",
       "       [0., 0.]])"
      ]
     },
     "execution_count": 62,
     "metadata": {},
     "output_type": "execute_result"
    }
   ],
   "source": [
    "np.zeros((3,2)) "
   ]
  },
  {
   "cell_type": "markdown",
   "metadata": {},
   "source": [
    "#### *ones*\n",
    "\n",
    "\n",
    "<font color = green>numpy.ones(shape,dtype=None, order='C'')  \n",
    "    \n",
    "* shape : Shape of the new array\n",
    "* dtype : Data-type of the returned array. [optional]\n",
    "* order: C - columon wise; R - row wise. [optional]"
   ]
  },
  {
   "cell_type": "code",
   "execution_count": 59,
   "metadata": {},
   "outputs": [
    {
     "data": {
      "text/plain": [
       "array([1., 1., 1., 1., 1., 1., 1., 1., 1., 1.])"
      ]
     },
     "execution_count": 59,
     "metadata": {},
     "output_type": "execute_result"
    }
   ],
   "source": [
    "np.ones(5)# np.ones(shape)"
   ]
  },
  {
   "cell_type": "code",
   "execution_count": 63,
   "metadata": {},
   "outputs": [
    {
     "data": {
      "text/plain": [
       "array([[1., 1.],\n",
       "       [1., 1.],\n",
       "       [1., 1.]])"
      ]
     },
     "execution_count": 63,
     "metadata": {},
     "output_type": "execute_result"
    }
   ],
   "source": [
    "np.ones((3,2)) "
   ]
  },
  {
   "cell_type": "markdown",
   "metadata": {},
   "source": [
    "#### *empty*\n",
    "\n",
    "<font color = green>numpy.empty(shape, dtype=float, order='C'')  \n",
    "    \n",
    "* shape : Shape of the new array\n",
    "* dtype : Data-type of the returned array. [optional]\n",
    "* order: C - columon wise; R - row wise. [optional]"
   ]
  },
  {
   "cell_type": "code",
   "execution_count": 77,
   "metadata": {},
   "outputs": [
    {
     "data": {
      "text/plain": [
       "array([0., 0., 0., 0., 0.])"
      ]
     },
     "execution_count": 77,
     "metadata": {},
     "output_type": "execute_result"
    }
   ],
   "source": [
    "np.empty(5)"
   ]
  },
  {
   "cell_type": "code",
   "execution_count": 78,
   "metadata": {},
   "outputs": [
    {
     "data": {
      "text/plain": [
       "array([[ 2.31584178e+077, -2.68678219e+154,  3.95252517e-323],\n",
       "       [ 0.00000000e+000,  0.00000000e+000,  0.00000000e+000],\n",
       "       [ 0.00000000e+000,  0.00000000e+000,  0.00000000e+000]])"
      ]
     },
     "execution_count": 78,
     "metadata": {},
     "output_type": "execute_result"
    }
   ],
   "source": [
    "np.empty((3,3))"
   ]
  },
  {
   "cell_type": "markdown",
   "metadata": {},
   "source": [
    "#### *constant*\n",
    "\n",
    "<font color = green>numpy.full(shape, fill_value, dtype=None, order='C')  \n",
    "    \n",
    "* shape : Shape of the new array\n",
    "* fill_value : value to be filled\n",
    "* dtype : Data-type of the returned array. [optional]\n",
    "* order: C - columon wise; R - row wise. [optional]"
   ]
  },
  {
   "cell_type": "code",
   "execution_count": 80,
   "metadata": {},
   "outputs": [
    {
     "data": {
      "text/plain": [
       "array([3, 3, 3, 3, 3])"
      ]
     },
     "execution_count": 80,
     "metadata": {},
     "output_type": "execute_result"
    }
   ],
   "source": [
    "np.full(5, 3) # np.full(shape, number)"
   ]
  },
  {
   "cell_type": "code",
   "execution_count": 74,
   "metadata": {},
   "outputs": [
    {
     "data": {
      "text/plain": [
       "array([[7, 7],\n",
       "       [7, 7]])"
      ]
     },
     "execution_count": 74,
     "metadata": {},
     "output_type": "execute_result"
    }
   ],
   "source": [
    "np.full((2,2), 7)"
   ]
  },
  {
   "cell_type": "markdown",
   "metadata": {},
   "source": [
    "#### *identity matrix*\n",
    "<font color = green>numpy.eye(N, M=None, k=0, dtype=<class 'float'>, order='C')  \n",
    "    \n",
    "* N : Number of rows in the output.\n",
    "* M : Number of columns in the output.[optional]\n",
    "* k : Index of the diagonal.[optional]\n",
    "* dtype : Data-type of the returned array. [optional]\n",
    "* order: C - columon wise; R - row wise. [optional]"
   ]
  },
  {
   "cell_type": "code",
   "execution_count": 89,
   "metadata": {},
   "outputs": [
    {
     "data": {
      "text/plain": [
       "array([[1., 0.],\n",
       "       [0., 1.]])"
      ]
     },
     "execution_count": 89,
     "metadata": {},
     "output_type": "execute_result"
    }
   ],
   "source": [
    "np.eye(2) # passby one number generate a Square matrix"
   ]
  },
  {
   "cell_type": "code",
   "execution_count": 86,
   "metadata": {},
   "outputs": [
    {
     "data": {
      "text/plain": [
       "array([[1., 0.],\n",
       "       [0., 1.],\n",
       "       [0., 0.]])"
      ]
     },
     "execution_count": 86,
     "metadata": {},
     "output_type": "execute_result"
    }
   ],
   "source": [
    "np.eye(3,2) # pass by a shape, it generate a matrix by shape"
   ]
  },
  {
   "cell_type": "code",
   "execution_count": 88,
   "metadata": {},
   "outputs": [
    {
     "data": {
      "text/plain": [
       "array([[0., 1., 0.],\n",
       "       [0., 0., 1.],\n",
       "       [0., 0., 0.]])"
      ]
     },
     "execution_count": 88,
     "metadata": {},
     "output_type": "execute_result"
    }
   ],
   "source": [
    "np.eye(3,k=1)"
   ]
  },
  {
   "cell_type": "markdown",
   "metadata": {},
   "source": [
    "# Operator"
   ]
  },
  {
   "cell_type": "markdown",
   "metadata": {},
   "source": [
    "### Numeric Operator"
   ]
  },
  {
   "cell_type": "code",
   "execution_count": 111,
   "metadata": {},
   "outputs": [
    {
     "data": {
      "text/plain": [
       "[1, 2, 3, 1, 2, 3]"
      ]
     },
     "execution_count": 111,
     "metadata": {},
     "output_type": "execute_result"
    }
   ],
   "source": [
    "[1,2,3]+[1,2,3] # list"
   ]
  },
  {
   "cell_type": "code",
   "execution_count": 91,
   "metadata": {},
   "outputs": [
    {
     "data": {
      "text/plain": [
       "array([[1., 2., 3.],\n",
       "       [4., 5., 6.]])"
      ]
     },
     "execution_count": 91,
     "metadata": {},
     "output_type": "execute_result"
    }
   ],
   "source": [
    "arr = np.array([[1., 2., 3.], [4., 5., 6.]])\n",
    "arr # array"
   ]
  },
  {
   "cell_type": "code",
   "execution_count": 93,
   "metadata": {},
   "outputs": [
    {
     "data": {
      "text/plain": [
       "array([[ 4.,  8., 12.],\n",
       "       [16., 20., 24.]])"
      ]
     },
     "execution_count": 93,
     "metadata": {},
     "output_type": "execute_result"
    }
   ],
   "source": [
    "arr + arr"
   ]
  },
  {
   "cell_type": "code",
   "execution_count": 105,
   "metadata": {},
   "outputs": [
    {
     "data": {
      "text/plain": [
       "array([[102., 104., 106.],\n",
       "       [108., 110., 112.]])"
      ]
     },
     "execution_count": 105,
     "metadata": {},
     "output_type": "execute_result"
    }
   ],
   "source": [
    "arr+100"
   ]
  },
  {
   "cell_type": "code",
   "execution_count": 94,
   "metadata": {},
   "outputs": [
    {
     "data": {
      "text/plain": [
       "array([[  4.,  16.,  36.],\n",
       "       [ 64., 100., 144.]])"
      ]
     },
     "execution_count": 94,
     "metadata": {},
     "output_type": "execute_result"
    }
   ],
   "source": [
    "arr * arr"
   ]
  },
  {
   "cell_type": "code",
   "execution_count": 106,
   "metadata": {},
   "outputs": [
    {
     "data": {
      "text/plain": [
       "array([[ 200.,  400.,  600.],\n",
       "       [ 800., 1000., 1200.]])"
      ]
     },
     "execution_count": 106,
     "metadata": {},
     "output_type": "execute_result"
    }
   ],
   "source": [
    "arr*100"
   ]
  },
  {
   "cell_type": "code",
   "execution_count": 95,
   "metadata": {},
   "outputs": [
    {
     "data": {
      "text/plain": [
       "array([[1., 1., 1.],\n",
       "       [1., 1., 1.]])"
      ]
     },
     "execution_count": 95,
     "metadata": {},
     "output_type": "execute_result"
    }
   ],
   "source": [
    "arr / arr"
   ]
  },
  {
   "cell_type": "code",
   "execution_count": 107,
   "metadata": {},
   "outputs": [
    {
     "data": {
      "text/plain": [
       "array([[0.02, 0.04, 0.06],\n",
       "       [0.08, 0.1 , 0.12]])"
      ]
     },
     "execution_count": 107,
     "metadata": {},
     "output_type": "execute_result"
    }
   ],
   "source": [
    "arr/100"
   ]
  },
  {
   "cell_type": "code",
   "execution_count": 96,
   "metadata": {},
   "outputs": [
    {
     "data": {
      "text/plain": [
       "array([[1., 1., 1.],\n",
       "       [1., 1., 1.]])"
      ]
     },
     "execution_count": 96,
     "metadata": {},
     "output_type": "execute_result"
    }
   ],
   "source": [
    "arr // arr"
   ]
  },
  {
   "cell_type": "code",
   "execution_count": 108,
   "metadata": {},
   "outputs": [
    {
     "data": {
      "text/plain": [
       "array([[0., 0., 0.],\n",
       "       [0., 0., 0.]])"
      ]
     },
     "execution_count": 108,
     "metadata": {},
     "output_type": "execute_result"
    }
   ],
   "source": [
    "arr//100"
   ]
  },
  {
   "cell_type": "code",
   "execution_count": 97,
   "metadata": {},
   "outputs": [
    {
     "data": {
      "text/plain": [
       "array([[0., 0., 0.],\n",
       "       [0., 0., 0.]])"
      ]
     },
     "execution_count": 97,
     "metadata": {},
     "output_type": "execute_result"
    }
   ],
   "source": [
    "arr % arr"
   ]
  },
  {
   "cell_type": "code",
   "execution_count": 110,
   "metadata": {},
   "outputs": [
    {
     "data": {
      "text/plain": [
       "array([[2., 1., 0.],\n",
       "       [2., 1., 0.]])"
      ]
     },
     "execution_count": 110,
     "metadata": {},
     "output_type": "execute_result"
    }
   ],
   "source": [
    "arr % 3"
   ]
  },
  {
   "cell_type": "code",
   "execution_count": 104,
   "metadata": {},
   "outputs": [
    {
     "data": {
      "text/plain": [
       "array([[4.00000000e+00, 2.56000000e+02, 4.66560000e+04],\n",
       "       [1.67772160e+07, 1.00000000e+10, 8.91610045e+12]])"
      ]
     },
     "execution_count": 104,
     "metadata": {},
     "output_type": "execute_result"
    }
   ],
   "source": [
    "arr ** arr"
   ]
  },
  {
   "cell_type": "code",
   "execution_count": 103,
   "metadata": {},
   "outputs": [
    {
     "data": {
      "text/plain": [
       "array([[  4.,  16.,  36.],\n",
       "       [ 64., 100., 144.]])"
      ]
     },
     "execution_count": 103,
     "metadata": {},
     "output_type": "execute_result"
    }
   ],
   "source": [
    "arr**2"
   ]
  },
  {
   "cell_type": "code",
   "execution_count": 99,
   "metadata": {},
   "outputs": [
    {
     "ename": "TypeError",
     "evalue": "ufunc 'bitwise_or' not supported for the input types, and the inputs could not be safely coerced to any supported types according to the casting rule ''safe''",
     "output_type": "error",
     "traceback": [
      "\u001b[0;31m---------------------------------------------------------------------------\u001b[0m",
      "\u001b[0;31mTypeError\u001b[0m                                 Traceback (most recent call last)",
      "\u001b[0;32m<ipython-input-99-5258b5461af0>\u001b[0m in \u001b[0;36m<module>\u001b[0;34m\u001b[0m\n\u001b[0;32m----> 1\u001b[0;31m \u001b[0marr\u001b[0m\u001b[0;34m|\u001b[0m\u001b[0marr\u001b[0m\u001b[0;34m\u001b[0m\u001b[0;34m\u001b[0m\u001b[0m\n\u001b[0m",
      "\u001b[0;31mTypeError\u001b[0m: ufunc 'bitwise_or' not supported for the input types, and the inputs could not be safely coerced to any supported types according to the casting rule ''safe''"
     ]
    }
   ],
   "source": [
    "arr|arr # not support bitwise\n",
    "arr ^ arr"
   ]
  },
  {
   "cell_type": "markdown",
   "metadata": {},
   "source": [
    "### Array Operator"
   ]
  },
  {
   "cell_type": "markdown",
   "metadata": {},
   "source": [
    "#### Transpose"
   ]
  },
  {
   "cell_type": "code",
   "execution_count": 112,
   "metadata": {},
   "outputs": [
    {
     "data": {
      "text/plain": [
       "array([[ 2.,  8.],\n",
       "       [ 4., 10.],\n",
       "       [ 6., 12.]])"
      ]
     },
     "execution_count": 112,
     "metadata": {},
     "output_type": "execute_result"
    }
   ],
   "source": [
    "arr.T # Trannspose"
   ]
  },
  {
   "cell_type": "markdown",
   "metadata": {},
   "source": [
    "#### Sum"
   ]
  },
  {
   "cell_type": "markdown",
   "metadata": {},
   "source": [
    "arr.sum() #inner sum"
   ]
  },
  {
   "cell_type": "markdown",
   "metadata": {},
   "source": [
    "#### Multiplication"
   ]
  },
  {
   "cell_type": "markdown",
   "metadata": {},
   "source": [
    "##### np.dot documentation \n",
    "\n",
    "    * If both a and b are 1-D arrays, it is inner product of vectors (without complex conjugation).\n",
    "\n",
    "    * If both a and b are 2-D arrays, it is matrix multiplication, but using matmul or a @ b is preferred.\n",
    "\n",
    "    * If either a or b is 0-D (scalar), it is equivalent to multiply and using numpy.multiply(a, b) or a * b is preferred.\n",
    "\n",
    "    * If a is an N-D array and b is a 1-D array, it is a sum product over the last axis of a and b.\n",
    "\n",
    "    * If a is an N-D array and b is an M-D array (where M>=2), it is a sum product over the last axis of a and the second-to-last axis of b:"
   ]
  },
  {
   "cell_type": "code",
   "execution_count": 120,
   "metadata": {},
   "outputs": [
    {
     "data": {
      "text/plain": [
       "array([[ 56., 128.],\n",
       "       [128., 308.]])"
      ]
     },
     "execution_count": 120,
     "metadata": {},
     "output_type": "execute_result"
    }
   ],
   "source": [
    "np.matmul(arr,arr.T)"
   ]
  },
  {
   "cell_type": "code",
   "execution_count": 121,
   "metadata": {},
   "outputs": [
    {
     "data": {
      "text/plain": [
       "array([[ 56., 128.],\n",
       "       [128., 308.]])"
      ]
     },
     "execution_count": 121,
     "metadata": {},
     "output_type": "execute_result"
    }
   ],
   "source": [
    "np.dot(arr, arr.T)"
   ]
  },
  {
   "cell_type": "code",
   "execution_count": 131,
   "metadata": {},
   "outputs": [
    {
     "data": {
      "text/plain": [
       "array([[35, 16, 30],\n",
       "       [37, 20, 33]])"
      ]
     },
     "execution_count": 131,
     "metadata": {},
     "output_type": "execute_result"
    }
   ],
   "source": [
    "np.dot(arr1, arr2)"
   ]
  },
  {
   "cell_type": "code",
   "execution_count": 132,
   "metadata": {},
   "outputs": [
    {
     "data": {
      "text/plain": [
       "array([[ 56., 128.],\n",
       "       [128., 308.]])"
      ]
     },
     "execution_count": 132,
     "metadata": {},
     "output_type": "execute_result"
    }
   ],
   "source": [
    "arr @ arr.T"
   ]
  },
  {
   "cell_type": "markdown",
   "metadata": {},
   "source": [
    "#### concatenate"
   ]
  },
  {
   "cell_type": "code",
   "execution_count": 6,
   "metadata": {},
   "outputs": [
    {
     "data": {
      "text/plain": [
       "array([[1, 9, 3],\n",
       "       [1, 0, 6],\n",
       "       [9, 6, 8]])"
      ]
     },
     "execution_count": 6,
     "metadata": {},
     "output_type": "execute_result"
    }
   ],
   "source": [
    "arr = np.random.randint(0,10,size=(3,3))\n",
    "arr"
   ]
  },
  {
   "cell_type": "code",
   "execution_count": 8,
   "metadata": {},
   "outputs": [
    {
     "data": {
      "text/plain": [
       "array([[1, 9, 3],\n",
       "       [1, 0, 6],\n",
       "       [9, 6, 8],\n",
       "       [1, 9, 3],\n",
       "       [1, 0, 6],\n",
       "       [9, 6, 8]])"
      ]
     },
     "execution_count": 8,
     "metadata": {},
     "output_type": "execute_result"
    }
   ],
   "source": [
    "np.concatenate((arr,arr),axis = 0)"
   ]
  },
  {
   "cell_type": "code",
   "execution_count": 9,
   "metadata": {},
   "outputs": [
    {
     "data": {
      "text/plain": [
       "array([[1, 9, 3, 1, 9, 3],\n",
       "       [1, 0, 6, 1, 0, 6],\n",
       "       [9, 6, 8, 9, 6, 8]])"
      ]
     },
     "execution_count": 9,
     "metadata": {},
     "output_type": "execute_result"
    }
   ],
   "source": [
    "np.concatenate((arr,arr),axis = 1)"
   ]
  },
  {
   "cell_type": "markdown",
   "metadata": {},
   "source": [
    "# Slicing / Indexing"
   ]
  },
  {
   "cell_type": "code",
   "execution_count": 169,
   "metadata": {},
   "outputs": [],
   "source": [
    "# enable interactiveShell so that Jupyter will display variables or without the need for a print statement\n",
    "from IPython.core.interactiveshell import InteractiveShell\n",
    "InteractiveShell.ast_node_interactivity = \"all\""
   ]
  },
  {
   "cell_type": "markdown",
   "metadata": {},
   "source": [
    "### 1D array"
   ]
  },
  {
   "cell_type": "code",
   "execution_count": 184,
   "metadata": {},
   "outputs": [
    {
     "data": {
      "text/plain": [
       "array([ 0,  1,  2,  3,  4,  5,  6,  7,  8,  9, 10, 11, 12, 13, 14, 15, 16,\n",
       "       17, 18, 19])"
      ]
     },
     "execution_count": 184,
     "metadata": {},
     "output_type": "execute_result"
    },
    {
     "data": {
      "text/plain": [
       "array([ 1,  2,  3,  4,  5,  6,  7,  8,  9, 10, 11, 12, 13, 14, 15, 16, 17,\n",
       "       18, 19])"
      ]
     },
     "execution_count": 184,
     "metadata": {},
     "output_type": "execute_result"
    },
    {
     "data": {
      "text/plain": [
       "array([ 1,  3,  5,  7,  9, 11, 13, 15, 17, 19])"
      ]
     },
     "execution_count": 184,
     "metadata": {},
     "output_type": "execute_result"
    }
   ],
   "source": [
    "arr = np.arange(20)\n",
    "arr\n",
    "\n",
    "arr = np.arange(1,20)\n",
    "arr\n",
    "\n",
    "arr = np.arange(1,20,2) # start,stop,step\n",
    "arr\n"
   ]
  },
  {
   "cell_type": "code",
   "execution_count": 182,
   "metadata": {},
   "outputs": [
    {
     "data": {
      "text/plain": [
       "3"
      ]
     },
     "execution_count": 182,
     "metadata": {},
     "output_type": "execute_result"
    },
    {
     "data": {
      "text/plain": [
       "array([ 5,  7,  9, 11, 13, 15])"
      ]
     },
     "execution_count": 182,
     "metadata": {},
     "output_type": "execute_result"
    },
    {
     "data": {
      "text/plain": [
       "array([ 5,  9, 13])"
      ]
     },
     "execution_count": 182,
     "metadata": {},
     "output_type": "execute_result"
    },
    {
     "name": "stdout",
     "output_type": "stream",
     "text": [
      "0 1\n",
      "1 3\n",
      "2 5\n",
      "3 7\n",
      "4 9\n",
      "5 11\n",
      "6 13\n",
      "7 15\n",
      "8 17\n",
      "9 19\n"
     ]
    }
   ],
   "source": [
    "arr[1] # indexing\n",
    "arr[2:8] # slicing\n",
    "arr[2:8:2] # stepwise slicing ( tart,stop,step)\n",
    "for idx,val in enumerate(arr): # we can also using a loop\n",
    "    print(idx,val)"
   ]
  },
  {
   "cell_type": "markdown",
   "metadata": {},
   "source": [
    "### 2D array"
   ]
  },
  {
   "cell_type": "raw",
   "metadata": {},
   "source": [
    "syntax:\n",
    "\n",
    "[row,column]\n",
    "\n",
    "[row_from : row_to , column_from : column_to]\n",
    "\n",
    "[[row_from, row_to, step] , [column_from, column_to, step]]\n",
    "\n",
    "[[row_from, row_to] , [column_from,column_to]]\n",
    "\n",
    "[row_from : row_to : step , column_from : column_to : step]"
   ]
  },
  {
   "cell_type": "code",
   "execution_count": 190,
   "metadata": {},
   "outputs": [
    {
     "data": {
      "text/plain": [
       "array([1, 2, 3, 4])"
      ]
     },
     "execution_count": 190,
     "metadata": {},
     "output_type": "execute_result"
    },
    {
     "data": {
      "text/plain": [
       "array([1, 2, 3, 4])"
      ]
     },
     "execution_count": 190,
     "metadata": {},
     "output_type": "execute_result"
    },
    {
     "data": {
      "text/plain": [
       "array([1, 5, 9])"
      ]
     },
     "execution_count": 190,
     "metadata": {},
     "output_type": "execute_result"
    },
    {
     "data": {
      "text/plain": [
       "array([ 1, 10])"
      ]
     },
     "execution_count": 190,
     "metadata": {},
     "output_type": "execute_result"
    },
    {
     "data": {
      "text/plain": [
       "(4,)"
      ]
     },
     "execution_count": 190,
     "metadata": {},
     "output_type": "execute_result"
    },
    {
     "data": {
      "text/plain": [
       "7"
      ]
     },
     "execution_count": 190,
     "metadata": {},
     "output_type": "execute_result"
    },
    {
     "data": {
      "text/plain": [
       "10"
      ]
     },
     "execution_count": 190,
     "metadata": {},
     "output_type": "execute_result"
    },
    {
     "name": "stdout",
     "output_type": "stream",
     "text": [
      "0 [1 2 3 4]\n",
      "1 [5 6 7 8]\n",
      "2 [ 9 10 11 12]\n"
     ]
    }
   ],
   "source": [
    "\n",
    "a = np.array([[1,2,3,4], \n",
    "              [5,6,7,8], \n",
    "              [9,10,11,12]])\n",
    "\n",
    "\n",
    "# get the first row\n",
    "a[0,:]\n",
    "a[0,]\n",
    "\n",
    "\n",
    "\n",
    "# get the first column\n",
    "a[:,0]\n",
    "#a[,0] does not work\n",
    "\n",
    "# also you can use[]\n",
    "a[[0,2], [0,1]]\n",
    "\n",
    "\n",
    "# shape of the first row\n",
    "a[0].shape\n",
    "\n",
    "\n",
    "# subarray\n",
    "a[1][2] # 2nd row 3rd element\n",
    "a[:,1][2] # 2nd column 3rd element\n",
    "\n",
    "\n",
    "# loop through all rows\n",
    "for idx,row in enumerate(a):\n",
    "    print(idx, row)"
   ]
  },
  {
   "cell_type": "code",
   "execution_count": 191,
   "metadata": {},
   "outputs": [
    {
     "data": {
      "text/plain": [
       "array([[ 1,  2,  3,  4],\n",
       "       [ 5,  6,  7,  8],\n",
       "       [ 9, 10, 11, 12]])"
      ]
     },
     "execution_count": 191,
     "metadata": {},
     "output_type": "execute_result"
    },
    {
     "data": {
      "text/plain": [
       "array([[ 7,  8],\n",
       "       [11, 12]])"
      ]
     },
     "execution_count": 191,
     "metadata": {},
     "output_type": "execute_result"
    },
    {
     "data": {
      "text/plain": [
       "array([[ 4,  3,  2,  1],\n",
       "       [ 8,  7,  6,  5],\n",
       "       [12, 11, 10,  9]])"
      ]
     },
     "execution_count": 191,
     "metadata": {},
     "output_type": "execute_result"
    }
   ],
   "source": [
    "a = np.array([[1,2,3,4], \n",
    "              [5,6,7,8], \n",
    "              [9,10,11,12]])\n",
    "a\n",
    "\n",
    "# last two rows and last two columns\n",
    "a[-2:,-2:]\n",
    "\n",
    "\n",
    "# back wise step\n",
    "a[:,::-1]"
   ]
  },
  {
   "cell_type": "markdown",
   "metadata": {},
   "source": [
    "### 3D array"
   ]
  },
  {
   "cell_type": "code",
   "execution_count": 216,
   "metadata": {},
   "outputs": [
    {
     "data": {
      "text/plain": [
       "array([[1, 2, 3],\n",
       "       [4, 5, 6]])"
      ]
     },
     "execution_count": 216,
     "metadata": {},
     "output_type": "execute_result"
    },
    {
     "data": {
      "text/plain": [
       "array([1, 2, 3])"
      ]
     },
     "execution_count": 216,
     "metadata": {},
     "output_type": "execute_result"
    },
    {
     "data": {
      "text/plain": [
       "1"
      ]
     },
     "execution_count": 216,
     "metadata": {},
     "output_type": "execute_result"
    }
   ],
   "source": [
    "\n",
    "arr3 = np.array([[[1, 2, 3], \n",
    "                  [4, 5, 6]], \n",
    "                 [[7, 8, 9], \n",
    "                  [5, 6, 7]]])\n",
    "\n",
    "arr3[0]\n",
    "\n",
    "arr3[0][0]\n",
    "arr3[0][0][0]"
   ]
  },
  {
   "cell_type": "code",
   "execution_count": 228,
   "metadata": {},
   "outputs": [
    {
     "data": {
      "text/plain": [
       "array([[[1, 2, 3],\n",
       "        [4, 5, 6]],\n",
       "\n",
       "       [[7, 8, 9],\n",
       "        [5, 6, 7]]])"
      ]
     },
     "execution_count": 228,
     "metadata": {},
     "output_type": "execute_result"
    },
    {
     "data": {
      "text/plain": [
       "array([[7, 8, 9],\n",
       "       [5, 6, 7]])"
      ]
     },
     "execution_count": 228,
     "metadata": {},
     "output_type": "execute_result"
    },
    {
     "data": {
      "text/plain": [
       "array([[8, 9],\n",
       "       [6, 7]])"
      ]
     },
     "execution_count": 228,
     "metadata": {},
     "output_type": "execute_result"
    },
    {
     "data": {
      "text/plain": [
       "array([8, 9])"
      ]
     },
     "execution_count": 228,
     "metadata": {},
     "output_type": "execute_result"
    },
    {
     "data": {
      "text/plain": [
       "9"
      ]
     },
     "execution_count": 228,
     "metadata": {},
     "output_type": "execute_result"
    }
   ],
   "source": [
    "arr3\n",
    "arr3[1]\n",
    "arr3[1][:,-2:]\n",
    "arr3[1][:,-2:][0]\n",
    "arr3[1][:,-2:][0][1]"
   ]
  },
  {
   "cell_type": "markdown",
   "metadata": {},
   "source": [
    "### Boolean indexing"
   ]
  },
  {
   "cell_type": "code",
   "execution_count": 241,
   "metadata": {},
   "outputs": [
    {
     "data": {
      "text/plain": [
       "array([0, 1, 2, 3, 4, 5, 6, 7, 8, 9])"
      ]
     },
     "execution_count": 241,
     "metadata": {},
     "output_type": "execute_result"
    },
    {
     "data": {
      "text/plain": [
       "array([False, False, False,  True,  True,  True,  True,  True,  True,\n",
       "        True])"
      ]
     },
     "execution_count": 241,
     "metadata": {},
     "output_type": "execute_result"
    },
    {
     "data": {
      "text/plain": [
       "array([3, 4, 5, 6, 7, 8, 9])"
      ]
     },
     "execution_count": 241,
     "metadata": {},
     "output_type": "execute_result"
    },
    {
     "data": {
      "text/plain": [
       "array([3, 4, 5, 6, 7, 8, 9])"
      ]
     },
     "execution_count": 241,
     "metadata": {},
     "output_type": "execute_result"
    }
   ],
   "source": [
    "# 1D array\n",
    "a = np.arange(10)\n",
    "a\n",
    "# ind the elements of \"a\" that are bigger than 2;\n",
    "bool_idx = (a > 2)  \n",
    "bool_idx\n",
    "\n",
    "# these two is identical\n",
    "a[bool_idx]\n",
    "a[a>2]"
   ]
  },
  {
   "cell_type": "code",
   "execution_count": 242,
   "metadata": {},
   "outputs": [
    {
     "data": {
      "text/plain": [
       "array([[1, 2],\n",
       "       [3, 4],\n",
       "       [5, 6]])"
      ]
     },
     "execution_count": 242,
     "metadata": {},
     "output_type": "execute_result"
    },
    {
     "data": {
      "text/plain": [
       "array([[False, False],\n",
       "       [ True,  True],\n",
       "       [ True,  True]])"
      ]
     },
     "execution_count": 242,
     "metadata": {},
     "output_type": "execute_result"
    },
    {
     "data": {
      "text/plain": [
       "array([3, 4, 5, 6])"
      ]
     },
     "execution_count": 242,
     "metadata": {},
     "output_type": "execute_result"
    },
    {
     "data": {
      "text/plain": [
       "array([3, 4, 5, 6])"
      ]
     },
     "execution_count": 242,
     "metadata": {},
     "output_type": "execute_result"
    }
   ],
   "source": [
    "# 2D array\n",
    "a = np.array([[1,2],\n",
    "              [3, 4], \n",
    "              [5, 6]])\n",
    "a\n",
    "\n",
    "# Find the elements of \"a\" that are bigger than 2;\n",
    "bool_idx = (a > 2)  \n",
    "bool_idx\n",
    "\n",
    "# these two is identical\n",
    "a[bool_idx]\n",
    "a[a>2]"
   ]
  },
  {
   "cell_type": "code",
   "execution_count": 244,
   "metadata": {},
   "outputs": [
    {
     "data": {
      "text/plain": [
       "array([[[1, 2],\n",
       "        [3, 4]],\n",
       "\n",
       "       [[5, 6],\n",
       "        [7, 8]]])"
      ]
     },
     "execution_count": 244,
     "metadata": {},
     "output_type": "execute_result"
    },
    {
     "data": {
      "text/plain": [
       "array([3, 4, 5, 6, 7, 8])"
      ]
     },
     "execution_count": 244,
     "metadata": {},
     "output_type": "execute_result"
    }
   ],
   "source": [
    "# 3D array\n",
    "a = np.array([[[1,2],\n",
    "              [3, 4]], \n",
    "              [[5, 6],\n",
    "               [7,8]]])\n",
    "a\n",
    "\n",
    "\n",
    "a[a>2]   # always return to a 1D array"
   ]
  },
  {
   "cell_type": "code",
   "execution_count": 246,
   "metadata": {},
   "outputs": [
    {
     "data": {
      "text/plain": [
       "array([[1, 2],\n",
       "       [3, 4],\n",
       "       [5, 6]])"
      ]
     },
     "execution_count": 246,
     "metadata": {},
     "output_type": "execute_result"
    },
    {
     "data": {
      "text/plain": [
       "(array([1, 1, 2, 2]), array([0, 1, 0, 1]))"
      ]
     },
     "execution_count": 246,
     "metadata": {},
     "output_type": "execute_result"
    },
    {
     "data": {
      "text/plain": [
       "array([3, 4, 5, 6])"
      ]
     },
     "execution_count": 246,
     "metadata": {},
     "output_type": "execute_result"
    }
   ],
   "source": [
    "a = np.array([[1,2],\n",
    "              [3, 4], \n",
    "              [5, 6]])\n",
    "a\n",
    "\n",
    "# np.where returns the locations tuple (axis0,axis1), “axis 0” represents rows and “axis 1” represents columns.\n",
    "np.where(a>2) \n",
    "\n",
    "a[np.where(a>2)]"
   ]
  },
  {
   "cell_type": "code",
   "execution_count": 253,
   "metadata": {},
   "outputs": [
    {
     "name": "stdout",
     "output_type": "stream",
     "text": [
      "before change:\n",
      " [[4 2]\n",
      " [3 4]\n",
      " [5 0]]\n",
      "after change:\n",
      " [[3 2]\n",
      " [3 3]\n",
      " [3 0]]\n",
      "Binarized array:\n",
      " [[1 0]\n",
      " [0 1]\n",
      " [1 0]]\n"
     ]
    }
   ],
   "source": [
    "a = np.array([[4,2], \n",
    "              [3, 4], \n",
    "              [5, 0]])\n",
    "print(\"before change:\\n\", a)\n",
    "\n",
    "# if a value >3, set it to 3\n",
    "a[np.where(a>3)]=3\n",
    "print(\"after change:\\n\", a)\n",
    "\n",
    "\n",
    "\n",
    "# if a value>3, set it to 1; otherwise, 0\n",
    "a = np.array([[4,2], [3, 4], [5, 0]])\n",
    "print(\"Binarized array:\\n\", np.where(a>3, 1, 0))"
   ]
  },
  {
   "cell_type": "code",
   "execution_count": 317,
   "metadata": {},
   "outputs": [
    {
     "data": {
      "text/plain": [
       "array(['python', 'java', 'excel', 'python', 'excel', 'java', 'java'],\n",
       "      dtype='<U6')"
      ]
     },
     "execution_count": 317,
     "metadata": {},
     "output_type": "execute_result"
    },
    {
     "data": {
      "text/plain": [
       "array([[ 0,  1,  2,  3,  4,  5,  6],\n",
       "       [ 7,  8,  9, 10, 11, 12, 13],\n",
       "       [14, 15, 16, 17, 18, 19, 20],\n",
       "       [21, 22, 23, 24, 25, 26, 27],\n",
       "       [28, 29, 30, 31, 32, 33, 34],\n",
       "       [35, 36, 37, 38, 39, 40, 41],\n",
       "       [42, 43, 44, 45, 46, 47, 48]])"
      ]
     },
     "execution_count": 317,
     "metadata": {},
     "output_type": "execute_result"
    }
   ],
   "source": [
    "names = np.array(['python', 'java', 'excel', 'python', 'excel', 'java', 'java'])\n",
    "names\n",
    "data = np.arange(49).reshape(7,7)\n",
    "data"
   ]
  },
  {
   "cell_type": "code",
   "execution_count": 318,
   "metadata": {},
   "outputs": [
    {
     "data": {
      "text/plain": [
       "array([ True, False, False,  True, False, False, False])"
      ]
     },
     "execution_count": 318,
     "metadata": {},
     "output_type": "execute_result"
    },
    {
     "data": {
      "text/plain": [
       "array([[ 0,  1,  2,  3,  4,  5,  6],\n",
       "       [21, 22, 23, 24, 25, 26, 27]])"
      ]
     },
     "execution_count": 318,
     "metadata": {},
     "output_type": "execute_result"
    },
    {
     "data": {
      "text/plain": [
       "array([[ 0,  1,  2,  3,  4,  5,  6],\n",
       "       [21, 22, 23, 24, 25, 26, 27]])"
      ]
     },
     "execution_count": 318,
     "metadata": {},
     "output_type": "execute_result"
    },
    {
     "data": {
      "text/plain": [
       "array([[ 0,  3],\n",
       "       [ 7, 10],\n",
       "       [14, 17],\n",
       "       [21, 24],\n",
       "       [28, 31],\n",
       "       [35, 38],\n",
       "       [42, 45]])"
      ]
     },
     "execution_count": 318,
     "metadata": {},
     "output_type": "execute_result"
    },
    {
     "data": {
      "text/plain": [
       "array([[ 0,  3],\n",
       "       [ 7, 10],\n",
       "       [14, 17],\n",
       "       [21, 24],\n",
       "       [28, 31],\n",
       "       [35, 38],\n",
       "       [42, 45]])"
      ]
     },
     "execution_count": 318,
     "metadata": {},
     "output_type": "execute_result"
    },
    {
     "data": {
      "text/plain": [
       "array([[ 2,  3,  4,  5,  6],\n",
       "       [23, 24, 25, 26, 27]])"
      ]
     },
     "execution_count": 318,
     "metadata": {},
     "output_type": "execute_result"
    }
   ],
   "source": [
    "names == 'python' \n",
    "# actually it is nothing to do with python, what we need is a boolean array\n",
    "# array([ True, False, False,  True, False, False, False])\n",
    "\n",
    "\n",
    "data[names == 'python'] # rowwise (if true select this row)\n",
    "data[0:4:3]\n",
    "\n",
    "\n",
    "data[:,names == 'python'] # columnwise(if true select this column)\n",
    "data[:,0:4:3]\n",
    "\n",
    "\n",
    "data[names == 'python', 2:]"
   ]
  },
  {
   "cell_type": "code",
   "execution_count": 319,
   "metadata": {},
   "outputs": [
    {
     "data": {
      "text/plain": [
       "array([False,  True,  True, False,  True,  True,  True])"
      ]
     },
     "execution_count": 319,
     "metadata": {},
     "output_type": "execute_result"
    },
    {
     "data": {
      "text/plain": [
       "array([[ 7,  8,  9, 10, 11, 12, 13],\n",
       "       [14, 15, 16, 17, 18, 19, 20],\n",
       "       [28, 29, 30, 31, 32, 33, 34],\n",
       "       [35, 36, 37, 38, 39, 40, 41],\n",
       "       [42, 43, 44, 45, 46, 47, 48]])"
      ]
     },
     "execution_count": 319,
     "metadata": {},
     "output_type": "execute_result"
    },
    {
     "data": {
      "text/plain": [
       "array([[ 7,  8,  9, 10, 11, 12, 13],\n",
       "       [14, 15, 16, 17, 18, 19, 20],\n",
       "       [28, 29, 30, 31, 32, 33, 34],\n",
       "       [35, 36, 37, 38, 39, 40, 41],\n",
       "       [42, 43, 44, 45, 46, 47, 48]])"
      ]
     },
     "execution_count": 319,
     "metadata": {},
     "output_type": "execute_result"
    },
    {
     "data": {
      "text/plain": [
       "array([ True,  True, False,  True, False,  True,  True])"
      ]
     },
     "execution_count": 319,
     "metadata": {},
     "output_type": "execute_result"
    },
    {
     "data": {
      "text/plain": [
       "array([[ 0,  1,  2,  3,  4,  5,  6],\n",
       "       [ 7,  8,  9, 10, 11, 12, 13],\n",
       "       [21, 22, 23, 24, 25, 26, 27],\n",
       "       [35, 36, 37, 38, 39, 40, 41],\n",
       "       [42, 43, 44, 45, 46, 47, 48]])"
      ]
     },
     "execution_count": 319,
     "metadata": {},
     "output_type": "execute_result"
    },
    {
     "data": {
      "text/plain": [
       "array([[ 0,  1,  3,  5,  6],\n",
       "       [ 7,  8, 10, 12, 13],\n",
       "       [14, 15, 17, 19, 20],\n",
       "       [21, 22, 24, 26, 27],\n",
       "       [28, 29, 31, 33, 34],\n",
       "       [35, 36, 38, 40, 41],\n",
       "       [42, 43, 45, 47, 48]])"
      ]
     },
     "execution_count": 319,
     "metadata": {},
     "output_type": "execute_result"
    }
   ],
   "source": [
    "names != 'python'\n",
    "\n",
    "# not / not equal \n",
    "data[~(names == 'python')] # not \n",
    "data[names != 'python'] # not equal\n",
    "\n",
    "\n",
    "# or\n",
    "OR = (names == 'python') | (names == 'java') # or)\n",
    "OR\n",
    "\n",
    "data[OR]\n",
    "data[:,OR]"
   ]
  },
  {
   "cell_type": "code",
   "execution_count": 320,
   "metadata": {},
   "outputs": [
    {
     "data": {
      "text/plain": [
       "array([[ 0,  0,  0,  0,  0,  0,  0],\n",
       "       [ 0,  0,  0,  0,  0,  0,  0],\n",
       "       [ 0,  0,  0,  0,  0,  0,  0],\n",
       "       [21, 22, 23, 24, 25, 26, 27],\n",
       "       [28, 29, 30, 31, 32, 33, 34],\n",
       "       [35, 36, 37, 38, 39, 40, 41],\n",
       "       [42, 43, 44, 45, 46, 47, 48]])"
      ]
     },
     "execution_count": 320,
     "metadata": {},
     "output_type": "execute_result"
    }
   ],
   "source": [
    "data[data < 21] =0\n",
    "data"
   ]
  },
  {
   "cell_type": "code",
   "execution_count": 321,
   "metadata": {},
   "outputs": [
    {
     "data": {
      "text/plain": [
       "array([[  0,   0,   0,   0,   0,   0,   0],\n",
       "       [  0, 999,   0,   0,   0,   0,   0],\n",
       "       [  0,   0, 999,   0,   0,   0,   0],\n",
       "       [ 21,  22,  23,  24,  25,  26,  27],\n",
       "       [ 28,  29,  30,  31, 999,  33,  34],\n",
       "       [ 35,  36,  37,  38,  39, 999,  41],\n",
       "       [ 42,  43,  44,  45,  46,  47, 999]])"
      ]
     },
     "execution_count": 321,
     "metadata": {},
     "output_type": "execute_result"
    }
   ],
   "source": [
    "data[names != 'python', names != 'python'] = 999\n",
    "data"
   ]
  },
  {
   "cell_type": "code",
   "execution_count": 379,
   "metadata": {},
   "outputs": [
    {
     "data": {
      "text/plain": [
       "array([[ 0,  1,  2,  3,  4,  5,  6,  7],\n",
       "       [ 8,  9, 10, 11, 12, 13, 14, 15],\n",
       "       [16, 17, 18, 19, 20, 21, 22, 23],\n",
       "       [24, 25, 26, 27, 28, 29, 30, 31],\n",
       "       [32, 33, 34, 35, 36, 37, 38, 39],\n",
       "       [40, 41, 42, 43, 44, 45, 46, 47],\n",
       "       [48, 49, 50, 51, 52, 53, 54, 55],\n",
       "       [56, 57, 58, 59, 60, 61, 62, 63]])"
      ]
     },
     "execution_count": 379,
     "metadata": {},
     "output_type": "execute_result"
    }
   ],
   "source": [
    "# arry can also be passed by loop\n",
    "\n",
    "arr = np.arange(64,dtype = int).reshape(8,8)\n",
    "\n",
    "    \n",
    "arr"
   ]
  },
  {
   "cell_type": "code",
   "execution_count": 382,
   "metadata": {},
   "outputs": [
    {
     "data": {
      "text/plain": [
       "array([[32, 33, 34, 35, 36, 37, 38, 39],\n",
       "       [24, 25, 26, 27, 28, 29, 30, 31],\n",
       "       [ 0,  1,  2,  3,  4,  5,  6,  7],\n",
       "       [48, 49, 50, 51, 52, 53, 54, 55]])"
      ]
     },
     "execution_count": 382,
     "metadata": {},
     "output_type": "execute_result"
    },
    {
     "data": {
      "text/plain": [
       "array([[40, 41, 42, 43, 44, 45, 46, 47],\n",
       "       [24, 25, 26, 27, 28, 29, 30, 31],\n",
       "       [ 8,  9, 10, 11, 12, 13, 14, 15]])"
      ]
     },
     "execution_count": 382,
     "metadata": {},
     "output_type": "execute_result"
    },
    {
     "data": {
      "text/plain": [
       "array([[ 4,  3,  0,  6],\n",
       "       [12, 11,  8, 14],\n",
       "       [20, 19, 16, 22],\n",
       "       [28, 27, 24, 30],\n",
       "       [36, 35, 32, 38],\n",
       "       [44, 43, 40, 46],\n",
       "       [52, 51, 48, 54],\n",
       "       [60, 59, 56, 62]])"
      ]
     },
     "execution_count": 382,
     "metadata": {},
     "output_type": "execute_result"
    },
    {
     "data": {
      "text/plain": [
       "array([ 8, 43, 57, 18])"
      ]
     },
     "execution_count": 382,
     "metadata": {},
     "output_type": "execute_result"
    }
   ],
   "source": [
    "arr[[4, 3, 0, 6]] # rowwise\n",
    "arr[[-3, -5, -7]] # rowwise\n",
    "arr[:,[4, 3, 0, 6]] #column wise\n",
    "arr[[1, 5, 7, 2], [0, 3, 1, 2]] # both column and row"
   ]
  },
  {
   "cell_type": "markdown",
   "metadata": {},
   "source": [
    "# Broadcasting"
   ]
  },
  {
   "cell_type": "markdown",
   "metadata": {},
   "source": [
    "![](https://raw.githubusercontent.com/devin19940107/Python_Basic/master/supporting%20files/Images/numpybroadcasting.png)"
   ]
  },
  {
   "cell_type": "markdown",
   "metadata": {},
   "source": [
    "1. Assume two arrays A and B. \n",
    "   - <font color='blue'>For example, A has size(1, 3), B has size (1,). A has rank 2, and B has rank 1</font>\n",
    "2. If the arrays do not have the same rank, prepend the shape of the lower rank array with 1s until both shapes have the same length.\n",
    "    - <font color='blue'>Padding 1 to the left of the shape of B. So B's shape becomes (1,3)</font>\n",
    "3. The two arrays are said to be **compatible** in a dimension **if they have the same size in the dimension, or if one of the arrays has size 1 in that dimension**. If compatible, continue to Step 4; <font color='red'>otherwise stop and raise an error</font>\n",
    "    \n",
    "    - Compare the shapes of A and B in each dimension: \n",
    "        * <font color='blue'>Dimension 1: A is 10000  and B is 1 => compatible </font>   \n",
    "        * <font color='blue'> Dimension 2: A is 4 and B is 4 => compatible</font> \n",
    "    - <font color='blue'> So, A and B are compatible in every dimension</font>\n",
    "4. After broadcasting, each array behaves as if it had shape equal to the elementwise maximum of shapes of the two input arrays.\n",
    "    - <font color='blue'> After brodcasting, B's shape => (10000,4)</font>\n",
    "5. In any dimension where one array had size 1 and the other array had size greater than 1, the first array behaves as if it were copied along that dimension\n",
    "    - <font color='blue'> Suppose B=([1, 0, 1]). After broadcasting, B => [ [1, 0, 1],[1, 0, 1],... ]</font>\n",
    "6. Apply array math using B after broadcasting"
   ]
  },
  {
   "cell_type": "markdown",
   "metadata": {},
   "source": [
    "e.g.\n",
    "- Normalization:\n",
    "    - subtract each samples by mean vector\n",
    "    - divide each sample row by feature std vector (1-dimension array) \n",
    "    - for loop is lack of efficient"
   ]
  },
  {
   "cell_type": "markdown",
   "metadata": {},
   "source": [
    "### Row wise broadcasting"
   ]
  },
  {
   "cell_type": "code",
   "execution_count": 30,
   "metadata": {},
   "outputs": [
    {
     "data": {
      "text/plain": [
       "array([5, 6, 7])"
      ]
     },
     "execution_count": 30,
     "metadata": {},
     "output_type": "execute_result"
    },
    {
     "name": "stdout",
     "output_type": "stream",
     "text": [
      "A+B time used: 0.0025 ms\n"
     ]
    },
    {
     "data": {
      "text/plain": [
       "array([5, 6, 7])"
      ]
     },
     "execution_count": 30,
     "metadata": {},
     "output_type": "execute_result"
    },
    {
     "name": "stdout",
     "output_type": "stream",
     "text": [
      "A+C time used: 0.0025 ms\n"
     ]
    }
   ],
   "source": [
    "\n",
    "import time\n",
    "A = np.array([0,1,2])\n",
    "\n",
    "B = np.array([5,5,5])\n",
    "\n",
    "C = 5\n",
    "\n",
    "\n",
    "start=time.time()   # get starting time\n",
    "A+B\n",
    "print(\"A+B time used: %.4f ms\"%(time.time()-start))\n",
    "\n",
    "\n",
    "start=time.time()   # get starting time\n",
    "A+C\n",
    "print(\"A+C time used: %.4f ms\"%(time.time()-start))\n",
    "\n",
    "\n"
   ]
  },
  {
   "cell_type": "code",
   "execution_count": 32,
   "metadata": {},
   "outputs": [
    {
     "data": {
      "text/plain": [
       "array([ 0,  5, 10])"
      ]
     },
     "execution_count": 32,
     "metadata": {},
     "output_type": "execute_result"
    },
    {
     "data": {
      "text/plain": [
       "array([ 0,  5, 10])"
      ]
     },
     "execution_count": 32,
     "metadata": {},
     "output_type": "execute_result"
    }
   ],
   "source": [
    "# product is also avaliable\n",
    "A*B\n",
    "A*C"
   ]
  },
  {
   "cell_type": "markdown",
   "metadata": {},
   "source": [
    "### Column wise broadcasting"
   ]
  },
  {
   "cell_type": "code",
   "execution_count": 27,
   "metadata": {},
   "outputs": [
    {
     "data": {
      "text/plain": [
       "array([[1., 1., 1.],\n",
       "       [1., 1., 1.],\n",
       "       [1., 1., 1.]])"
      ]
     },
     "execution_count": 27,
     "metadata": {},
     "output_type": "execute_result"
    },
    {
     "data": {
      "text/plain": [
       "array([[0, 1, 2],\n",
       "       [0, 1, 2],\n",
       "       [0, 1, 2]])"
      ]
     },
     "execution_count": 27,
     "metadata": {},
     "output_type": "execute_result"
    },
    {
     "data": {
      "text/plain": [
       "array([0, 1, 2])"
      ]
     },
     "execution_count": 27,
     "metadata": {},
     "output_type": "execute_result"
    },
    {
     "data": {
      "text/plain": [
       "array([[1., 2., 3.],\n",
       "       [1., 2., 3.],\n",
       "       [1., 2., 3.]])"
      ]
     },
     "execution_count": 27,
     "metadata": {},
     "output_type": "execute_result"
    },
    {
     "name": "stdout",
     "output_type": "stream",
     "text": [
      "A+B time used: 0.0034 ms\n"
     ]
    },
    {
     "data": {
      "text/plain": [
       "array([[1., 2., 3.],\n",
       "       [1., 2., 3.],\n",
       "       [1., 2., 3.]])"
      ]
     },
     "execution_count": 27,
     "metadata": {},
     "output_type": "execute_result"
    },
    {
     "name": "stdout",
     "output_type": "stream",
     "text": [
      "A+C time used: 0.0023 ms\n"
     ]
    }
   ],
   "source": [
    "A = np.ones((3,3)) #shape is 3 by 3\n",
    "A\n",
    "\n",
    "B = np.array([[0,1,2],\n",
    "              [0,1,2],\n",
    "              [0,1,2]])\n",
    "B\n",
    "\n",
    "\n",
    "C = np.arange(3)\n",
    "C\n",
    "\n",
    "\n",
    "start=time.time()   # get starting time\n",
    "A+B\n",
    "print(\"A+B time used: %.4f ms\"%(time.time()-start))\n",
    "\n",
    "\n",
    "start=time.time()   # get starting time\n",
    "A+C\n",
    "print(\"A+C time used: %.4f ms\"%(time.time()-start))"
   ]
  },
  {
   "cell_type": "markdown",
   "metadata": {},
   "source": [
    "### Both rowwise and columnwise broadcasting"
   ]
  },
  {
   "cell_type": "code",
   "execution_count": 48,
   "metadata": {},
   "outputs": [
    {
     "data": {
      "text/plain": [
       "array([[0],\n",
       "       [1],\n",
       "       [2]])"
      ]
     },
     "execution_count": 48,
     "metadata": {},
     "output_type": "execute_result"
    },
    {
     "data": {
      "text/plain": [
       "(3, 1)"
      ]
     },
     "execution_count": 48,
     "metadata": {},
     "output_type": "execute_result"
    }
   ],
   "source": [
    "A = np.arange(3).reshape(3,1)\n",
    "A\n",
    "np.shape(A)"
   ]
  },
  {
   "cell_type": "code",
   "execution_count": 47,
   "metadata": {},
   "outputs": [
    {
     "data": {
      "text/plain": [
       "array([[0, 1, 2]])"
      ]
     },
     "execution_count": 47,
     "metadata": {},
     "output_type": "execute_result"
    },
    {
     "data": {
      "text/plain": [
       "(1, 3)"
      ]
     },
     "execution_count": 47,
     "metadata": {},
     "output_type": "execute_result"
    }
   ],
   "source": [
    "B = np.transpose(A)\n",
    "B\n",
    "np.shape(B)"
   ]
  },
  {
   "cell_type": "code",
   "execution_count": 50,
   "metadata": {},
   "outputs": [
    {
     "data": {
      "text/plain": [
       "array([[0, 1, 2],\n",
       "       [1, 2, 3],\n",
       "       [2, 3, 4]])"
      ]
     },
     "execution_count": 50,
     "metadata": {},
     "output_type": "execute_result"
    },
    {
     "data": {
      "text/plain": [
       "array([[0, 0, 0],\n",
       "       [0, 1, 2],\n",
       "       [0, 2, 4]])"
      ]
     },
     "execution_count": 50,
     "metadata": {},
     "output_type": "execute_result"
    }
   ],
   "source": [
    "C = A+B\n",
    "C\n",
    "\n",
    "C = A*B\n",
    "C"
   ]
  },
  {
   "cell_type": "markdown",
   "metadata": {},
   "source": [
    "#  Sparse Matrix\n",
    "- Why sparse matrix\n",
    "    * In some matrixes (e.g. document-term matrix), most of the elements are zero. These matrices are called **sparse matrices**, while the ones that have mostly non-zero elements are called **dense matrices**.\n",
    "    * These matrixes usually are very big. It needs memory to store every number\n",
    "- Sparse matrix: a matrix that **only stores non-zero elements**. \n",
    "- Scipy package provides different types of sparse matrix. Commonly used types:\n",
    "    * csc_matrix: Compressed Sparse Column format\n",
    "    * csr_matrix: Compressed Sparse Row format\n",
    "- Sparse matrixes can be manipulated almost in the same way as a dense matrix. Check https://docs.scipy.org/doc/scipy/reference/sparse.html for functions for sparse matrixes."
   ]
  },
  {
   "cell_type": "markdown",
   "metadata": {},
   "source": [
    "![](https://raw.githubusercontent.com/devin19940107/Python_Basic/master/supporting%20files/Images/sparse_dense.gif)"
   ]
  },
  {
   "cell_type": "code",
   "execution_count": 64,
   "metadata": {},
   "outputs": [
    {
     "name": "stdout",
     "output_type": "stream",
     "text": [
      "  (0, 0)\t1\n",
      "  (1, 2)\t3\n",
      "  (2, 0)\t4\n",
      "  (2, 2)\t5\n",
      "-----------\n",
      "0\n",
      "-----------\n"
     ]
    },
    {
     "data": {
      "text/plain": [
       "(3, 3)"
      ]
     },
     "execution_count": 64,
     "metadata": {},
     "output_type": "execute_result"
    }
   ],
   "source": [
    "from scipy.sparse import csr_matrix\n",
    "A = csr_matrix([[1, 0, 0],\n",
    "                [0, 0, 3], \n",
    "                [4, 0, 5]])\n",
    "print(A)\n",
    "print('-----------')\n",
    "print(A[2,1])\n",
    "print('-----------')\n",
    "A.shape"
   ]
  },
  {
   "cell_type": "code",
   "execution_count": 67,
   "metadata": {},
   "outputs": [
    {
     "data": {
      "text/plain": [
       "array([ 1, -3, -1], dtype=int64)"
      ]
     },
     "execution_count": 67,
     "metadata": {},
     "output_type": "execute_result"
    },
    {
     "data": {
      "text/plain": [
       "array([ 1, -3, -1], dtype=int64)"
      ]
     },
     "execution_count": 67,
     "metadata": {},
     "output_type": "execute_result"
    }
   ],
   "source": [
    "A = csr_matrix([[1, 0, 0],\n",
    "                [0, 0, 3], \n",
    "                [4, 0, 5]])\n",
    "v = np.array([1, 0, -1])\n",
    "\n",
    "\n",
    "A.dot(v)\n",
    "A*v"
   ]
  },
  {
   "cell_type": "markdown",
   "metadata": {},
   "source": [
    "# Application"
   ]
  },
  {
   "cell_type": "markdown",
   "metadata": {},
   "source": [
    "### Data processing"
   ]
  },
  {
   "cell_type": "code",
   "execution_count": 55,
   "metadata": {},
   "outputs": [],
   "source": [
    "xarr = np.array([1.1, 1.2, 1.3, 1.4, 1.5])\n",
    "yarr = np.array([2.1, 2.2, 2.3, 2.4, 2.5])\n",
    "cond = np.array([True, False, True, True, False])"
   ]
  },
  {
   "cell_type": "markdown",
   "metadata": {},
   "source": [
    "<font color = green>numpy.where(condition, x, y)  \n",
    "    \n",
    "* Where contition True, yield x, otherwise yield y.\n"
   ]
  },
  {
   "cell_type": "code",
   "execution_count": 59,
   "metadata": {},
   "outputs": [
    {
     "data": {
      "text/plain": [
       "[1.1, 2.2, 1.3, 1.4, 2.5]"
      ]
     },
     "execution_count": 59,
     "metadata": {},
     "output_type": "execute_result"
    },
    {
     "name": "stdout",
     "output_type": "stream",
     "text": [
      "for loop time used: 0.0024 ms\n"
     ]
    },
    {
     "data": {
      "text/plain": [
       "array([1.1, 2.2, 1.3, 1.4, 2.5])"
      ]
     },
     "execution_count": 59,
     "metadata": {},
     "output_type": "execute_result"
    },
    {
     "name": "stdout",
     "output_type": "stream",
     "text": [
      "numpy time used: 0.0024 ms\n"
     ]
    }
   ],
   "source": [
    "# for loop\n",
    "start=time.time()   # get starting time\n",
    "result = []\n",
    "for x, y, c in zip(xarr, yarr, cond):\n",
    "    if c == True:\n",
    "        result.append(x)\n",
    "    else:\n",
    "        result.append(y)\n",
    "\n",
    "result\n",
    "print(\"for loop time used: %.4f ms\"%(time.time()-start))\n",
    "\n",
    "\n",
    "\n",
    "\n",
    "# numpy\n",
    "start=time.time()\n",
    "result = np.where(cond, xarr, yarr)\n",
    "result\n",
    "print(\"numpy time used: %.4f ms\"%(time.time()-start))"
   ]
  },
  {
   "cell_type": "code",
   "execution_count": 70,
   "metadata": {},
   "outputs": [
    {
     "data": {
      "text/plain": [
       "array([[ 0.85564781, -0.79985871, -1.01019584, -0.74392529],\n",
       "       [-0.71751125, -1.97516522,  1.08398595, -0.4256654 ],\n",
       "       [ 0.42949003,  1.79076539,  0.58889255, -1.02190624],\n",
       "       [-0.02777351, -0.88764049,  1.11867144, -0.47678757]])"
      ]
     },
     "execution_count": 70,
     "metadata": {},
     "output_type": "execute_result"
    },
    {
     "data": {
      "text/plain": [
       "array([[ 2, -2, -2, -2],\n",
       "       [-2, -2,  2, -2],\n",
       "       [ 2,  2,  2, -2],\n",
       "       [-2, -2,  2, -2]])"
      ]
     },
     "execution_count": 70,
     "metadata": {},
     "output_type": "execute_result"
    },
    {
     "data": {
      "text/plain": [
       "array([['OUTLIER', '-0.7998587059229658', '-1.0101958449535045',\n",
       "        '-0.7439252882396051'],\n",
       "       ['-0.7175112488238211', '-1.9751652209907944', 'OUTLIER',\n",
       "        '-0.4256653996961279'],\n",
       "       ['OUTLIER', 'OUTLIER', 'OUTLIER', '-1.0219062355442414'],\n",
       "       ['-0.02777350654262473', '-0.8876404938587006', 'OUTLIER',\n",
       "        '-0.4767875666613019']], dtype='<U32')"
      ]
     },
     "execution_count": 70,
     "metadata": {},
     "output_type": "execute_result"
    }
   ],
   "source": [
    "arr = np.random.randn(4, 4)\n",
    "arr\n",
    "np.where(arr > 0, 2, -2)\n",
    "np.where(arr > 0, 'OUTLIER', arr)"
   ]
  },
  {
   "cell_type": "markdown",
   "metadata": {},
   "source": [
    "### sorting"
   ]
  },
  {
   "cell_type": "code",
   "execution_count": 44,
   "metadata": {},
   "outputs": [
    {
     "name": "stdout",
     "output_type": "stream",
     "text": [
      "numpy time used: 0.2658 ms\n"
     ]
    }
   ],
   "source": [
    "# Slow sorting\n",
    "arr = np.random.randn(1000)\n",
    "\n",
    "\n",
    "def sortn (nd):\n",
    "    for i in range(nd.size):\n",
    "        for j in range(i,nd.size):\n",
    "            if nd[j]>nd[i]:\n",
    "                nd[i],nd[j] = nd[j],nd[i]\n",
    "    return nd\n",
    "\n",
    "\n",
    "\n",
    "# \n",
    "\n",
    "start = time.time()\n",
    "sortn(arr)\n",
    "print(\"numpy time used: %.4f ms\"%(time.time()-start))"
   ]
  },
  {
   "cell_type": "code",
   "execution_count": 45,
   "metadata": {},
   "outputs": [
    {
     "name": "stdout",
     "output_type": "stream",
     "text": [
      "numpy time used: 0.0042 ms\n"
     ]
    }
   ],
   "source": [
    "# reduce T(n) and  S(n)\n",
    "arr = np.random.randn(1000)\n",
    "\n",
    "\n",
    "def sortn(nd):\n",
    "    for i in range(nd.size):\n",
    "        min_index = np.argmin(nd[i:])+i\n",
    "        nd[i],nd[min_index] = nd[min_index],nd[i]\n",
    "    return nd\n",
    "\n",
    "\n",
    "\n",
    "\n",
    "start = time.time()\n",
    "sortn(arr)\n",
    "print(\"numpy time used: %.4f ms\"%(time.time()-start))"
   ]
  },
  {
   "cell_type": "code",
   "execution_count": 48,
   "metadata": {
    "scrolled": true
   },
   "outputs": [
    {
     "name": "stdout",
     "output_type": "stream",
     "text": [
      "np.sort() time used: 0.0001 ms\n",
      "[-3.35597300e-01 -4.05781506e-01  2.68832211e-01 -1.27208281e+00\n",
      " -2.45088762e+00  1.49787080e+00  1.19133038e+00  9.32494071e-01\n",
      "  3.67306030e-01  6.90398016e-01  1.26275768e+00 -1.22543283e+00\n",
      " -1.54236117e+00 -2.83564475e-01 -5.34455473e-01 -1.69529712e+00\n",
      "  8.23191386e-01  6.06211353e-01 -1.01311499e+00 -2.15938689e+00\n",
      " -2.09206414e+00  2.35013379e-01 -5.67358743e-01 -5.37833129e-01\n",
      "  1.66210698e+00 -1.02590482e+00  1.64577550e+00  3.72441218e-01\n",
      " -1.22367700e+00 -2.94434635e-03  2.20152241e-01 -4.09081872e-01\n",
      " -1.77392513e+00 -4.24814316e-01  6.80458280e-02 -5.65401452e-01\n",
      "  4.09950950e-01  1.06274862e+00 -8.12913621e-01 -7.23046354e-01\n",
      "  2.85352931e-01 -5.44018456e-02 -2.45923609e+00  8.87966625e-01\n",
      "  1.14385906e+00  1.57797385e-01 -2.48292731e+00 -8.86146107e-02\n",
      "  1.85870170e+00  3.13082414e-01 -3.46648046e-01  3.61419247e-01\n",
      "  8.62328857e-01  8.88765491e-02  6.19158261e-02 -8.03776649e-01\n",
      "  3.22212241e-02  1.02325288e-01 -1.80246787e-01  5.04695494e-02\n",
      "  1.36251211e+00  7.77144171e-01 -1.44434918e+00 -1.04894403e+00\n",
      "  4.21904959e-02  7.96033011e-01 -1.55911060e+00  9.53032392e-01\n",
      " -4.17600757e-01  1.08421382e+00  1.82101320e+00 -1.32619297e+00\n",
      "  2.01094707e-01  1.12576629e-02 -1.67409535e+00 -1.55526262e+00\n",
      "  2.66316477e-01  7.69348835e-01  9.62827225e-01 -2.86912342e-01\n",
      "  6.64526829e-02  1.30788260e+00  4.02137944e-01 -4.50059777e-01\n",
      " -6.86171266e-02  8.83481316e-02  1.89183703e-01  9.99552507e-01\n",
      "  1.02523439e+00  9.29260110e-01 -3.27680439e-01 -6.57624088e-01\n",
      " -5.31296523e-02  3.99578038e-01  5.54118084e-01 -7.84599479e-01\n",
      "  1.24586874e+00 -7.88923091e-01 -8.09854827e-01 -8.12502122e-01\n",
      "  9.23586787e-01  2.09815514e-01  1.78017466e-02 -3.82112373e-01\n",
      "  9.32532779e-01  9.94175626e-01  9.42076711e-01 -1.66856119e+00\n",
      "  1.75542112e+00  1.14469456e+00  4.72957486e-01  5.03078728e-01\n",
      "  2.01485382e-01 -1.98793046e+00 -8.21935089e-02  8.04465412e-01\n",
      "  7.00966450e-01  2.18980789e-01  1.74704388e+00  3.42275530e-01\n",
      "  6.27125287e-01 -4.55093921e-01 -4.79561458e-01  5.73368726e-01\n",
      " -8.33607301e-01 -7.24254924e-01  1.03849883e+00  4.60885899e-01\n",
      " -9.84110404e-01  8.43464257e-01  1.64920374e+00 -6.48927832e-01\n",
      " -1.39963074e-01 -1.20796816e-01 -1.33502235e+00  1.53195645e+00\n",
      " -1.04667702e-01 -6.02939941e-02  1.65234020e-01  4.80338438e-01\n",
      "  1.27475563e+00 -5.09970277e-02 -1.80810304e-01  4.36685025e-01\n",
      " -1.33652026e+00  7.37338483e-01 -3.19685649e-01 -4.43025345e-01\n",
      "  1.09376201e+00  8.23023293e-01 -7.06011643e-01  4.91273243e-01\n",
      " -6.36248393e-01 -2.24097669e-01  3.03138936e-02 -6.58479449e-01\n",
      "  1.36394836e+00  2.44587642e-01  9.26636028e-01  8.02598803e-01\n",
      "  5.05931793e-01 -1.16372099e+00 -1.75487594e-01  3.54979258e-01\n",
      " -1.22369828e+00  1.38230879e+00  1.68723395e+00  1.47376177e+00\n",
      " -1.12062888e+00 -3.80412711e-01 -5.17093107e-01 -5.25985851e-01\n",
      "  3.46519314e+00 -1.04938544e+00 -8.26240186e-01 -1.69737954e+00\n",
      " -6.98081466e-02  8.02597787e-01 -1.10665748e+00 -3.25359875e-01\n",
      " -5.56877475e-01 -2.55484180e-01 -1.36428613e+00  5.23758831e-01\n",
      " -4.08410713e-01  9.04863369e-01 -4.65832684e-01  6.23837389e-01\n",
      "  1.21022385e+00  8.03635147e-01 -1.40250937e+00  3.41685248e-01\n",
      "  2.86063445e-01  6.03144767e-01 -3.13047036e-02  3.39078473e-01\n",
      " -9.36229291e-01  2.77344801e-01  8.32573490e-01  3.70400617e-01\n",
      "  3.30410062e-01  8.33161610e-01 -7.16914914e-01 -1.28294312e+00\n",
      "  5.59749567e-02  3.05496639e-01  1.00462270e+00  1.40128392e+00\n",
      "  5.07662157e-01 -3.34585043e-01 -1.17149229e-01 -4.48247478e-01\n",
      " -4.00864872e-01 -1.47264873e+00  1.48016350e+00  6.62540614e-01\n",
      "  6.84677971e-01 -1.30924558e+00  2.34296905e-01 -1.47482357e+00\n",
      "  1.24909129e+00  5.63789860e-01  7.10498227e-01 -2.78570414e-01\n",
      " -2.37442142e+00 -7.93521676e-01 -1.11602123e+00  2.07201597e+00\n",
      "  1.28016262e+00  2.09527693e+00 -1.15087576e-01  1.70794982e+00\n",
      " -1.69629992e+00  2.39714070e-01  3.09949666e-01  1.08056401e-01\n",
      "  3.38625812e-01  1.48468423e+00  3.61549628e-01 -2.86496736e-01\n",
      " -3.92973103e-01  8.23031781e-01  5.51118571e-01 -4.12683188e-01\n",
      " -4.84506526e-01  1.11227890e+00 -2.16662011e+00  1.03125300e+00\n",
      " -9.36827199e-01  1.19200700e+00 -6.93292143e-01  4.62697340e-01\n",
      "  9.95664097e-03  1.06806769e+00  2.78630983e-02 -4.76438067e-01\n",
      "  2.52734417e-01  2.83569928e+00 -7.88422105e-01  6.97234857e-01\n",
      " -1.14157098e-02  2.26145559e+00 -8.04599517e-01 -4.04466429e-01\n",
      "  1.68261783e-01  5.27189422e-01  3.19442254e-01  4.07343088e-01\n",
      "  3.51293984e-01 -1.80549606e-01 -3.28668947e-01 -3.79481889e-02\n",
      "  1.41926584e-01  2.27201571e-01  2.74742149e-01 -1.70205780e-01\n",
      "  5.69348146e-01 -1.99277500e-01  8.80506816e-02 -1.03450245e+00\n",
      "  9.49997458e-02 -1.06251549e+00 -1.54025801e+00  5.68425840e-01\n",
      " -3.97795296e-01 -3.09469557e-01  1.16378011e+00 -1.42777426e+00\n",
      " -1.13475589e+00  8.16582527e-01 -4.39914400e-01 -4.66154554e-01\n",
      "  1.22713547e+00 -3.76753362e-02  5.35512845e-01  1.79116381e-01\n",
      "  2.29665642e+00 -1.61454219e-01  7.10610575e-01 -3.76276487e-01\n",
      " -3.30712712e-01 -4.37038759e-01  1.07157065e+00 -3.71550729e-01\n",
      "  2.33162106e-01  1.11559226e+00  7.35053671e-01 -4.97469387e-01\n",
      "  2.29772081e+00  1.64851872e-01  1.70983242e+00 -2.80049045e+00\n",
      "  6.14368975e-01  4.96686967e-01 -4.64750806e-01 -4.55625666e-01\n",
      " -1.37573884e+00  4.84910510e-01  9.76157073e-02  7.49736457e-01\n",
      " -1.04254904e+00 -2.04481636e+00  1.08224338e+00  1.01936141e+00\n",
      " -2.25243554e-01  2.90894221e-01  1.13373362e+00 -2.65948371e+00\n",
      " -1.45572433e+00 -3.88386459e-01  1.05331724e+00  5.05793611e-01\n",
      "  3.63631775e-02  1.82732933e-03 -5.57621580e-01 -3.96097689e-02\n",
      " -1.12772290e+00  4.75850852e-01 -8.06736810e-01  1.40093782e-01\n",
      " -1.42323182e+00 -3.16477892e+00  1.31507314e-02  4.59902446e-01\n",
      "  1.40948187e+00  1.79606847e-01 -1.04756533e+00  9.03285646e-01\n",
      " -7.37050514e-01 -1.43730249e-01 -1.85464605e-02 -1.20403529e-01\n",
      "  1.27539257e+00 -1.33688247e+00  1.14872052e+00 -1.33616333e-01\n",
      " -1.00644065e+00  1.05789108e+00  8.72922459e-01  2.19109205e-01\n",
      " -4.26441567e-01  1.40053612e+00  5.14703317e-01  2.14363857e-01\n",
      " -1.02938619e+00  1.01264816e-02  2.13641132e+00  9.51089017e-01\n",
      " -6.44933477e-01  5.44000238e-01 -1.52468435e+00 -1.81866108e+00\n",
      " -1.72845160e+00  2.78447976e-01 -1.61983287e+00 -2.09311929e+00\n",
      " -3.81869136e-01  8.44979632e-01 -9.66883449e-01  7.50918117e-01\n",
      " -1.67119844e+00  8.42556110e-01  4.07890465e-01 -2.28805677e+00\n",
      " -1.26252674e+00 -5.44406881e-01  2.06152542e-01 -1.20632474e+00\n",
      " -1.45589838e+00 -1.33740647e+00 -9.59831243e-01  9.86785950e-01\n",
      " -7.50697536e-01 -9.75134521e-02  1.97803944e+00  1.17534320e+00\n",
      "  1.15577351e+00  3.70042451e-01 -6.18072706e-01 -8.16565347e-01\n",
      "  5.13381405e-01 -1.87430752e+00  6.94197257e-01 -6.72394742e-01\n",
      "  7.24893341e-01  1.59062868e-01  3.38705974e-01 -9.34888897e-01\n",
      "  1.36615163e+00  1.68603580e+00 -6.27916549e-02  8.00410653e-02\n",
      " -1.11340888e+00 -2.17209016e+00  5.78784120e-01  7.11488420e-01\n",
      " -1.15739625e+00  2.46307936e-01  7.52017466e-01 -2.54896871e-01\n",
      "  6.24923146e-01  3.72968131e-01 -1.85881213e-01 -9.64322191e-01\n",
      " -1.23268571e+00  2.03344624e+00 -9.57129618e-01 -1.45524357e+00\n",
      " -8.60119142e-01 -1.40448697e+00  2.65204729e-01  2.98651694e-01\n",
      "  7.84389182e-01  3.55090411e-01 -1.40155234e-02 -7.33717290e-01\n",
      "  9.74866658e-01  2.24674674e-01  1.69816792e+00  8.46688608e-01\n",
      " -7.74633005e-01  1.25613554e+00 -4.83200838e-01 -1.10519808e+00\n",
      " -5.72425352e-01  4.33456484e-01  6.61732659e-01 -1.66167576e+00\n",
      " -3.08192284e-01  1.16286454e+00 -6.74334349e-01 -1.13556052e+00\n",
      "  1.91716739e-01  9.26759613e-01  2.83174804e-01  1.88662527e+00\n",
      "  1.43604034e+00 -6.82774560e-01 -6.85352365e-01 -1.68899130e-02\n",
      " -1.89007251e+00  4.09857112e-01 -8.83987828e-01 -1.34407779e+00\n",
      " -7.55760839e-01 -8.30885491e-01  2.85373818e-02 -1.38229517e+00\n",
      "  1.36713972e-01 -6.73673621e-02  1.65039499e+00 -1.27782937e+00\n",
      "  4.61047886e-01  1.13697379e+00 -2.57076328e-01 -1.18802994e+00\n",
      " -7.59610282e-01 -1.95031060e-01 -5.52557762e-01  3.38758805e-01\n",
      "  1.60300144e+00  1.11468508e+00 -2.59703042e-01  9.08645183e-01\n",
      "  7.42982802e-01 -1.65732793e-01 -4.53276975e-01  4.27759389e-01\n",
      "  1.22797713e+00  3.31095555e-01  1.74691711e+00 -5.47123795e-01\n",
      "  9.15171741e-01 -5.55592632e-01 -1.63307477e+00 -5.95859210e-01\n",
      " -7.00630801e-02  1.33249145e+00  2.13614095e+00  1.20249964e-01\n",
      " -4.64769134e-02 -6.30944856e-01  8.88951445e-01 -1.20183729e-02\n",
      " -1.57113064e-01  6.65038301e-01 -1.55238311e+00  4.49415508e-01\n",
      " -2.47526429e-01 -3.19690088e-01  1.17655945e-01 -8.07709179e-01\n",
      " -2.35884531e+00 -1.61224570e+00  1.23593128e+00  9.06005493e-01\n",
      " -1.45943970e-01  2.02822242e+00  1.16376501e+00 -7.95839484e-01\n",
      "  9.56241885e-01 -1.01565884e+00 -2.46165927e-01 -1.27844607e+00\n",
      "  8.52171351e-02  1.17191447e-01  7.32701107e-02 -4.12099160e-01\n",
      "  5.83981281e-01  8.19712690e-01  7.12081644e-01 -3.31483532e-01\n",
      " -5.74589174e-01  9.20304801e-01  1.88414075e+00 -4.27655241e-01\n",
      " -4.78697304e-01  1.78437986e+00 -1.89831009e+00 -2.16722368e+00\n",
      " -1.91496188e-02  3.47928704e-01  4.00634777e-01  2.92147665e-01\n",
      " -1.54260033e+00  1.46248826e-01 -6.12857316e-01 -8.69620686e-02\n",
      " -6.30400227e-02 -1.06213136e+00 -4.39547955e-01  9.07208149e-01\n",
      "  1.04582365e+00  1.21919300e+00 -8.03673418e-01 -1.14643112e+00\n",
      "  1.69372992e+00  2.34514824e+00  2.49674626e+00  5.61080332e-01\n",
      " -1.23617998e+00  6.58207715e-01 -4.13026743e-01  5.67093882e-01\n",
      " -4.01696958e-01 -1.54376712e+00 -1.41681061e+00 -1.39570807e+00\n",
      " -2.23128940e+00 -1.34897648e+00 -7.85114757e-01  4.51231488e-01\n",
      " -8.03448934e-01 -7.21487100e-01  9.05554819e-01  1.18815044e+00\n",
      " -1.19172992e+00  2.26765682e-01  7.16973384e-01  1.49706408e-01\n",
      "  1.02011559e+00 -4.59060579e-01 -9.83789591e-01  3.88195292e-01\n",
      " -2.28284464e-01 -7.59613783e-01  2.89398001e-01  1.21043901e-01\n",
      " -1.33039999e+00 -1.06398214e+00  6.98566036e-02 -7.99770994e-01\n",
      "  6.00708260e-01 -4.93064769e-02  1.01299388e-01 -1.06245731e-01\n",
      " -1.16493610e+00  9.48508925e-01  1.74829383e+00 -7.22125754e-01\n",
      "  1.69292393e+00 -1.98259989e-01  4.36071033e-01 -3.83635689e-02\n",
      " -8.80846620e-01 -2.72555766e-01 -1.48921156e+00 -3.43865930e-02\n",
      " -4.25257509e-01 -2.31353291e-01 -1.18875825e+00 -1.17570360e+00\n",
      "  1.17317861e+00  4.77146703e-01  7.81147783e-01  3.82044213e-01\n",
      "  5.66774112e-01  1.55230206e+00  4.19326614e-01 -4.36540681e-01\n",
      " -2.21095312e-01 -7.56896100e-02 -1.28584727e+00  4.32847484e-01\n",
      "  1.65688022e+00 -9.43439173e-01 -1.65585375e+00 -4.35229725e-02\n",
      "  2.17805518e+00 -1.06254469e-01 -6.90060867e-01 -3.38623648e-01\n",
      "  7.11892649e-01  1.71238430e-01 -2.28015976e-01 -2.11181961e+00\n",
      " -3.69107862e-01  1.36127357e+00  1.28408840e+00 -4.35383052e-01\n",
      "  8.37605272e-01  3.15491749e-02 -4.24943772e-02  7.04722961e-01\n",
      "  2.69211644e+00 -3.88140552e-01 -1.18964537e+00  1.05035421e+00\n",
      "  1.64152624e-01  2.85414379e-02 -4.93266458e-01  1.22765586e+00\n",
      " -4.13288561e-01 -1.70424277e+00 -1.05755902e+00 -8.23249195e-01\n",
      " -1.48327668e+00 -1.84516358e-01 -7.90193503e-01 -5.59081837e-01\n",
      "  6.38269653e-01  1.22617901e+00 -4.09336899e-01  6.07868458e-01\n",
      " -9.29486873e-01  8.71713401e-03  3.42883660e-01  4.51831540e-01\n",
      " -2.10887434e-01  1.35197042e+00 -1.24808182e+00 -6.44859497e-01\n",
      " -5.54119646e-01 -1.51012731e+00 -1.91722309e+00 -3.48672835e-01\n",
      "  8.48657318e-01  9.20512403e-01  1.84199086e-01  4.87604655e-01\n",
      " -5.97115697e-01  2.82050045e-01 -8.93893179e-01 -2.04709180e-01\n",
      "  1.06396963e-02 -1.36111418e-01 -6.48530465e-01 -3.53718474e-01\n",
      " -1.20269840e+00  2.59393893e-01 -1.28126227e+00 -2.01686526e-01\n",
      "  1.10361017e+00  1.18928096e+00 -1.20773789e-01  1.67152474e-01\n",
      "  7.00130575e-02  1.24509991e+00 -2.48308248e-01 -7.45761814e-01\n",
      " -2.17438509e-02  3.18371290e-01  6.12921396e-01 -1.22276658e+00\n",
      "  4.52174245e-01 -9.00252219e-02  6.40750794e-02 -9.05485576e-01\n",
      "  1.57138927e-01  1.52158632e+00  5.13640885e-01 -1.07990259e+00\n",
      " -5.10157295e-01  3.06221761e-01 -1.31779015e+00  5.16847959e-01\n",
      "  9.94357116e-01  1.29068548e-01  9.77061800e-02  2.07837011e+00\n",
      "  4.44931926e-01  2.60420598e-01 -5.44310053e-01  8.70170488e-01\n",
      "  1.63618580e-01 -2.47668708e-01  7.64344974e-01  1.70811784e+00\n",
      " -2.37424784e+00 -5.01722637e-01 -3.04000978e-02  3.21113124e-01\n",
      " -1.29505849e-02  4.13878705e-01  6.90552457e-01  1.32367907e+00\n",
      "  8.76269768e-01  1.16618749e+00  1.24129150e+00  4.07311111e-02\n",
      " -1.26704452e+00 -1.14780636e+00 -6.21826740e-01  1.49625873e+00\n",
      " -3.67844992e-01  5.92589544e-01  7.08266809e-01 -1.56570592e+00\n",
      "  1.00961628e-01  2.47122262e-01  9.24266701e-01 -3.31958611e-01\n",
      "  8.06150411e-01  9.75878745e-01 -1.46553497e+00 -8.27131428e-01\n",
      " -1.06959100e+00 -1.00050053e+00  5.42847234e-01  2.31609838e+00\n",
      " -9.15913894e-02 -1.40303706e-01 -6.67268510e-01  5.09700629e-01\n",
      "  4.33204857e-01  1.57297669e-01  1.03764146e+00  4.18516318e-01\n",
      "  1.52535530e-01  3.49053710e-01 -1.84264816e+00  8.55240164e-01\n",
      "  1.39762904e-01 -2.22284434e-01 -8.26586902e-01  4.71442784e-01\n",
      "  6.25479435e-01  1.12731539e+00  3.56561076e+00  1.06263921e+00\n",
      "  2.55349800e-01  7.14217269e-01  1.11041220e-01  4.34298106e-01\n",
      " -1.50310998e+00  1.08211340e+00 -1.03832321e+00 -1.41467507e+00\n",
      "  9.77957311e-01  1.74158519e+00  3.86484172e-01  2.94010351e-01\n",
      "  1.21725301e+00  8.95674472e-01  1.02492818e+00 -1.38183685e+00\n",
      " -1.37281196e+00 -8.89553894e-01 -9.39987240e-01  2.36780453e-01\n",
      " -1.65682329e+00  3.84298793e-01 -3.67138527e-01 -6.99872008e-01\n",
      " -3.20345739e-01 -6.54743249e-01 -9.88026537e-01 -6.82311257e-01\n",
      "  5.76467543e-01 -3.83146085e-01 -1.07998200e+00  1.17172690e-01\n",
      "  2.22687123e+00  1.90104928e-01  6.46788411e-01  4.86137496e-01\n",
      " -9.90063106e-01  1.09763493e+00  6.56142287e-01  3.13042484e-01\n",
      " -4.29904886e-01 -1.24700902e-01 -1.60309044e+00  8.66873432e-01\n",
      " -1.58005986e+00  1.06354478e+00 -2.09203089e+00  8.75297123e-01\n",
      "  9.10353771e-01  1.10762788e+00 -5.35830029e-01 -1.27737788e+00\n",
      "  1.10369794e+00 -3.45997713e-02 -3.58475707e-01  1.48949440e+00\n",
      " -4.46018484e-01 -3.16293480e-01 -8.35046304e-01  1.05246155e+00\n",
      " -9.99340891e-01  1.91852231e-01  7.29364701e-02 -4.07225170e-01\n",
      " -8.42755686e-01  3.56560702e-01 -5.51438818e-01  1.90738395e+00\n",
      " -3.14331416e+00  9.03779014e-01  9.01061774e-01 -1.09822210e+00\n",
      "  8.16055217e-01  1.22050095e+00 -3.46709856e-01  1.83185890e-01\n",
      "  1.34029664e+00 -1.69596405e-01 -1.89788474e-01  1.11280164e+00\n",
      "  1.62590995e+00  4.42001730e-01  2.99576344e-01  1.34457009e+00\n",
      "  1.23760019e-01 -5.09343428e-01 -6.98778305e-01  2.88995177e-01\n",
      "  9.42407936e-01  5.35447392e-01 -1.14779853e+00 -2.37941306e-01\n",
      " -3.75810792e-01 -1.41849642e+00  6.41271338e-01 -5.74635837e-02\n",
      " -6.48650523e-01  1.69826038e-01  3.26592279e-01  1.47648362e+00\n",
      "  1.05742781e+00 -1.02483616e-02  3.69993103e-01 -2.45009172e+00\n",
      " -1.52161378e+00 -5.49142754e-01 -4.63145582e-01  9.59932159e-01\n",
      " -1.23416463e+00  1.67499390e+00 -2.97347930e-01 -1.82739952e-03\n",
      " -8.70976160e-01  1.53067108e-01 -2.05765641e-01  1.74577680e-01\n",
      "  4.87547309e-01  1.51081381e+00  8.10440547e-01 -1.19095415e-01\n",
      "  3.38629858e-01 -1.71196573e+00 -6.87507656e-01  3.58690840e-01\n",
      " -1.18597633e+00  1.32705437e+00  1.60110719e-01 -7.70825492e-01\n",
      "  3.27581902e-01  6.06614520e-01  3.05730678e-01  4.63497585e-01\n",
      " -8.52792234e-02  1.58344081e-01 -8.87860954e-01 -3.70251258e-02\n",
      "  7.78548308e-01  9.57820863e-01 -2.73495531e-01  9.70959771e-01\n",
      " -4.80265860e-01  8.89535139e-01  6.17174405e-01  3.23146559e-01\n",
      "  7.53779260e-01  1.14411509e+00 -1.06347373e+00 -2.22542036e+00\n",
      " -1.14046619e+00  3.13872580e-01  1.53282761e-01 -6.54855319e-01\n",
      " -1.65816279e+00  6.91082376e-01 -1.59553231e+00  1.95723697e+00\n",
      " -7.48636513e-02  1.31879279e+00  1.32119784e+00 -2.23486946e-02\n",
      " -2.13001698e+00  5.98336939e-01  2.33779931e+00 -6.13310661e-01\n",
      "  4.06548049e-01  2.16566434e-01  1.86613578e-02  8.81516180e-01\n",
      " -1.12382754e-01  1.19071681e-01 -1.50867315e+00 -7.97123280e-01\n",
      " -2.04357228e-01 -2.91128603e-02 -3.11145302e-01  4.65530389e-01\n",
      "  5.77993648e-01 -5.14388896e-01 -8.78866775e-01 -1.81592534e-01\n",
      "  1.49205337e-01  5.45268066e-01  2.48905257e-01 -1.75495103e+00\n",
      " -4.18600061e-01  1.88378800e-01 -1.27017343e-01  1.44712577e+00\n",
      " -1.58805029e+00  7.54593860e-01 -1.54414708e+00  1.27639212e+00\n",
      " -8.03057531e-01  3.25642649e-01 -1.52475240e+00 -1.66078772e-01\n",
      " -1.94911630e+00 -1.14426498e+00 -6.09315616e-01 -4.41558176e-01\n",
      "  1.23280342e+00  1.15187640e+00  1.23527484e-01 -9.33527265e-01\n",
      "  4.79087328e-01  7.84663319e-01  3.21321677e+00  1.17062034e+00\n",
      " -1.16823316e+00  6.56920161e-01  2.02013094e+00 -5.19254953e-01\n",
      " -1.38282635e+00  4.40170566e-01  5.36113366e-01  7.72665092e-01\n",
      "  2.76530321e-01  2.63855555e-01  1.96472852e+00 -1.09541051e+00]\n"
     ]
    }
   ],
   "source": [
    "# np.sort\n",
    "\n",
    "arr = np.random.randn(1000)\n",
    "start = time.time()\n",
    "np.sort(arr)\n",
    "print(\"np.sort() time used: %.4f ms\"%(time.time()-start))\n",
    "print(arr) # it wont change the original arr"
   ]
  },
  {
   "cell_type": "code",
   "execution_count": 49,
   "metadata": {},
   "outputs": [
    {
     "name": "stdout",
     "output_type": "stream",
     "text": [
      "numpy time used: 0.0002 ms\n"
     ]
    },
    {
     "data": {
      "text/plain": [
       "array([-3.27515294e+00, -2.90001730e+00, -2.85068949e+00, -2.79338044e+00,\n",
       "       -2.74380365e+00, -2.72647989e+00, -2.64221537e+00, -2.47752038e+00,\n",
       "       -2.40113032e+00, -2.32354629e+00, -2.29923642e+00, -2.24576198e+00,\n",
       "       -2.19938580e+00, -2.17231046e+00, -2.14476048e+00, -2.12918557e+00,\n",
       "       -2.08169269e+00, -2.06245955e+00, -2.03763474e+00, -2.03347448e+00,\n",
       "       -2.02831463e+00, -2.01311040e+00, -1.99378048e+00, -1.98103067e+00,\n",
       "       -1.93667774e+00, -1.90911463e+00, -1.89210686e+00, -1.88162184e+00,\n",
       "       -1.85891114e+00, -1.85481758e+00, -1.83093842e+00, -1.78441871e+00,\n",
       "       -1.73975816e+00, -1.73662597e+00, -1.73484759e+00, -1.70302398e+00,\n",
       "       -1.70166868e+00, -1.69188340e+00, -1.68361687e+00, -1.66503873e+00,\n",
       "       -1.66302060e+00, -1.64907216e+00, -1.64699467e+00, -1.62341627e+00,\n",
       "       -1.61613368e+00, -1.61411202e+00, -1.59763237e+00, -1.59441921e+00,\n",
       "       -1.59307231e+00, -1.59279989e+00, -1.59027331e+00, -1.58554563e+00,\n",
       "       -1.57833415e+00, -1.56771735e+00, -1.54729228e+00, -1.53456797e+00,\n",
       "       -1.53388267e+00, -1.52803173e+00, -1.52633987e+00, -1.51356193e+00,\n",
       "       -1.49489510e+00, -1.48074243e+00, -1.47550858e+00, -1.46508600e+00,\n",
       "       -1.46256687e+00, -1.45338497e+00, -1.45244456e+00, -1.44352622e+00,\n",
       "       -1.43208405e+00, -1.42918887e+00, -1.42762599e+00, -1.41893512e+00,\n",
       "       -1.38923424e+00, -1.38791595e+00, -1.38465750e+00, -1.37927061e+00,\n",
       "       -1.36961022e+00, -1.35662705e+00, -1.35003972e+00, -1.34911940e+00,\n",
       "       -1.34853988e+00, -1.34070909e+00, -1.31428178e+00, -1.30808877e+00,\n",
       "       -1.30412927e+00, -1.28932505e+00, -1.28879156e+00, -1.28336184e+00,\n",
       "       -1.27917886e+00, -1.27584250e+00, -1.26895011e+00, -1.26452682e+00,\n",
       "       -1.26441528e+00, -1.26279327e+00, -1.26148520e+00, -1.25988363e+00,\n",
       "       -1.25964868e+00, -1.24964151e+00, -1.24767671e+00, -1.24031044e+00,\n",
       "       -1.23657382e+00, -1.21789136e+00, -1.21199946e+00, -1.21181408e+00,\n",
       "       -1.20841383e+00, -1.20680033e+00, -1.20553131e+00, -1.20501173e+00,\n",
       "       -1.20170888e+00, -1.18972948e+00, -1.18870341e+00, -1.18681640e+00,\n",
       "       -1.17750859e+00, -1.17578052e+00, -1.17528319e+00, -1.16728587e+00,\n",
       "       -1.16279343e+00, -1.15830761e+00, -1.15764297e+00, -1.15628429e+00,\n",
       "       -1.14779226e+00, -1.14363618e+00, -1.13533179e+00, -1.11463353e+00,\n",
       "       -1.11427593e+00, -1.10522983e+00, -1.10490665e+00, -1.09182484e+00,\n",
       "       -1.08920486e+00, -1.08153503e+00, -1.07759007e+00, -1.07272061e+00,\n",
       "       -1.07064980e+00, -1.06868824e+00, -1.05370359e+00, -1.04810413e+00,\n",
       "       -1.04502739e+00, -1.04420253e+00, -1.03306194e+00, -1.03287182e+00,\n",
       "       -1.02065368e+00, -1.01876091e+00, -1.01692068e+00, -1.01018581e+00,\n",
       "       -1.00593955e+00, -1.00021474e+00, -9.96410303e-01, -9.96137286e-01,\n",
       "       -9.87928252e-01, -9.78578379e-01, -9.77843969e-01, -9.77569496e-01,\n",
       "       -9.76944362e-01, -9.76521819e-01, -9.75134742e-01, -9.73058945e-01,\n",
       "       -9.66480094e-01, -9.62411948e-01, -9.49019575e-01, -9.48991428e-01,\n",
       "       -9.47563230e-01, -9.43497416e-01, -9.39457091e-01, -9.39021638e-01,\n",
       "       -9.38501363e-01, -9.38175365e-01, -9.29227247e-01, -9.26866475e-01,\n",
       "       -9.23512947e-01, -9.09594295e-01, -9.06134855e-01, -9.00310304e-01,\n",
       "       -8.99204811e-01, -8.99085316e-01, -8.93705756e-01, -8.92357896e-01,\n",
       "       -8.89383492e-01, -8.87735258e-01, -8.80491449e-01, -8.79658140e-01,\n",
       "       -8.74490141e-01, -8.70271404e-01, -8.59288643e-01, -8.57110409e-01,\n",
       "       -8.53223917e-01, -8.50806775e-01, -8.44683475e-01, -8.42338959e-01,\n",
       "       -8.36386631e-01, -8.30542984e-01, -8.29627279e-01, -8.27325155e-01,\n",
       "       -8.26116392e-01, -8.22567836e-01, -8.22512426e-01, -8.21750119e-01,\n",
       "       -8.16776805e-01, -8.16535212e-01, -8.14768036e-01, -8.11279395e-01,\n",
       "       -8.07501564e-01, -7.97114933e-01, -7.96356250e-01, -7.93757433e-01,\n",
       "       -7.90255653e-01, -7.83586314e-01, -7.72666195e-01, -7.65666120e-01,\n",
       "       -7.63846547e-01, -7.57477204e-01, -7.51711943e-01, -7.48205407e-01,\n",
       "       -7.42516362e-01, -7.42184656e-01, -7.40715322e-01, -7.39848997e-01,\n",
       "       -7.29129436e-01, -7.27497661e-01, -7.24923024e-01, -7.23381135e-01,\n",
       "       -7.21446260e-01, -7.15682617e-01, -7.13368851e-01, -7.08328260e-01,\n",
       "       -7.06375071e-01, -7.02808167e-01, -7.02304030e-01, -6.98364121e-01,\n",
       "       -6.94279816e-01, -6.89532771e-01, -6.81611496e-01, -6.80036667e-01,\n",
       "       -6.77989263e-01, -6.74334799e-01, -6.61437925e-01, -6.58154030e-01,\n",
       "       -6.56628962e-01, -6.45256008e-01, -6.36064306e-01, -6.16445932e-01,\n",
       "       -6.13972973e-01, -6.13773853e-01, -6.05844362e-01, -6.05742912e-01,\n",
       "       -6.05435440e-01, -6.03159228e-01, -5.99458468e-01, -5.99425992e-01,\n",
       "       -5.99312640e-01, -5.99104809e-01, -5.97740735e-01, -5.85657681e-01,\n",
       "       -5.82164825e-01, -5.81255391e-01, -5.76533745e-01, -5.70420818e-01,\n",
       "       -5.68659142e-01, -5.65056300e-01, -5.62887180e-01, -5.60893736e-01,\n",
       "       -5.53881913e-01, -5.50687897e-01, -5.45094228e-01, -5.44220916e-01,\n",
       "       -5.40989505e-01, -5.36753871e-01, -5.29833756e-01, -5.28506477e-01,\n",
       "       -5.27028622e-01, -5.25510762e-01, -5.22600873e-01, -5.19148149e-01,\n",
       "       -5.19053224e-01, -5.15815581e-01, -5.13470949e-01, -5.11934319e-01,\n",
       "       -5.06360300e-01, -5.03932324e-01, -4.95251543e-01, -4.93916583e-01,\n",
       "       -4.85349884e-01, -4.84824116e-01, -4.81046287e-01, -4.76611514e-01,\n",
       "       -4.74924531e-01, -4.71177813e-01, -4.70943300e-01, -4.67654061e-01,\n",
       "       -4.62817902e-01, -4.62497595e-01, -4.57550445e-01, -4.54185475e-01,\n",
       "       -4.52279844e-01, -4.50326187e-01, -4.49787516e-01, -4.49386064e-01,\n",
       "       -4.47745639e-01, -4.44244820e-01, -4.38160547e-01, -4.37541698e-01,\n",
       "       -4.34412910e-01, -4.32662605e-01, -4.27547873e-01, -4.26106478e-01,\n",
       "       -4.25921056e-01, -4.23363165e-01, -4.23058606e-01, -4.21969164e-01,\n",
       "       -4.21705562e-01, -4.18859977e-01, -4.17680036e-01, -4.13156348e-01,\n",
       "       -4.12176807e-01, -4.10876143e-01, -4.10483844e-01, -4.03213023e-01,\n",
       "       -4.01578611e-01, -3.99344211e-01, -3.98117683e-01, -3.95778445e-01,\n",
       "       -3.93332151e-01, -3.92952468e-01, -3.91755816e-01, -3.87571327e-01,\n",
       "       -3.86262847e-01, -3.85104080e-01, -3.79887301e-01, -3.78380787e-01,\n",
       "       -3.76738014e-01, -3.74327851e-01, -3.74323742e-01, -3.66839368e-01,\n",
       "       -3.64512633e-01, -3.60387468e-01, -3.60283964e-01, -3.59940768e-01,\n",
       "       -3.57702795e-01, -3.54828194e-01, -3.52230180e-01, -3.41662221e-01,\n",
       "       -3.41374482e-01, -3.39840341e-01, -3.39757917e-01, -3.39324296e-01,\n",
       "       -3.30739116e-01, -3.30439266e-01, -3.27118710e-01, -3.25099676e-01,\n",
       "       -3.20156488e-01, -3.14876408e-01, -3.14873836e-01, -3.08158075e-01,\n",
       "       -3.06133721e-01, -3.05012024e-01, -2.98413849e-01, -2.92775765e-01,\n",
       "       -2.89761717e-01, -2.87826657e-01, -2.86961626e-01, -2.84272928e-01,\n",
       "       -2.83428891e-01, -2.83183370e-01, -2.80955160e-01, -2.80080389e-01,\n",
       "       -2.75517442e-01, -2.72869962e-01, -2.70176193e-01, -2.67444172e-01,\n",
       "       -2.62871593e-01, -2.58152345e-01, -2.57059174e-01, -2.56279926e-01,\n",
       "       -2.51535635e-01, -2.48901916e-01, -2.41597942e-01, -2.35683928e-01,\n",
       "       -2.33108820e-01, -2.27786908e-01, -2.27459139e-01, -2.26845115e-01,\n",
       "       -2.24246277e-01, -2.21584295e-01, -2.20471573e-01, -2.18839987e-01,\n",
       "       -2.17621710e-01, -2.13492053e-01, -2.07749990e-01, -2.05309233e-01,\n",
       "       -2.03757899e-01, -2.00170448e-01, -1.96936635e-01, -1.93638560e-01,\n",
       "       -1.93300503e-01, -1.86702608e-01, -1.79421608e-01, -1.78734741e-01,\n",
       "       -1.76823743e-01, -1.71594403e-01, -1.71520143e-01, -1.71096859e-01,\n",
       "       -1.70696262e-01, -1.70408024e-01, -1.69073242e-01, -1.63961967e-01,\n",
       "       -1.63348410e-01, -1.61566372e-01, -1.59163058e-01, -1.58688738e-01,\n",
       "       -1.44609022e-01, -1.43980867e-01, -1.39994872e-01, -1.38861473e-01,\n",
       "       -1.37523610e-01, -1.36976341e-01, -1.33796852e-01, -1.32474637e-01,\n",
       "       -1.30983492e-01, -1.20713797e-01, -1.17666017e-01, -1.14920680e-01,\n",
       "       -1.10281816e-01, -1.09042548e-01, -1.08988111e-01, -1.08685875e-01,\n",
       "       -1.00901766e-01, -9.64241982e-02, -9.38601503e-02, -9.36002817e-02,\n",
       "       -9.02999933e-02, -8.33019204e-02, -8.02896172e-02, -7.68980978e-02,\n",
       "       -7.62953828e-02, -7.31188593e-02, -7.01091729e-02, -6.99521354e-02,\n",
       "       -6.97471652e-02, -6.92526858e-02, -6.77014594e-02, -6.72326345e-02,\n",
       "       -6.71658731e-02, -6.20138063e-02, -5.87380358e-02, -5.52981424e-02,\n",
       "       -4.98252688e-02, -4.91229978e-02, -4.90860282e-02, -4.74631702e-02,\n",
       "       -4.64222858e-02, -4.62400393e-02, -4.50385606e-02, -4.41004609e-02,\n",
       "       -4.39728648e-02, -4.14490896e-02, -3.97040145e-02, -3.93038541e-02,\n",
       "       -3.83301357e-02, -3.72601938e-02, -3.66621085e-02, -3.44767316e-02,\n",
       "       -3.26505694e-02, -2.61257667e-02, -2.28696516e-02, -2.09039616e-02,\n",
       "       -1.54115119e-02, -1.51665010e-02, -1.43872212e-02, -1.35709551e-02,\n",
       "       -9.27188052e-03, -3.90255785e-03, -3.26884962e-03, -1.50704489e-03,\n",
       "       -3.84140208e-04,  4.85888976e-04,  6.47641346e-04,  8.97006381e-04,\n",
       "        3.58950973e-03,  3.98210282e-03,  8.32847141e-03,  1.26945392e-02,\n",
       "        1.28463024e-02,  1.35866690e-02,  1.53756515e-02,  1.60858621e-02,\n",
       "        2.05141716e-02,  2.30306647e-02,  2.40600928e-02,  4.11049712e-02,\n",
       "        4.30388087e-02,  4.48458909e-02,  4.72814990e-02,  4.81282244e-02,\n",
       "        5.04063287e-02,  5.75494257e-02,  6.12988686e-02,  6.46625248e-02,\n",
       "        6.66295532e-02,  6.76713033e-02,  6.77721142e-02,  6.92493158e-02,\n",
       "        7.41429398e-02,  7.79381469e-02,  7.93875888e-02,  8.59071215e-02,\n",
       "        8.82331274e-02,  8.83441717e-02,  8.85766800e-02,  9.06434841e-02,\n",
       "        9.34656006e-02,  9.39796715e-02,  9.42077087e-02,  1.03211020e-01,\n",
       "        1.07437166e-01,  1.08041408e-01,  1.08102045e-01,  1.08418248e-01,\n",
       "        1.11969761e-01,  1.12108148e-01,  1.12707472e-01,  1.12894515e-01,\n",
       "        1.16387425e-01,  1.17067336e-01,  1.17172913e-01,  1.19940777e-01,\n",
       "        1.25011005e-01,  1.29896546e-01,  1.30773021e-01,  1.30890306e-01,\n",
       "        1.38845678e-01,  1.40049987e-01,  1.41659686e-01,  1.41865792e-01,\n",
       "        1.43925229e-01,  1.45576117e-01,  1.48510866e-01,  1.55225322e-01,\n",
       "        1.58861161e-01,  1.60511415e-01,  1.61585555e-01,  1.66883127e-01,\n",
       "        1.69282441e-01,  1.76843123e-01,  1.78724727e-01,  1.78964112e-01,\n",
       "        1.80257312e-01,  1.81674932e-01,  1.83226971e-01,  1.85695602e-01,\n",
       "        1.87636302e-01,  1.98697408e-01,  2.01805852e-01,  2.02561140e-01,\n",
       "        2.04201253e-01,  2.07647069e-01,  2.08211447e-01,  2.08974575e-01,\n",
       "        2.12970976e-01,  2.13650086e-01,  2.23737969e-01,  2.24669082e-01,\n",
       "        2.27308084e-01,  2.29277546e-01,  2.30147225e-01,  2.31111264e-01,\n",
       "        2.35753340e-01,  2.37330868e-01,  2.38381991e-01,  2.39701496e-01,\n",
       "        2.40614442e-01,  2.41331545e-01,  2.48589236e-01,  2.49273812e-01,\n",
       "        2.49724640e-01,  2.50814932e-01,  2.54189941e-01,  2.55135979e-01,\n",
       "        2.57460313e-01,  2.62146126e-01,  2.63445378e-01,  2.69822724e-01,\n",
       "        2.69831862e-01,  2.73666720e-01,  2.81424250e-01,  2.83297706e-01,\n",
       "        2.86238249e-01,  2.89529404e-01,  2.91073196e-01,  2.91702287e-01,\n",
       "        2.92522615e-01,  2.95293157e-01,  2.98553114e-01,  3.00207504e-01,\n",
       "        3.03832963e-01,  3.10569304e-01,  3.13418562e-01,  3.14395908e-01,\n",
       "        3.14420668e-01,  3.14506176e-01,  3.15469204e-01,  3.18452994e-01,\n",
       "        3.22989789e-01,  3.24643857e-01,  3.24984714e-01,  3.25556185e-01,\n",
       "        3.28353107e-01,  3.40006551e-01,  3.42703435e-01,  3.44743915e-01,\n",
       "        3.49114136e-01,  3.49739050e-01,  3.50855287e-01,  3.55277990e-01,\n",
       "        3.57781059e-01,  3.58669283e-01,  3.63878004e-01,  3.65068738e-01,\n",
       "        3.68434459e-01,  3.69411060e-01,  3.69568962e-01,  3.71034277e-01,\n",
       "        3.75051774e-01,  3.75906978e-01,  3.78940858e-01,  3.83372628e-01,\n",
       "        3.88374076e-01,  3.98719504e-01,  4.05561708e-01,  4.07697783e-01,\n",
       "        4.10367511e-01,  4.12385834e-01,  4.14575577e-01,  4.16109433e-01,\n",
       "        4.16184739e-01,  4.17510828e-01,  4.18871325e-01,  4.19583178e-01,\n",
       "        4.21195101e-01,  4.21495686e-01,  4.29511075e-01,  4.32235052e-01,\n",
       "        4.32423441e-01,  4.34051472e-01,  4.34609726e-01,  4.41695275e-01,\n",
       "        4.45760557e-01,  4.48740262e-01,  4.49967221e-01,  4.50458539e-01,\n",
       "        4.57824865e-01,  4.58154477e-01,  4.58567015e-01,  4.63649798e-01,\n",
       "        4.71220156e-01,  4.72273819e-01,  4.73298868e-01,  4.81130246e-01,\n",
       "        4.81741089e-01,  4.82537012e-01,  4.87161320e-01,  4.89423699e-01,\n",
       "        4.93282569e-01,  4.93432015e-01,  4.93845896e-01,  4.97874386e-01,\n",
       "        4.98663130e-01,  5.01854237e-01,  5.02867935e-01,  5.03921899e-01,\n",
       "        5.05844560e-01,  5.11919335e-01,  5.12624263e-01,  5.15979440e-01,\n",
       "        5.17122853e-01,  5.18487438e-01,  5.19606675e-01,  5.23794913e-01,\n",
       "        5.28719830e-01,  5.32758741e-01,  5.42365917e-01,  5.44747035e-01,\n",
       "        5.49206805e-01,  5.51364488e-01,  5.51650779e-01,  5.53408560e-01,\n",
       "        5.54677756e-01,  5.56557492e-01,  5.59115250e-01,  5.61825805e-01,\n",
       "        5.64717010e-01,  5.66775059e-01,  5.67141408e-01,  5.71542018e-01,\n",
       "        5.72544755e-01,  5.78067434e-01,  5.82587595e-01,  5.82901758e-01,\n",
       "        5.83796205e-01,  5.90006945e-01,  5.92138863e-01,  5.92416127e-01,\n",
       "        5.94733507e-01,  5.95149810e-01,  5.95492130e-01,  6.03289372e-01,\n",
       "        6.15402309e-01,  6.38343316e-01,  6.46712682e-01,  6.49772920e-01,\n",
       "        6.49812368e-01,  6.51750103e-01,  6.57367001e-01,  6.61669643e-01,\n",
       "        6.62058182e-01,  6.62905057e-01,  6.65762519e-01,  6.72414011e-01,\n",
       "        6.74155730e-01,  6.74554460e-01,  6.75188921e-01,  6.76381098e-01,\n",
       "        6.78856971e-01,  6.80160034e-01,  6.82309080e-01,  6.87701425e-01,\n",
       "        6.89691636e-01,  7.01715845e-01,  7.02320446e-01,  7.04904756e-01,\n",
       "        7.05671010e-01,  7.06063238e-01,  7.13290484e-01,  7.15440682e-01,\n",
       "        7.16773477e-01,  7.23549500e-01,  7.23554649e-01,  7.27513398e-01,\n",
       "        7.28285409e-01,  7.28509220e-01,  7.31436886e-01,  7.37981407e-01,\n",
       "        7.39244317e-01,  7.40077733e-01,  7.42266975e-01,  7.42399936e-01,\n",
       "        7.42899480e-01,  7.47901809e-01,  7.48909863e-01,  7.52851763e-01,\n",
       "        7.58329392e-01,  7.58330629e-01,  7.61754699e-01,  7.66740268e-01,\n",
       "        7.67081457e-01,  7.73757338e-01,  7.79061557e-01,  7.79673020e-01,\n",
       "        7.83283666e-01,  7.90459702e-01,  7.91271240e-01,  7.92185092e-01,\n",
       "        7.92940198e-01,  7.94213614e-01,  7.94767245e-01,  7.96659034e-01,\n",
       "        7.97559141e-01,  7.98599701e-01,  8.03890557e-01,  8.10950054e-01,\n",
       "        8.13108032e-01,  8.14613805e-01,  8.14875053e-01,  8.18758675e-01,\n",
       "        8.21967266e-01,  8.22759079e-01,  8.23872828e-01,  8.24765828e-01,\n",
       "        8.26057766e-01,  8.31878800e-01,  8.31928001e-01,  8.32096472e-01,\n",
       "        8.35872163e-01,  8.36357174e-01,  8.38570358e-01,  8.40261214e-01,\n",
       "        8.41644465e-01,  8.43732883e-01,  8.44200905e-01,  8.47846535e-01,\n",
       "        8.47906307e-01,  8.50073875e-01,  8.58378990e-01,  8.59554291e-01,\n",
       "        8.59611026e-01,  8.61830436e-01,  8.62124079e-01,  8.63307469e-01,\n",
       "        8.65647106e-01,  8.66278016e-01,  8.67345614e-01,  8.67450842e-01,\n",
       "        8.71445581e-01,  8.71493785e-01,  8.73289509e-01,  8.77547107e-01,\n",
       "        8.93499574e-01,  8.94937432e-01,  8.95421950e-01,  8.95922186e-01,\n",
       "        9.00159826e-01,  9.05485934e-01,  9.10074278e-01,  9.17322221e-01,\n",
       "        9.19110895e-01,  9.20589895e-01,  9.22047393e-01,  9.28821756e-01,\n",
       "        9.30117807e-01,  9.36304944e-01,  9.37457564e-01,  9.37664903e-01,\n",
       "        9.45882303e-01,  9.51736604e-01,  9.53326764e-01,  9.58305244e-01,\n",
       "        9.62946707e-01,  9.63215906e-01,  9.71817641e-01,  9.76659261e-01,\n",
       "        9.77997456e-01,  9.81526176e-01,  9.82394288e-01,  9.90199117e-01,\n",
       "        9.90512392e-01,  9.92801137e-01,  1.00028691e+00,  1.00037169e+00,\n",
       "        1.00868987e+00,  1.01080008e+00,  1.01737643e+00,  1.01743092e+00,\n",
       "        1.01836014e+00,  1.02656351e+00,  1.03036427e+00,  1.03744361e+00,\n",
       "        1.04435610e+00,  1.04550062e+00,  1.04901291e+00,  1.05367483e+00,\n",
       "        1.06577142e+00,  1.06976290e+00,  1.07010664e+00,  1.07496996e+00,\n",
       "        1.07687039e+00,  1.08168257e+00,  1.08541734e+00,  1.09449127e+00,\n",
       "        1.09559169e+00,  1.09659927e+00,  1.09788377e+00,  1.10000576e+00,\n",
       "        1.10040458e+00,  1.12184769e+00,  1.12676518e+00,  1.13016121e+00,\n",
       "        1.13353072e+00,  1.13967703e+00,  1.14679789e+00,  1.14817862e+00,\n",
       "        1.16067407e+00,  1.17537856e+00,  1.17679647e+00,  1.18342381e+00,\n",
       "        1.18372294e+00,  1.19465994e+00,  1.19617822e+00,  1.19739996e+00,\n",
       "        1.19782002e+00,  1.19784539e+00,  1.19928934e+00,  1.20408754e+00,\n",
       "        1.20463746e+00,  1.21174479e+00,  1.23493531e+00,  1.24003319e+00,\n",
       "        1.24219629e+00,  1.24226786e+00,  1.25107851e+00,  1.25288343e+00,\n",
       "        1.25729604e+00,  1.26130621e+00,  1.26209301e+00,  1.26355565e+00,\n",
       "        1.26999745e+00,  1.28075719e+00,  1.28917490e+00,  1.30496922e+00,\n",
       "        1.31088067e+00,  1.31209514e+00,  1.31659474e+00,  1.31906482e+00,\n",
       "        1.32324271e+00,  1.32624323e+00,  1.32930067e+00,  1.33212010e+00,\n",
       "        1.33596931e+00,  1.33681591e+00,  1.33739066e+00,  1.34017937e+00,\n",
       "        1.35433197e+00,  1.35597253e+00,  1.36039952e+00,  1.36147682e+00,\n",
       "        1.36228913e+00,  1.36739502e+00,  1.36757820e+00,  1.36892917e+00,\n",
       "        1.36938592e+00,  1.38564577e+00,  1.39601467e+00,  1.40328669e+00,\n",
       "        1.41282598e+00,  1.41597913e+00,  1.44392140e+00,  1.45122109e+00,\n",
       "        1.45321199e+00,  1.46412456e+00,  1.46455543e+00,  1.47095300e+00,\n",
       "        1.47520190e+00,  1.47791672e+00,  1.47843257e+00,  1.48329202e+00,\n",
       "        1.48439519e+00,  1.49047375e+00,  1.49239475e+00,  1.50154710e+00,\n",
       "        1.52154987e+00,  1.52270023e+00,  1.52487700e+00,  1.52692936e+00,\n",
       "        1.52949515e+00,  1.52972764e+00,  1.53170743e+00,  1.54065932e+00,\n",
       "        1.55495011e+00,  1.58090664e+00,  1.58111041e+00,  1.59351217e+00,\n",
       "        1.60107665e+00,  1.61297709e+00,  1.63785982e+00,  1.64338415e+00,\n",
       "        1.66259178e+00,  1.66330558e+00,  1.69484470e+00,  1.70508420e+00,\n",
       "        1.71052423e+00,  1.72540846e+00,  1.72569039e+00,  1.73535167e+00,\n",
       "        1.74102310e+00,  1.75674413e+00,  1.76691052e+00,  1.76825323e+00,\n",
       "        1.78219022e+00,  1.78482855e+00,  1.78713908e+00,  1.79087536e+00,\n",
       "        1.79233469e+00,  1.79786048e+00,  1.81260965e+00,  1.82891497e+00,\n",
       "        1.83518385e+00,  1.88572460e+00,  1.89372069e+00,  1.89900787e+00,\n",
       "        1.93511598e+00,  1.95289451e+00,  2.01618922e+00,  2.04659205e+00,\n",
       "        2.07030980e+00,  2.07643083e+00,  2.09268170e+00,  2.10817874e+00,\n",
       "        2.12185841e+00,  2.16988479e+00,  2.18764018e+00,  2.21336255e+00,\n",
       "        2.21760014e+00,  2.22731674e+00,  2.23613751e+00,  2.35102399e+00,\n",
       "        2.36604521e+00,  2.43610882e+00,  2.46340330e+00,  2.48391686e+00,\n",
       "        2.49248779e+00,  2.56340265e+00,  2.59678267e+00,  2.79955564e+00])"
      ]
     },
     "execution_count": 49,
     "metadata": {},
     "output_type": "execute_result"
    }
   ],
   "source": [
    "# ndarray.sort()\n",
    "arr = np.random.randn(1000)\n",
    "\n",
    "\n",
    "start = time.time()\n",
    "arr.sort()\n",
    "print(\"numpy time used: %.4f ms\"%(time.time()-start))\n",
    "\n",
    "\n",
    "arr # orignal arr changed\n"
   ]
  },
  {
   "cell_type": "markdown",
   "metadata": {},
   "source": [
    "### unique"
   ]
  },
  {
   "cell_type": "code",
   "execution_count": 77,
   "metadata": {},
   "outputs": [
    {
     "data": {
      "text/plain": [
       "array(['Bob', 'Joe', 'Will'], dtype='<U4')"
      ]
     },
     "execution_count": 77,
     "metadata": {},
     "output_type": "execute_result"
    }
   ],
   "source": [
    "names = np.array(['Bob', 'Joe', 'Will', 'Bob', 'Will', 'Joe', 'Joe'])\n",
    "np.unique(names)"
   ]
  },
  {
   "cell_type": "markdown",
   "metadata": {},
   "source": [
    "### Null"
   ]
  },
  {
   "cell_type": "code",
   "execution_count": 54,
   "metadata": {},
   "outputs": [
    {
     "data": {
      "text/plain": [
       "False"
      ]
     },
     "execution_count": 54,
     "metadata": {},
     "output_type": "execute_result"
    }
   ],
   "source": [
    "values = np.array([np.nan,None,None,np.nan]) # mix none type data and np.nan\n",
    "values\n",
    "None == np.nan # they are different"
   ]
  },
  {
   "cell_type": "markdown",
   "metadata": {},
   "source": [
    "### math"
   ]
  },
  {
   "cell_type": "code",
   "execution_count": 98,
   "metadata": {},
   "outputs": [
    {
     "data": {
      "text/plain": [
       "array([[0, 1, 2, 3, 4],\n",
       "       [5, 6, 7, 8, 9]])"
      ]
     },
     "execution_count": 98,
     "metadata": {},
     "output_type": "execute_result"
    },
    {
     "data": {
      "text/plain": [
       "array([[0.        , 1.        , 1.41421356, 1.73205081, 2.        ],\n",
       "       [2.23606798, 2.44948974, 2.64575131, 2.82842712, 3.        ]])"
      ]
     },
     "execution_count": 98,
     "metadata": {},
     "output_type": "execute_result"
    },
    {
     "data": {
      "text/plain": [
       "array([[1.00000000e+00, 2.71828183e+00, 7.38905610e+00, 2.00855369e+01,\n",
       "        5.45981500e+01],\n",
       "       [1.48413159e+02, 4.03428793e+02, 1.09663316e+03, 2.98095799e+03,\n",
       "        8.10308393e+03]])"
      ]
     },
     "execution_count": 98,
     "metadata": {},
     "output_type": "execute_result"
    },
    {
     "data": {
      "text/plain": [
       "4.5"
      ]
     },
     "execution_count": 98,
     "metadata": {},
     "output_type": "execute_result"
    },
    {
     "data": {
      "text/plain": [
       "array([2., 7.])"
      ]
     },
     "execution_count": 98,
     "metadata": {},
     "output_type": "execute_result"
    },
    {
     "data": {
      "text/plain": [
       "45"
      ]
     },
     "execution_count": 98,
     "metadata": {},
     "output_type": "execute_result"
    },
    {
     "data": {
      "text/plain": [
       "array([[ 0,  1,  3,  6, 10],\n",
       "       [ 5, 11, 18, 26, 35]])"
      ]
     },
     "execution_count": 98,
     "metadata": {},
     "output_type": "execute_result"
    },
    {
     "data": {
      "text/plain": [
       "9"
      ]
     },
     "execution_count": 98,
     "metadata": {},
     "output_type": "execute_result"
    }
   ],
   "source": [
    "arr = np.arange(10).reshape(2,5)\n",
    "arr\n",
    "np.sqrt(arr)\n",
    "np.exp(arr)\n",
    "np.mean(arr) # arr.mean() also can use build-infunction, or math package\n",
    "arr.mean(axis=1)\n",
    "np.sum(arr) # arr.sum()\n",
    "arr.cumsum(1) # Cumulative sum from 0\n",
    "np.argmax(np.random.rand(10))"
   ]
  },
  {
   "cell_type": "markdown",
   "metadata": {},
   "source": [
    "### random generator"
   ]
  },
  {
   "cell_type": "code",
   "execution_count": 89,
   "metadata": {},
   "outputs": [
    {
     "data": {
      "text/plain": [
       "array([-1.24592081, -1.14838323, -0.34101015, -1.31555185, -1.99078395,\n",
       "        0.01089737,  0.58850068, -2.64025053])"
      ]
     },
     "execution_count": 89,
     "metadata": {},
     "output_type": "execute_result"
    },
    {
     "data": {
      "text/plain": [
       "array([7.01012383e-01, 7.70919627e-01, 1.84452677e-01, 2.11112089e-01,\n",
       "       8.96553575e-01, 2.81167515e-01, 1.83889362e-01, 9.39859061e-01,\n",
       "       6.56034379e-01, 7.07878676e-01, 3.36663752e-01, 8.75451993e-01,\n",
       "       2.60505984e-01, 9.60481589e-01, 4.07986477e-01, 5.85377708e-01,\n",
       "       1.75011917e-01, 3.71385828e-01, 8.21248735e-01, 2.07461010e-01,\n",
       "       1.08928815e-01, 8.67280308e-01, 6.30097555e-01, 4.30170450e-01,\n",
       "       5.59282646e-01, 2.59286115e-01, 2.44111419e-01, 6.28525722e-01,\n",
       "       3.38503111e-01, 4.11258784e-01, 9.57953809e-01, 8.14345551e-01,\n",
       "       8.49534567e-01, 6.74070106e-01, 3.53817566e-01, 7.57475522e-01,\n",
       "       4.10147135e-01, 2.21146657e-02, 8.51900331e-01, 9.97095619e-01,\n",
       "       5.23066365e-01, 7.82072128e-01, 1.35703375e-01, 4.07725137e-01,\n",
       "       9.16621790e-01, 1.48011236e-01, 8.57530466e-01, 4.82218179e-01,\n",
       "       3.06408140e-01, 9.60214736e-01, 4.94124147e-01, 6.88466110e-01,\n",
       "       7.65750455e-01, 5.53201991e-01, 9.09107923e-01, 5.35225508e-01,\n",
       "       8.61102309e-01, 9.91558914e-01, 5.91669253e-04, 7.02768529e-01,\n",
       "       3.43702328e-01, 3.43304333e-02, 2.87279120e-01, 1.26499301e-01,\n",
       "       2.63879367e-01, 6.10168228e-02, 7.67821818e-01, 5.10602793e-01,\n",
       "       9.81557978e-01, 2.63015527e-01, 2.16161789e-01, 2.47901263e-01,\n",
       "       1.23817774e-01, 2.89925227e-01, 1.99230069e-02, 4.87552842e-02,\n",
       "       5.60809678e-01, 4.39698603e-01, 7.56918634e-01, 1.20626232e-01,\n",
       "       7.27132742e-01, 9.87024674e-01, 3.23157931e-01, 6.46611868e-01,\n",
       "       2.21827962e-01, 2.49578539e-01, 9.55054806e-01, 9.49656267e-01,\n",
       "       5.75043549e-01, 6.22167293e-01, 7.43854378e-01, 7.28370627e-01,\n",
       "       3.11515235e-01, 4.05140734e-01, 4.71734505e-01, 4.22681826e-01,\n",
       "       2.40451684e-01, 1.24765222e-01, 2.52600371e-01, 9.99718364e-01])"
      ]
     },
     "execution_count": 89,
     "metadata": {},
     "output_type": "execute_result"
    }
   ],
   "source": [
    "np.random.randn(8)\n",
    "np.random.uniform(0,1,100) # low, high ,size"
   ]
  },
  {
   "cell_type": "markdown",
   "metadata": {},
   "source": [
    "### linear algebra"
   ]
  },
  {
   "cell_type": "code",
   "execution_count": 99,
   "metadata": {},
   "outputs": [
    {
     "name": "stdout",
     "output_type": "stream",
     "text": [
      "[[ 1  4  7 10]\n",
      " [ 2  5  8 11]\n",
      " [ 3  6  9 12]] (3, 4)\n"
     ]
    }
   ],
   "source": [
    "x = np.arange(1,13).reshape(3,4,order='f')\n",
    "print(x,np.shape(x))"
   ]
  },
  {
   "cell_type": "code",
   "execution_count": 100,
   "metadata": {},
   "outputs": [
    {
     "name": "stdout",
     "output_type": "stream",
     "text": [
      "[[11], [111], [1111], [11111]] .....shape is: (4, 1)\n"
     ]
    }
   ],
   "source": [
    "theta = [[11],\n",
    "         [111],\n",
    "         [1111],\n",
    "         [11111]]\n",
    "print(theta,'.....shape is:',np.shape(theta))"
   ]
  },
  {
   "cell_type": "markdown",
   "metadata": {},
   "source": [
    "#### Broadcast"
   ]
  },
  {
   "cell_type": "markdown",
   "metadata": {},
   "source": [
    "![](https://raw.githubusercontent.com/devin19940107/My-Python-Notebook/master/supporting%20files/Images/multiply.png)"
   ]
  },
  {
   "cell_type": "code",
   "execution_count": 104,
   "metadata": {},
   "outputs": [
    {
     "data": {
      "text/plain": [
       "array([[    11,     22,     33],\n",
       "       [   444,    555,    666],\n",
       "       [  7777,   8888,   9999],\n",
       "       [111110, 122221, 133332]])"
      ]
     },
     "execution_count": 104,
     "metadata": {},
     "output_type": "execute_result"
    },
    {
     "name": "stdout",
     "output_type": "stream",
     "text": [
      "[119342 131686 144030] .....shape is: (3,)\n"
     ]
    },
    {
     "data": {
      "text/plain": [
       "119342"
      ]
     },
     "execution_count": 104,
     "metadata": {},
     "output_type": "execute_result"
    }
   ],
   "source": [
    "elementwise = theta*np.transpose(x)\n",
    "\n",
    "elementwise\n",
    "\n",
    "\n",
    "h = sum(elementwise)\n",
    "print(h,'.....shape is:',np.shape(h))\n",
    "\n",
    "h[0]"
   ]
  },
  {
   "cell_type": "code",
   "execution_count": 107,
   "metadata": {},
   "outputs": [
    {
     "name": "stdout",
     "output_type": "stream",
     "text": [
      "[[11, 22], [111, 222], [1111, 2222], [11111, 22222]] .....shape is: (4, 2)\n"
     ]
    },
    {
     "ename": "ValueError",
     "evalue": "operands could not be broadcast together with shapes (4,2) (4,3) ",
     "output_type": "error",
     "traceback": [
      "\u001b[0;31m---------------------------------------------------------------------------\u001b[0m",
      "\u001b[0;31mValueError\u001b[0m                                Traceback (most recent call last)",
      "\u001b[0;32m<ipython-input-107-4c450f702ab5>\u001b[0m in \u001b[0;36m<module>\u001b[0;34m\u001b[0m\n\u001b[1;32m      3\u001b[0m \u001b[0;34m\u001b[0m\u001b[0m\n\u001b[1;32m      4\u001b[0m \u001b[0;34m\u001b[0m\u001b[0m\n\u001b[0;32m----> 5\u001b[0;31m \u001b[0melementwise\u001b[0m \u001b[0;34m=\u001b[0m \u001b[0mtheta2\u001b[0m\u001b[0;34m*\u001b[0m\u001b[0mnp\u001b[0m\u001b[0;34m.\u001b[0m\u001b[0mtranspose\u001b[0m\u001b[0;34m(\u001b[0m\u001b[0mx\u001b[0m\u001b[0;34m)\u001b[0m\u001b[0;34m\u001b[0m\u001b[0;34m\u001b[0m\u001b[0m\n\u001b[0m\u001b[1;32m      6\u001b[0m \u001b[0;34m\u001b[0m\u001b[0m\n\u001b[1;32m      7\u001b[0m \u001b[0melementwise\u001b[0m\u001b[0;34m\u001b[0m\u001b[0;34m\u001b[0m\u001b[0m\n",
      "\u001b[0;31mValueError\u001b[0m: operands could not be broadcast together with shapes (4,2) (4,3) "
     ]
    }
   ],
   "source": [
    "theta2 = [[11,22],[111,222],[1111,2222],[11111,22222]]\n",
    "print(theta2,'.....shape is:',np.shape(theta2))\n",
    "\n",
    "\n",
    "elementwise = theta2*np.transpose(x)\n",
    "\n",
    "elementwise"
   ]
  },
  {
   "cell_type": "markdown",
   "metadata": {},
   "source": [
    "#### Dot multiplication"
   ]
  },
  {
   "cell_type": "markdown",
   "metadata": {},
   "source": [
    "![](https://raw.githubusercontent.com/devin19940107/My-Python-Notebook/master/supporting%20files/Images/dot%20multiply.png)\n"
   ]
  },
  {
   "cell_type": "code",
   "execution_count": 109,
   "metadata": {},
   "outputs": [
    {
     "name": "stdout",
     "output_type": "stream",
     "text": [
      "[[119342]\n",
      " [131686]\n",
      " [144030]] .....shape is: (3, 1)\n"
     ]
    },
    {
     "data": {
      "text/plain": [
       "array([119342])"
      ]
     },
     "execution_count": 109,
     "metadata": {},
     "output_type": "execute_result"
    }
   ],
   "source": [
    "new_h = np.dot(x,theta)\n",
    "print(new_h,'.....shape is:',np.shape(new_h))\n",
    "\n",
    "new_h[0]"
   ]
  },
  {
   "cell_type": "markdown",
   "metadata": {},
   "source": [
    "#### Inverse matrix"
   ]
  },
  {
   "cell_type": "markdown",
   "metadata": {},
   "source": [
    "![](https://raw.githubusercontent.com/devin19940107/Python_Basic/master/supporting%20files/Images/inverse-matrix.png)"
   ]
  },
  {
   "cell_type": "code",
   "execution_count": 115,
   "metadata": {},
   "outputs": [
    {
     "data": {
      "text/plain": [
       "array([[ 0.09930957,  0.92230259,  0.29155861, -1.08421838,  0.9159068 ],\n",
       "       [-1.29092659, -0.49192642, -0.43489701, -0.09778525,  1.07121039],\n",
       "       [-0.13443588, -0.59111017, -0.35507519, -0.48991899, -0.09717638],\n",
       "       [ 0.54965085, -0.45946465,  1.54141626, -1.27617439, -1.01256013],\n",
       "       [-0.09565208, -0.76534384, -0.07218208,  1.71808316, -2.18743042]])"
      ]
     },
     "execution_count": 115,
     "metadata": {},
     "output_type": "execute_result"
    },
    {
     "data": {
      "text/plain": [
       "array([[-1.25741043, -0.81933074, -0.07379034, -0.05247913, -0.90016002],\n",
       "       [ 1.50590684, -0.05108177, -0.0370584 , -0.27343079,  0.73374554],\n",
       "       [-0.54682972,  0.3408631 , -1.22557549,  0.55368137, -0.26389303],\n",
       "       [-0.85271525,  0.02681703, -0.95101377, -0.06297627, -0.27251046],\n",
       "       [-1.1236138 ,  0.06351539, -0.69032392,  0.03022906, -0.87985095]])"
      ]
     },
     "execution_count": 115,
     "metadata": {},
     "output_type": "execute_result"
    },
    {
     "data": {
      "text/plain": [
       "array([[ 1.00000000e+00,  1.52457721e-17, -1.44650070e-16,\n",
       "         3.70171992e-17, -2.14714476e-16],\n",
       "       [ 6.73428352e-17,  1.00000000e+00,  2.16272108e-17,\n",
       "        -9.51112733e-18,  1.60893767e-16],\n",
       "       [ 9.46372928e-17,  2.38641621e-17,  1.00000000e+00,\n",
       "        -1.86710510e-17,  1.09442650e-16],\n",
       "       [-1.30356194e-16, -7.82139114e-18,  1.31159288e-16,\n",
       "         1.00000000e+00, -6.30892508e-17],\n",
       "       [-9.89392718e-17, -1.99101986e-17,  9.71846467e-17,\n",
       "        -4.11674137e-17,  1.00000000e+00]])"
      ]
     },
     "execution_count": 115,
     "metadata": {},
     "output_type": "execute_result"
    }
   ],
   "source": [
    "from numpy.linalg import inv, qr\n",
    "X = np.random.randn(5, 5)\n",
    "X\n",
    "inv(X)\n",
    "\n",
    "X.dot(inv(X))"
   ]
  },
  {
   "cell_type": "code",
   "execution_count": null,
   "metadata": {},
   "outputs": [],
   "source": []
  },
  {
   "cell_type": "code",
   "execution_count": null,
   "metadata": {},
   "outputs": [],
   "source": []
  },
  {
   "cell_type": "code",
   "execution_count": 10,
   "metadata": {},
   "outputs": [
    {
     "name": "stdout",
     "output_type": "stream",
     "text": [
      "code lines 560\n"
     ]
    }
   ],
   "source": [
    "print('code lines',382+115+54+9)"
   ]
  },
  {
   "cell_type": "code",
   "execution_count": null,
   "metadata": {},
   "outputs": [],
   "source": []
  }
 ],
 "metadata": {
  "kernelspec": {
   "display_name": "Python 3",
   "language": "python",
   "name": "python3"
  },
  "language_info": {
   "codemirror_mode": {
    "name": "ipython",
    "version": 3
   },
   "file_extension": ".py",
   "mimetype": "text/x-python",
   "name": "python",
   "nbconvert_exporter": "python",
   "pygments_lexer": "ipython3",
   "version": "3.7.1"
  }
 },
 "nbformat": 4,
 "nbformat_minor": 2
}
