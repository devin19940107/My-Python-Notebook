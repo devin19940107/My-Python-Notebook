{
 "cells": [
  {
   "cell_type": "markdown",
   "metadata": {},
   "source": [
    "# Numpy\n",
    "- Numpy is the core library for scientific computing in Python. It provides high-performance multidimensional array objects, and tools for working with these arrays. \n",
    "\n",
    "- A numpy **array** is a grid of values, usually of the same type, although technically you can store values of different types (this may complicate array operation). \n",
    "    - The number of dimensions is the **rank** of the array\n",
    "    - The **shape** of an array is a tuple of integers giving the size of the array along each dimension\n",
    "      * e.g. array([5, 2, 3]) has shape (3,) \n",
    "      * e.g. array([[5, 2, 3], [1,2,3]]) has shape (2,3)\n",
    "    - Numpy arrays can be initialized from nested Python lists, and access elements using square brackets"
   ]
  },
  {
   "cell_type": "markdown",
   "metadata": {},
   "source": [
    "![](https://raw.githubusercontent.com/devin19940107/My-Python-Notebook/master/supporting%20files/Images/matrix.jpg)"
   ]
  },
  {
   "cell_type": "markdown",
   "metadata": {},
   "source": [
    "![](https://raw.githubusercontent.com/devin19940107/My-Python-Notebook/master/supporting%20files/Images/dimension.png)"
   ]
  },
  {
   "cell_type": "code",
   "execution_count": 2,
   "metadata": {},
   "outputs": [],
   "source": [
    "import numpy as np # always import numpy 1st"
   ]
  },
  {
   "cell_type": "markdown",
   "metadata": {},
   "source": [
    "# Creating an array"
   ]
  },
  {
   "cell_type": "code",
   "execution_count": 13,
   "metadata": {},
   "outputs": [
    {
     "name": "stdout",
     "output_type": "stream",
     "text": [
      "42\n"
     ]
    }
   ],
   "source": [
    "# 0-D Array\n",
    "arr = np.array(42)\n",
    "\n",
    "print(arr)"
   ]
  },
  {
   "cell_type": "code",
   "execution_count": 14,
   "metadata": {},
   "outputs": [
    {
     "data": {
      "text/plain": [
       "array([1, 2, 3, 4, 5, 6, 7, 8, 9])"
      ]
     },
     "execution_count": 14,
     "metadata": {},
     "output_type": "execute_result"
    }
   ],
   "source": [
    "# 1-D Array\n",
    "data1 = [1,2,3,4,5,6,7,8,9]\n",
    "arr1 = np.array(data1)\n",
    "arr1"
   ]
  },
  {
   "cell_type": "code",
   "execution_count": 15,
   "metadata": {},
   "outputs": [
    {
     "data": {
      "text/plain": [
       "array([[1, 2, 3, 4],\n",
       "       [5, 6, 7, 8]])"
      ]
     },
     "execution_count": 15,
     "metadata": {},
     "output_type": "execute_result"
    }
   ],
   "source": [
    "# 2D Array\n",
    "data2 = [[1, 2, 3, 4], [5, 6, 7, 8]]\n",
    "arr2 = np.array(data2)\n",
    "arr2"
   ]
  },
  {
   "cell_type": "code",
   "execution_count": 16,
   "metadata": {},
   "outputs": [
    {
     "name": "stdout",
     "output_type": "stream",
     "text": [
      "[[[1 2 3]\n",
      "  [4 5 6]]\n",
      "\n",
      " [[1 2 3]\n",
      "  [4 5 6]]]\n"
     ]
    }
   ],
   "source": [
    "#3D array\n",
    "arr3 = np.array([[[1, 2, 3], [4, 5, 6]], [[1, 2, 3], [4, 5, 6]]])\n",
    "\n",
    "print(arr3)"
   ]
  },
  {
   "cell_type": "markdown",
   "metadata": {},
   "source": [
    "# Dimension"
   ]
  },
  {
   "cell_type": "code",
   "execution_count": 18,
   "metadata": {},
   "outputs": [
    {
     "name": "stdout",
     "output_type": "stream",
     "text": [
      "0\n",
      "1\n",
      "2\n",
      "3\n"
     ]
    }
   ],
   "source": [
    "print(arr.ndim)\n",
    "print(arr1.ndim)\n",
    "print(arr2.ndim)\n",
    "print(arr3.ndim)"
   ]
  },
  {
   "cell_type": "markdown",
   "metadata": {},
   "source": [
    "# Rank (shape) \n",
    "\n",
    "* Number of dimensions of the array is called rank of the array"
   ]
  },
  {
   "cell_type": "code",
   "execution_count": 35,
   "metadata": {},
   "outputs": [
    {
     "name": "stdout",
     "output_type": "stream",
     "text": [
      "42 rank is---> ()\n",
      "[[1,2,3,4,5,6,7,8,9]] rank is------> (9,)\n",
      "[[1, 2, 3, 4], [5, 6, 7, 8]] rank is -----> (2, 4)\n",
      "[[1, 2, 3], [4, 5, 6]], [[1, 2, 3], [4, 5, 6]]] rank is -----> (2, 2, 3)\n"
     ]
    }
   ],
   "source": [
    "print('42 rank is--->',arr.shape)\n",
    "print('[[1,2,3,4,5,6,7,8,9]] rank is------>',arr1.shape)\n",
    "print('[[1, 2, 3, 4], [5, 6, 7, 8]] rank is ----->',arr2.shape)\n",
    "print('[[1, 2, 3], [4, 5, 6]], [[1, 2, 3], [4, 5, 6]]] rank is ----->',arr3.shape)\n"
   ]
  },
  {
   "cell_type": "markdown",
   "metadata": {},
   "source": [
    "# Type & Dtype"
   ]
  },
  {
   "cell_type": "code",
   "execution_count": 56,
   "metadata": {},
   "outputs": [
    {
     "name": "stdout",
     "output_type": "stream",
     "text": [
      "type of arr: <class 'numpy.ndarray'>\n",
      "dtype of arr: int64\n",
      "----------------------------------\n",
      "type of arr1: <class 'numpy.ndarray'>\n",
      "dtype of arr1: int64\n",
      "----------------------------------\n",
      "type of arr2: <class 'numpy.ndarray'>\n",
      "dtype of arr2: int64\n",
      "----------------------------------\n",
      "type of arr3: <class 'numpy.ndarray'>\n",
      "dtype of arr3: int64\n"
     ]
    }
   ],
   "source": [
    "print('type of arr:',type(arr))\n",
    "print('dtype of arr:',arr.dtype)\n",
    "print('----------------------------------')\n",
    "print('type of arr1:',type(arr1))\n",
    "print('dtype of arr1:',arr1.dtype)\n",
    "print('----------------------------------')\n",
    "print('type of arr2:',type(arr2))\n",
    "print('dtype of arr2:',arr2.dtype)\n",
    "print('----------------------------------')\n",
    "print('type of arr3:',type(arr3))\n",
    "print('dtype of arr3:',arr3.dtype)"
   ]
  },
  {
   "cell_type": "code",
   "execution_count": 54,
   "metadata": {},
   "outputs": [
    {
     "name": "stdout",
     "output_type": "stream",
     "text": [
      "type of arr4: <class 'numpy.ndarray'>\n",
      "dtype of arr4: float64\n"
     ]
    }
   ],
   "source": [
    "arr4 = np.array([[1,2,3,4,5,6,7,8.5]]) # when there is a float, all data type converted to float\n",
    "print('type of arr4:',type(arr4))\n",
    "print('dtype of arr4:',arr4.dtype)"
   ]
  },
  {
   "cell_type": "code",
   "execution_count": null,
   "metadata": {},
   "outputs": [],
   "source": []
  },
  {
   "cell_type": "markdown",
   "metadata": {},
   "source": [
    "# Specical Maxtix / Array\n",
    "#### *zeros*\n",
    "\n",
    "\n",
    "<font color = green>numpy.zeros(shape, dtype=float, order='C'')  \n",
    "    \n",
    "* shape : Shape of the new array\n",
    "* dtype : Data-type of the returned array. [optional]\n",
    "* order: C - columon wise; R - row wise. [optional]"
   ]
  },
  {
   "cell_type": "code",
   "execution_count": 61,
   "metadata": {},
   "outputs": [
    {
     "data": {
      "text/plain": [
       "array([0., 0., 0., 0., 0.])"
      ]
     },
     "execution_count": 61,
     "metadata": {},
     "output_type": "execute_result"
    }
   ],
   "source": [
    "np.zeros(5) # np.zeros(shape)"
   ]
  },
  {
   "cell_type": "code",
   "execution_count": 62,
   "metadata": {},
   "outputs": [
    {
     "data": {
      "text/plain": [
       "array([[0., 0.],\n",
       "       [0., 0.],\n",
       "       [0., 0.]])"
      ]
     },
     "execution_count": 62,
     "metadata": {},
     "output_type": "execute_result"
    }
   ],
   "source": [
    "np.zeros((3,2)) "
   ]
  },
  {
   "cell_type": "markdown",
   "metadata": {},
   "source": [
    "#### *ones*\n",
    "\n",
    "\n",
    "<font color = green>numpy.ones(shape,dtype=None, order='C'')  \n",
    "    \n",
    "* shape : Shape of the new array\n",
    "* dtype : Data-type of the returned array. [optional]\n",
    "* order: C - columon wise; R - row wise. [optional]"
   ]
  },
  {
   "cell_type": "code",
   "execution_count": 59,
   "metadata": {},
   "outputs": [
    {
     "data": {
      "text/plain": [
       "array([1., 1., 1., 1., 1., 1., 1., 1., 1., 1.])"
      ]
     },
     "execution_count": 59,
     "metadata": {},
     "output_type": "execute_result"
    }
   ],
   "source": [
    "np.ones(5)# np.ones(shape)"
   ]
  },
  {
   "cell_type": "code",
   "execution_count": 63,
   "metadata": {},
   "outputs": [
    {
     "data": {
      "text/plain": [
       "array([[1., 1.],\n",
       "       [1., 1.],\n",
       "       [1., 1.]])"
      ]
     },
     "execution_count": 63,
     "metadata": {},
     "output_type": "execute_result"
    }
   ],
   "source": [
    "np.ones((3,2)) "
   ]
  },
  {
   "cell_type": "markdown",
   "metadata": {},
   "source": [
    "#### *empty*\n",
    "\n",
    "<font color = green>numpy.empty(shape, dtype=float, order='C'')  \n",
    "    \n",
    "* shape : Shape of the new array\n",
    "* dtype : Data-type of the returned array. [optional]\n",
    "* order: C - columon wise; R - row wise. [optional]"
   ]
  },
  {
   "cell_type": "code",
   "execution_count": 77,
   "metadata": {},
   "outputs": [
    {
     "data": {
      "text/plain": [
       "array([0., 0., 0., 0., 0.])"
      ]
     },
     "execution_count": 77,
     "metadata": {},
     "output_type": "execute_result"
    }
   ],
   "source": [
    "np.empty(5)"
   ]
  },
  {
   "cell_type": "code",
   "execution_count": 78,
   "metadata": {},
   "outputs": [
    {
     "data": {
      "text/plain": [
       "array([[ 2.31584178e+077, -2.68678219e+154,  3.95252517e-323],\n",
       "       [ 0.00000000e+000,  0.00000000e+000,  0.00000000e+000],\n",
       "       [ 0.00000000e+000,  0.00000000e+000,  0.00000000e+000]])"
      ]
     },
     "execution_count": 78,
     "metadata": {},
     "output_type": "execute_result"
    }
   ],
   "source": [
    "np.empty((3,3))"
   ]
  },
  {
   "cell_type": "markdown",
   "metadata": {},
   "source": [
    "#### *constant*\n",
    "\n",
    "<font color = green>numpy.full(shape, fill_value, dtype=None, order='C')  \n",
    "    \n",
    "* shape : Shape of the new array\n",
    "* fill_value : value to be filled\n",
    "* dtype : Data-type of the returned array. [optional]\n",
    "* order: C - columon wise; R - row wise. [optional]"
   ]
  },
  {
   "cell_type": "code",
   "execution_count": 80,
   "metadata": {},
   "outputs": [
    {
     "data": {
      "text/plain": [
       "array([3, 3, 3, 3, 3])"
      ]
     },
     "execution_count": 80,
     "metadata": {},
     "output_type": "execute_result"
    }
   ],
   "source": [
    "np.full(5, 3) # np.full(shape, number)"
   ]
  },
  {
   "cell_type": "code",
   "execution_count": 74,
   "metadata": {},
   "outputs": [
    {
     "data": {
      "text/plain": [
       "array([[7, 7],\n",
       "       [7, 7]])"
      ]
     },
     "execution_count": 74,
     "metadata": {},
     "output_type": "execute_result"
    }
   ],
   "source": [
    "np.full((2,2), 7)"
   ]
  },
  {
   "cell_type": "markdown",
   "metadata": {},
   "source": [
    "#### *identity matrix*\n",
    "<font color = green>numpy.eye(N, M=None, k=0, dtype=<class 'float'>, order='C')  \n",
    "    \n",
    "* N : Number of rows in the output.\n",
    "* M : Number of columns in the output.[optional]\n",
    "* k : Index of the diagonal.[optional]\n",
    "* dtype : Data-type of the returned array. [optional]\n",
    "* order: C - columon wise; R - row wise. [optional]"
   ]
  },
  {
   "cell_type": "code",
   "execution_count": 89,
   "metadata": {},
   "outputs": [
    {
     "data": {
      "text/plain": [
       "array([[1., 0.],\n",
       "       [0., 1.]])"
      ]
     },
     "execution_count": 89,
     "metadata": {},
     "output_type": "execute_result"
    }
   ],
   "source": [
    "np.eye(2) # passby one number generate a Square matrix"
   ]
  },
  {
   "cell_type": "code",
   "execution_count": 86,
   "metadata": {},
   "outputs": [
    {
     "data": {
      "text/plain": [
       "array([[1., 0.],\n",
       "       [0., 1.],\n",
       "       [0., 0.]])"
      ]
     },
     "execution_count": 86,
     "metadata": {},
     "output_type": "execute_result"
    }
   ],
   "source": [
    "np.eye(3,2) # pass by a shape, it generate a matrix by shape"
   ]
  },
  {
   "cell_type": "code",
   "execution_count": 88,
   "metadata": {},
   "outputs": [
    {
     "data": {
      "text/plain": [
       "array([[0., 1., 0.],\n",
       "       [0., 0., 1.],\n",
       "       [0., 0., 0.]])"
      ]
     },
     "execution_count": 88,
     "metadata": {},
     "output_type": "execute_result"
    }
   ],
   "source": [
    "np.eye(3,k=1)"
   ]
  },
  {
   "cell_type": "code",
   "execution_count": null,
   "metadata": {},
   "outputs": [],
   "source": []
  }
 ],
 "metadata": {
  "kernelspec": {
   "display_name": "Python 3",
   "language": "python",
   "name": "python3"
  },
  "language_info": {
   "codemirror_mode": {
    "name": "ipython",
    "version": 3
   },
   "file_extension": ".py",
   "mimetype": "text/x-python",
   "name": "python",
   "nbconvert_exporter": "python",
   "pygments_lexer": "ipython3",
   "version": "3.7.1"
  }
 },
 "nbformat": 4,
 "nbformat_minor": 2
}
