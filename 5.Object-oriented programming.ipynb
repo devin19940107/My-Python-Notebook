{
 "cells": [
  {
   "cell_type": "markdown",
   "metadata": {},
   "source": [
    "# Class \n",
    "<div class=\"alert alert-info\" style=\"margin: 20px\">  \n",
    "    \n",
    "- A class can be viewed as a type of complex objects that contains variables and functions.  \n",
    "    \n",
    "- Basic components of a class\n",
    "  * Instatiation:\n",
    "      * 1. **\\__new\\__(cls, ...)** is called to create an instance. The first argument cls is the class of which an instance was requested. By default, \\__new\\__ returns the created instance object. You can also override \\__new\\__ to customize the instance creation.\n",
    "      * 2. Then additional arguments after \"cls\" are passed to **\\__init\\__(self, ...)** method to  initialize the instance (e.g. add instance-specific attributes). The first argument refers to the instance object returned from \\__new\\__ method.\n",
    "  \n",
    "  * Variables (a.k.a attributes)  \n",
    "  \n",
    "  * Functions (a.k.a methods)\n",
    "    * \"**self**\" (or any name) must be the first argument to refer to the new instance in class functions in order to make them accessible to class objects\n",
    "    * **self** refers to the class instance created from this class\n",
    "- These components can be accessed using \"**.**\" (e.g. myShape.color)\n"
   ]
  },
  {
   "cell_type": "markdown",
   "metadata": {},
   "source": [
    "# Terminologies"
   ]
  },
  {
   "cell_type": "markdown",
   "metadata": {},
   "source": [
    "| NAME   | DEFINITION|\n",
    "| :------| :------ |\n",
    "|Class   |A class is a blueprint for the Instance.|\n",
    "|Instance|An object (instance) is an instantiation of a class. When class is defined, only the description for the object is defined. Therefore, no memory or storage is allocated.|\n",
    "|Method|Methods are functions defined inside the body of a class. They are used to define the behaviors of an object.|\n",
    "|Inheritance|A process of using details from a new class without modifying existing class.|\n",
    "|Encapsulation|Hiding the private details of a class from other objects.|\n",
    "|Polymorphism|\tA concept of using common operation in different ways for different data input.|\n"
   ]
  },
  {
   "cell_type": "markdown",
   "metadata": {},
   "source": [
    "# Define a class"
   ]
  },
  {
   "cell_type": "markdown",
   "metadata": {},
   "source": [
    "\n",
    "\n"
   ]
  },
  {
   "cell_type": "code",
   "execution_count": 79,
   "metadata": {},
   "outputs": [],
   "source": [
    "class Shape(object):\n",
    "    # initializer, \"self\" refers to the object itself\n",
    "    def __init__(self, color):  \n",
    "        # class variable is assigned with input value\n",
    "        self.color = color               \n",
    "        print('color is set to: ', self.color)\n",
    "     \n",
    "    \n",
    "    \n",
    "    \n",
    "    # function (or method) of the class\n",
    "    def changeColor(self, newColor):   # note the first argument referencing the class object \n",
    "        self.color=newColor           # note \"self\" must be in every function of the class \n",
    "        return \"New color is \"+ self.color\n",
    "    \n"
   ]
  },
  {
   "cell_type": "markdown",
   "metadata": {},
   "source": [
    "# Call a class"
   ]
  },
  {
   "cell_type": "code",
   "execution_count": 82,
   "metadata": {},
   "outputs": [
    {
     "name": "stdout",
     "output_type": "stream",
     "text": [
      "color is set to:  red\n",
      "red\n",
      "New color is blue\n",
      "blue\n"
     ]
    }
   ],
   "source": [
    "# instantiate a shape instance(object)\n",
    "myshape = Shape('red') \n",
    "\n",
    "# call instance attribute\n",
    "print(myshape.color)  \n",
    "\n",
    "# invoke class method \"changeColor\"\n",
    "print(myshape.changeColor('blue'))  \n",
    "\n",
    "# check what color the instance has\n",
    "print(myshape.color) \n"
   ]
  },
  {
   "cell_type": "markdown",
   "metadata": {},
   "source": [
    "## Private vs Public"
   ]
  },
  {
   "cell_type": "code",
   "execution_count": 161,
   "metadata": {},
   "outputs": [],
   "source": [
    "class Shape2(object):\n",
    "    ######   initializer   ######\n",
    "    def __init__(self, color):  \n",
    "        # class variable is assigned with input value\n",
    "        self.color = color               \n",
    "        print('instance created: ', self.color)\n",
    "\n",
    "    \n",
    "    ######   private attribute   ######\n",
    "    #  (start with double underscores)\n",
    "    __secretCount = 0  # it can only used within a class\n",
    "    \n",
    "    \n",
    "    \n",
    "    ######   public attribute   ######\n",
    "    whatever = 'this is  the public attribute'\n",
    "    \n",
    "    \n",
    "    ######   private method   ######\n",
    "    def __foo(self):\n",
    "        print('this is the private method')\n",
    "    \n",
    "    \n",
    "    ######   public method   ######\n",
    "    def changeColor(self, newColor):   \n",
    "        self.color=newColor         \n",
    "        return \"New color is \"+ self.color\n",
    "    "
   ]
  },
  {
   "cell_type": "markdown",
   "metadata": {},
   "source": [
    "#### Public attribute & Public method"
   ]
  },
  {
   "cell_type": "code",
   "execution_count": 162,
   "metadata": {},
   "outputs": [
    {
     "name": "stdout",
     "output_type": "stream",
     "text": [
      "instance created:  blue\n",
      "this is  the public attribute\n",
      "this is  the public attribute\n",
      "New color is Black\n"
     ]
    }
   ],
   "source": [
    "# instantiate a shape instance(object)\n",
    "myshape2 = Shape2('blue')\n",
    "\n",
    "# call instance public attribute\n",
    "print(myshape2.whatever)\n",
    "# or\n",
    "print(myshape2.__class__.whatever)\n",
    "\n",
    "\n",
    "\n",
    "# call the instance piblic method\n",
    "print(myshape2.changeColor('Black'))\n"
   ]
  },
  {
   "cell_type": "markdown",
   "metadata": {},
   "source": [
    "#### Private?"
   ]
  },
  {
   "cell_type": "code",
   "execution_count": 163,
   "metadata": {},
   "outputs": [
    {
     "ename": "AttributeError",
     "evalue": "'Shape2' object has no attribute '__secretCount'",
     "output_type": "error",
     "traceback": [
      "\u001b[0;31m---------------------------------------------------------------------------\u001b[0m",
      "\u001b[0;31mAttributeError\u001b[0m                            Traceback (most recent call last)",
      "\u001b[0;32m<ipython-input-163-9bb70afe4018>\u001b[0m in \u001b[0;36m<module>\u001b[0;34m\u001b[0m\n\u001b[0;32m----> 1\u001b[0;31m \u001b[0mprint\u001b[0m\u001b[0;34m(\u001b[0m\u001b[0mmyshape2\u001b[0m\u001b[0;34m.\u001b[0m\u001b[0m__secretCount\u001b[0m\u001b[0;34m)\u001b[0m\u001b[0;34m\u001b[0m\u001b[0;34m\u001b[0m\u001b[0m\n\u001b[0m\u001b[1;32m      2\u001b[0m \u001b[0;31m# when you using it inside a class: self.__private_attrs\u001b[0m\u001b[0;34m\u001b[0m\u001b[0;34m\u001b[0m\u001b[0;34m\u001b[0m\u001b[0m\n",
      "\u001b[0;31mAttributeError\u001b[0m: 'Shape2' object has no attribute '__secretCount'"
     ]
    }
   ],
   "source": [
    "print(myshape2.__secretCount)\n",
    "# when you using it inside a class: self.__private_attrs"
   ]
  },
  {
   "cell_type": "code",
   "execution_count": 164,
   "metadata": {},
   "outputs": [
    {
     "ename": "AttributeError",
     "evalue": "'Shape2' object has no attribute '__foo'",
     "output_type": "error",
     "traceback": [
      "\u001b[0;31m---------------------------------------------------------------------------\u001b[0m",
      "\u001b[0;31mAttributeError\u001b[0m                            Traceback (most recent call last)",
      "\u001b[0;32m<ipython-input-164-78db0b6231c7>\u001b[0m in \u001b[0;36m<module>\u001b[0;34m\u001b[0m\n\u001b[0;32m----> 1\u001b[0;31m \u001b[0mmyshape2\u001b[0m\u001b[0;34m.\u001b[0m\u001b[0m__foo\u001b[0m\u001b[0;34m(\u001b[0m\u001b[0;34m)\u001b[0m\u001b[0;34m\u001b[0m\u001b[0;34m\u001b[0m\u001b[0m\n\u001b[0m",
      "\u001b[0;31mAttributeError\u001b[0m: 'Shape2' object has no attribute '__foo'"
     ]
    }
   ],
   "source": [
    "myshape2.__foo()"
   ]
  },
  {
   "cell_type": "markdown",
   "metadata": {},
   "source": [
    "# Method Opeartor"
   ]
  },
  {
   "cell_type": "markdown",
   "metadata": {},
   "source": [
    "|Name        |Description|\n",
    "|:---        |:----------|\n",
    "|\\__init__    |initialization for any instance specific class|\n",
    "|\\__del__     |opposite to \\__init__, it used to finalize the instance|\n",
    "|\\__len__     |get the length|\n",
    "|\\__call__    |call a function|\n",
    "|\\__add__     |addation|\n",
    "|\\__sub__     |subtraction|\n",
    "|\\__mul__     |multiple\n",
    "|\\__truediv__ |divition|\n",
    "|\\__mod__     |mod|\n",
    "|\\__pow__     |power|"
   ]
  },
  {
   "cell_type": "code",
   "execution_count": 176,
   "metadata": {},
   "outputs": [],
   "source": [
    "class Opeartors:\n",
    "    def __init__(self, a, b):\n",
    "        self.a = a\n",
    "        self.b = b\n",
    " \n",
    "    def __str__(self): # once you print the instance, the result will be defined here\n",
    "        return 'Opeartors (%d, %d)' % (self.a, self.b)\n",
    "   \n",
    "    def __add__(self,other):\n",
    "        return Opeartors(self.a + other.a, self.b + other.b)\n",
    "    \n",
    "    def __mod__(self, other):\n",
    "        return Opeartors(self.a % self.b, other.a % other.b)"
   ]
  },
  {
   "cell_type": "code",
   "execution_count": 175,
   "metadata": {},
   "outputs": [
    {
     "name": "stdout",
     "output_type": "stream",
     "text": [
      "<__main__.Opeartors object at 0x105de5b00>\n",
      "<__main__.Opeartors object at 0x105d85f28>\n"
     ]
    }
   ],
   "source": [
    "v1 = Opeartors(2,10)\n",
    "v2 = Opeartors(5,-2)\n",
    "print (v1 + v2)\n",
    "print(v1 % v2)"
   ]
  },
  {
   "cell_type": "markdown",
   "metadata": {},
   "source": [
    "# Inheritance\t"
   ]
  },
  {
   "cell_type": "markdown",
   "metadata": {},
   "source": [
    "![](https://raw.githubusercontent.com/devin19940107/My-Python-Notebook/master/supporting%20files/Images/inheritance11.png)\n",
    "\n",
    "source：https://www.geeksforgeeks.org/types-of-inheritance-python/\n",
    "\n"
   ]
  },
  {
   "cell_type": "markdown",
   "metadata": {},
   "source": [
    "### Single Inheritance"
   ]
  },
  {
   "cell_type": "code",
   "execution_count": 59,
   "metadata": {},
   "outputs": [],
   "source": [
    "########## parent class    ##########\n",
    "class Github:\n",
    "    \n",
    "    def __init__(self):\n",
    "        print(\"Welcome to my github\")\n",
    "\n",
    "    def whoisThis(self):\n",
    "        print(\"Homepage\")\n",
    "\n",
    "    def level(self):\n",
    "        print(\"level_1\")\n",
    "        \n",
    "        \n",
    "        \n",
    "##########   child class     ##########\n",
    "class PythonBasic(Github):\n",
    "\n",
    "    def __init__(self):\n",
    "        # call super() function\n",
    "        super().__init__()\n",
    "        print(\"welcome to python basic\")\n",
    "\n",
    "    def whoisThis(self):\n",
    "        print(\"python basic\")\n",
    "\n",
    "    def now_level(self):\n",
    "        print(\"you are now in level_2\")\n"
   ]
  },
  {
   "cell_type": "code",
   "execution_count": 60,
   "metadata": {},
   "outputs": [
    {
     "name": "stdout",
     "output_type": "stream",
     "text": [
      "Welcome to my github\n",
      "Homepage\n",
      "level_1\n"
     ]
    }
   ],
   "source": [
    "# class Github\n",
    "test_Github = Github()\n",
    "test_Github.whoisThis()\n",
    "test_Github.level()"
   ]
  },
  {
   "cell_type": "code",
   "execution_count": 61,
   "metadata": {},
   "outputs": [
    {
     "name": "stdout",
     "output_type": "stream",
     "text": [
      "Welcome to my github\n",
      "welcome to python basic\n",
      "python basic\n",
      "level_1\n",
      "you are now in level2\n"
     ]
    }
   ],
   "source": [
    "# class Pythonbasic\n",
    "test_PythonBasic = Pythonbasic()\n",
    "test_PythonBasic.whoisThis() # overwrited Github\n",
    "test_PythonBasic.level() # inheritaed from Github\n",
    "test_PythonBasic.now_level() # Encapsulated in Pythonbasic"
   ]
  },
  {
   "cell_type": "markdown",
   "metadata": {},
   "source": [
    "### Multilevel Inheritance"
   ]
  },
  {
   "cell_type": "markdown",
   "metadata": {},
   "source": [
    "\n",
    "![multin](https://raw.githubusercontent.com/devin19940107/My-Python-Notebook/master/supporting%20files/Images/Multilevelinh3.png)"
   ]
  },
  {
   "cell_type": "code",
   "execution_count": 63,
   "metadata": {},
   "outputs": [],
   "source": [
    "########## parent class    ##########\n",
    "class Github:\n",
    "    \n",
    "    def __init__(self):\n",
    "        print(\"Welcome to my github\")\n",
    "\n",
    "    def whoisThis(self):\n",
    "        print(\"Homepage\")\n",
    "\n",
    "    def level(self):\n",
    "        print(\"level_1\")\n",
    "        \n",
    "        \n",
    "        \n",
    "##########   child class     ##########\n",
    "class Python_Basic(Github):\n",
    "\n",
    "    def __init__(self):\n",
    "        # call super() function\n",
    "        super().__init__()\n",
    "        print(\"welcome to python basic\")\n",
    "\n",
    "    def whoisThis(self):\n",
    "        print(\"python basic\")\n",
    "\n",
    "    def now_level(self):\n",
    "        print(\"you are now in level_2\")\n",
    "        \n",
    "        \n",
    "        \n",
    "##########   son class     ##########\n",
    "class Object_oriented_programming(Python_Basic):\n",
    "    \n",
    "    def __init__(self):\n",
    "        super().__init__()\n",
    "        print(\"welcome to python Object_oriented_programming\")\n",
    "        \n",
    "    def whoisThis(self):\n",
    "        print(\"Object_oriented_programming\")\n",
    "        \n",
    "        \n",
    "    def whereami(self):\n",
    "        print('Now you moved to level_3 from level_2')\n"
   ]
  },
  {
   "cell_type": "code",
   "execution_count": 106,
   "metadata": {},
   "outputs": [
    {
     "name": "stdout",
     "output_type": "stream",
     "text": [
      "Welcome to my github\n",
      "welcome to python basic\n",
      "welcome to python Object_oriented_programming\n",
      "Object_oriented_programming\n",
      "level_1\n",
      "you are now in level_2\n",
      "Now you moved to level_3 from level_2\n"
     ]
    }
   ],
   "source": [
    "# class Object_oriented_programming\n",
    "test_Object_oriented_programming = Object_oriented_programming() #instantiate\n",
    "\n",
    "test_Object_oriented_programming.whoisThis() # overwrited Pythonbasic\n",
    "\n",
    "test_Object_oriented_programming.level() # inheritaed from Github\n",
    "\n",
    "test_Object_oriented_programming.now_level() # inheritaed in Pythonbasic\n",
    "\n",
    "\n",
    "test_Object_oriented_programming.whereami() # Encapsulated Object_oriented_programming"
   ]
  },
  {
   "cell_type": "markdown",
   "metadata": {},
   "source": [
    "### Multinode Inheritance"
   ]
  },
  {
   "cell_type": "markdown",
   "metadata": {},
   "source": [
    "![multin](https://raw.githubusercontent.com/devin19940107/My-Python-Notebook/master/supporting%20files/Images/multipleinh2.png)\n",
    "\n"
   ]
  },
  {
   "cell_type": "code",
   "execution_count": 148,
   "metadata": {},
   "outputs": [],
   "source": [
    "########## Class A    ##########\n",
    "class Mom:\n",
    "    \n",
    "    def __init__(self):\n",
    "        print(\"I am Mom\")\n",
    "\n",
    "    def Mom_Ability(self):\n",
    "        print(\"Cook\")\n",
    "\n",
    "    def name(self):\n",
    "        print(\"mother name\")\n",
    "        \n",
    "        \n",
    "        \n",
    "##########   Class B     ##########\n",
    "class Dad:\n",
    "\n",
    "    def __init__(self):\n",
    "        print(\"I am Dad \")\n",
    "\n",
    "    def Dad_Ability(self):\n",
    "        print(\"Sports\")\n",
    "\n",
    "    def name(self):\n",
    "        print(\"Father name\")\n",
    "        \n",
    "        \n",
    "        \n",
    "##########   Class C     ##########\n",
    "class Me(Mom, Dad):\n",
    "    \n",
    "    def __init__(self):\n",
    "        print(\"This is me\")\n",
    "        \n",
    "    def my_ability(self): \n",
    "        self.Dad_Ability()\n",
    "        self.Mom_Ability()\n",
    "        "
   ]
  },
  {
   "cell_type": "code",
   "execution_count": 111,
   "metadata": {},
   "outputs": [
    {
     "name": "stdout",
     "output_type": "stream",
     "text": [
      "I am Mom\n",
      "Cook\n",
      "mother name\n"
     ]
    }
   ],
   "source": [
    "mom = Mom()\n",
    "mom.Mom_Ability()\n",
    "mom.name()"
   ]
  },
  {
   "cell_type": "code",
   "execution_count": 112,
   "metadata": {},
   "outputs": [
    {
     "name": "stdout",
     "output_type": "stream",
     "text": [
      "I am Dad \n",
      "Sports\n",
      "Father name\n"
     ]
    }
   ],
   "source": [
    "dad = Dad()\n",
    "dad.Dad_Ability()\n",
    "dad.name()"
   ]
  },
  {
   "cell_type": "code",
   "execution_count": 149,
   "metadata": {},
   "outputs": [
    {
     "name": "stdout",
     "output_type": "stream",
     "text": [
      "This is me\n",
      "Sports\n",
      "Cook\n"
     ]
    }
   ],
   "source": [
    "me = Me()\n",
    "me.my_ability()"
   ]
  },
  {
   "cell_type": "markdown",
   "metadata": {},
   "source": [
    "### Hierarchical Inheritance"
   ]
  },
  {
   "cell_type": "markdown",
   "metadata": {},
   "source": [
    "\n",
    "![multin](https://raw.githubusercontent.com/devin19940107/My-Python-Notebook/master/supporting%20files/Images/Hierarchical-inheritance1.png)"
   ]
  },
  {
   "cell_type": "markdown",
   "metadata": {},
   "source": [
    "### Diamond Inheritance"
   ]
  },
  {
   "cell_type": "markdown",
   "metadata": {},
   "source": [
    "\n",
    "![multin](https://raw.githubusercontent.com/devin19940107/My-Python-Notebook/master/supporting%20files/Images/Diamond1.png)"
   ]
  },
  {
   "cell_type": "code",
   "execution_count": null,
   "metadata": {},
   "outputs": [],
   "source": [
    "   "
   ]
  },
  {
   "cell_type": "code",
   "execution_count": null,
   "metadata": {},
   "outputs": [],
   "source": []
  }
 ],
 "metadata": {
  "kernelspec": {
   "display_name": "Python 3",
   "language": "python",
   "name": "python3"
  },
  "language_info": {
   "codemirror_mode": {
    "name": "ipython",
    "version": 3
   },
   "file_extension": ".py",
   "mimetype": "text/x-python",
   "name": "python",
   "nbconvert_exporter": "python",
   "pygments_lexer": "ipython3",
   "version": "3.7.1"
  }
 },
 "nbformat": 4,
 "nbformat_minor": 2
}
