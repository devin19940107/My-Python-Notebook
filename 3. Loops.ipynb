{
 "cells": [
  {
   "cell_type": "markdown",
   "metadata": {},
   "source": [
    "# If, For , While made this internet\n",
    "<div class=\"alert alert-block alert-info\" style=\"margin: 20px\">\n",
    "says me"
   ]
  },
  {
   "cell_type": "markdown",
   "metadata": {},
   "source": [
    "# If Statement"
   ]
  },
  {
   "cell_type": "markdown",
   "metadata": {},
   "source": [
    "![ifstatement](https://raw.githubusercontent.com/devin19940107/My-Python-Notebook/master/supporting%20files/Images/if_statement.jpg)"
   ]
  },
  {
   "cell_type": "code",
   "execution_count": 2,
   "metadata": {},
   "outputs": [
    {
     "name": "stdout",
     "output_type": "stream",
     "text": [
      "the value of x >= 50\n",
      "done!\n",
      "the value of x < 200\n",
      "the value of x >= 50 and <200\n",
      "the value of x >= 200 and x<y\n"
     ]
    }
   ],
   "source": [
    "x=100\n",
    "\n",
    "# simple if statement\n",
    "# each control line must end with colon (:) \n",
    "if x>=50:   \n",
    "    # each line in the block should be \n",
    "    # indented with the same amount                                  \n",
    "    print (\"the value of x >= 50\")   \n",
    "    print(\"done!\")\n",
    "\n",
    "# if...else statement\n",
    "if x>=200:\n",
    "    print (\"the value of x >= 200\")\n",
    "else:\n",
    "    print (\"the value of x < 200\")\n",
    "\n",
    "# if...elif...else statement\n",
    "if x>=200:\n",
    "    print (\"the value of x >= 200\")\n",
    "elif x>=50:\n",
    "    print (\"the value of x >= 50 and <200\")\n",
    "else:\n",
    "    print (\"the value of x < 50\")\n",
    "    \n",
    "# nested statements\n",
    "x=300\n",
    "y=500\n",
    "if x>=200:\n",
    "    \n",
    "    # inner \"if\" and \"else\" need to indent the same amount\n",
    "    if x>=y:                                                 \n",
    "        print (\"the value of x >= 200 and x>=y\")\n",
    "    else:\n",
    "        print (\"the value of x >= 200 and x<y\")\n",
    "else:\n",
    "    print (\"the value of x < 200\")"
   ]
  },
  {
   "cell_type": "markdown",
   "metadata": {},
   "source": [
    "# Loop statements: while"
   ]
  },
  {
   "cell_type": "markdown",
   "metadata": {},
   "source": [
    "![whilestatement](https://raw.githubusercontent.com/devin19940107/My-Python-Notebook/master/supporting%20files/Images/whilestatement.jpg)"
   ]
  },
  {
   "cell_type": "code",
   "execution_count": 3,
   "metadata": {},
   "outputs": [
    {
     "name": "stdout",
     "output_type": "stream",
     "text": [
      "1\n",
      "2\n",
      "3\n",
      "4\n"
     ]
    }
   ],
   "source": [
    "x=1\n",
    "# in each round, the condition following 'while' is evaluated       \n",
    "while x<5:    \n",
    "    # continue the block if the conidtion is true\n",
    "    print (x)           \n",
    "    x+=1\n",
    "    "
   ]
  },
  {
   "cell_type": "markdown",
   "metadata": {},
   "source": [
    "# Loop statements: For"
   ]
  },
  {
   "cell_type": "markdown",
   "metadata": {},
   "source": [
    "![forloop](https://raw.githubusercontent.com/devin19940107/My-Python-Notebook/master/supporting%20files/Images/forloop.png)"
   ]
  },
  {
   "cell_type": "code",
   "execution_count": 4,
   "metadata": {},
   "outputs": [
    {
     "name": "stdout",
     "output_type": "stream",
     "text": [
      "[1, 4, 9, 16, 25]\n",
      "Square of each element in [1:6]: [1, 4, 9, 16, 25]\n"
     ]
    }
   ],
   "source": [
    "# initiate an empty list\n",
    "list1=[]  \n",
    "\n",
    "# loop through any iterable object, e.g. \n",
    "# list, tuple, set, dictionary\n",
    "for x in range(1,6):    \n",
    "    # append x**2 to the list\n",
    "    list1.append(x**2)  \n",
    "print (list1)\n",
    "    \n",
    "# A compact ways to use for loop in assigment\n",
    "list1=[x**2 for x in range(1,6)]\n",
    "print (\"Square of each element in [1:6]:\", list1)\n"
   ]
  },
  {
   "cell_type": "markdown",
   "metadata": {},
   "source": [
    "### List compreahension"
   ]
  },
  {
   "cell_type": "code",
   "execution_count": 19,
   "metadata": {},
   "outputs": [
    {
     "name": "stdout",
     "output_type": "stream",
     "text": [
      "origin for loop: [3, 5, 2, 4, 1]\n",
      "List comprehension: [3, 5, 2, 4, 1]\n"
     ]
    }
   ],
   "source": [
    "\n",
    "list1=[3,5,2,4,1]\n",
    "\n",
    "# original version\n",
    "list2=[]\n",
    "for i in list1:\n",
    "    list2.append(i)\n",
    "print('origin for loop:',list2)\n",
    "\n",
    "# list comprehension\n",
    "list2=[i for i in list1]\n",
    "print('List comprehension:',list2)"
   ]
  },
  {
   "cell_type": "markdown",
   "metadata": {},
   "source": [
    "### Enumerate"
   ]
  },
  {
   "cell_type": "code",
   "execution_count": 20,
   "metadata": {},
   "outputs": [
    {
     "name": "stdout",
     "output_type": "stream",
     "text": [
      "[(0, 3), (1, 5), (2, 2), (3, 4), (4, 1)]\n"
     ]
    }
   ],
   "source": [
    "list2=[(idx,x) for idx,x in enumerate(list1) ]  \n",
    "print(list2)"
   ]
  },
  {
   "cell_type": "markdown",
   "metadata": {},
   "source": [
    "### For-if "
   ]
  },
  {
   "cell_type": "code",
   "execution_count": 30,
   "metadata": {},
   "outputs": [
    {
     "name": "stdout",
     "output_type": "stream",
     "text": [
      "Fetch the index and value of each positive element\n",
      "[(1, 5), (3, 3), (5, 12), (6, 1), (7, 8)]\n"
     ]
    }
   ],
   "source": [
    "list3=[(idx,x) for idx,x in enumerate([-2,5,-9,3,-4,12,1,8]) if x>0]\n",
    "\n",
    "print('Fetch the index and value of each positive element')\n",
    "print (list3)"
   ]
  },
  {
   "cell_type": "markdown",
   "metadata": {},
   "source": [
    "### For in Dictionary"
   ]
  },
  {
   "cell_type": "code",
   "execution_count": 31,
   "metadata": {},
   "outputs": [
    {
     "name": "stdout",
     "output_type": "stream",
     "text": [
      "{1: 'c', 2: 'b', 3: 'a', 4: 'd', 5: 'e'}\n",
      "\n",
      "get the keys in the dictionary as a list\n",
      "[1, 2, 3, 4, 5]\n",
      "\n",
      "get the values in the dictionary as a list\n",
      "['c', 'b', 'a', 'd', 'e']\n"
     ]
    }
   ],
   "source": [
    "dict1={1: 'c', 2:\"b\", 3:\"a\", 4:\"d\", 5:\"e\"}\n",
    "\n",
    "print(dict1)\n",
    "\n",
    "keys=[x for x in dict1]                             \n",
    "# loop through each key of a dictionary\n",
    "# This is equivalent to dict1.keys()\n",
    "print(\"\\nget the keys in the dictionary as a list\")\n",
    "print (keys)\n",
    "\n",
    "print(\"\\nget the values in the dictionary as a list\")\n",
    "values=[dict1[x] for x in dict1]                     \n",
    "# loop through each key and then get the value through key\n",
    "# this is equivalent to dict1.values()\n",
    "print (values)"
   ]
  },
  {
   "cell_type": "markdown",
   "metadata": {},
   "source": [
    "### Nested for loop"
   ]
  },
  {
   "cell_type": "code",
   "execution_count": 34,
   "metadata": {},
   "outputs": [
    {
     "name": "stdout",
     "output_type": "stream",
     "text": [
      "1.2\n",
      "3.5\n",
      "2.4\n",
      "7.0\n",
      "[1.2, 3.5, 2.4, 7.0]\n"
     ]
    }
   ],
   "source": [
    "for x in range(1,3):    \n",
    "    for y in [1.2, 3.5]:\n",
    "        print (x*y)\n",
    "\n",
    "# List comprehension\n",
    "xy=[x*y for x in range(1,3) for y in [1.2, 3.5]]    \n",
    "\n",
    "print (xy)"
   ]
  },
  {
   "cell_type": "markdown",
   "metadata": {},
   "source": [
    "# Control Statement"
   ]
  },
  {
   "cell_type": "markdown",
   "metadata": {},
   "source": [
    "<div class=\"alert alert-block alert-info\" style=\"margin: 20px\">\n",
    "All you need is add a break on your bike add obey the traffic rules"
   ]
  },
  {
   "cell_type": "markdown",
   "metadata": {},
   "source": [
    "### Break"
   ]
  },
  {
   "cell_type": "code",
   "execution_count": 37,
   "metadata": {},
   "outputs": [
    {
     "name": "stdout",
     "output_type": "stream",
     "text": [
      "Number is 0\n",
      "Number is 1\n",
      "Number is 2\n",
      "Number is 3\n",
      "Number is 4\n",
      "Out of loop\n"
     ]
    }
   ],
   "source": [
    "number = 0\n",
    "\n",
    "for number in range(10):\n",
    "    if number == 5:\n",
    "        break    # break here\n",
    "\n",
    "    print('Number is ' + str(number))\n",
    "\n",
    "print('Out of loop')"
   ]
  },
  {
   "cell_type": "markdown",
   "metadata": {},
   "source": [
    "### Continue"
   ]
  },
  {
   "cell_type": "code",
   "execution_count": 40,
   "metadata": {},
   "outputs": [
    {
     "name": "stdout",
     "output_type": "stream",
     "text": [
      "Number is 0\n",
      "Number is 1\n",
      "Number is 2\n",
      "Number is 3\n",
      "Number is 4\n",
      "Number is 6\n",
      "Number is 7\n",
      "Number is 8\n",
      "Number is 9\n",
      "Out of loop\n"
     ]
    }
   ],
   "source": [
    "number = 0\n",
    "\n",
    "for number in range(10):\n",
    "    if number == 5:\n",
    "        continue    # continue here\n",
    "\n",
    "    print('Number is ' + str(number))\n",
    "\n",
    "print('Out of loop')\n"
   ]
  },
  {
   "cell_type": "markdown",
   "metadata": {},
   "source": [
    "### Pass"
   ]
  },
  {
   "cell_type": "code",
   "execution_count": 47,
   "metadata": {},
   "outputs": [
    {
     "name": "stdout",
     "output_type": "stream",
     "text": [
      "Number is 0\n",
      "Number is 1\n",
      "Number is 2\n",
      "Number is 3\n",
      "Number is 4\n",
      "Number is 5\n",
      "Number is 6\n",
      "Number is 7\n",
      "Number is 8\n",
      "Number is 9\n",
      "Out of loop\n"
     ]
    }
   ],
   "source": [
    "# The pass statement is telling the program to continue to run the loop and ignore the fact \n",
    "number = 0\n",
    "\n",
    "for number in range(10):\n",
    "    if number != 5:\n",
    "        pass    # pass here, even number is not equal to 5\n",
    "    print('Number is ' + str(number))\n",
    "\n",
    "print('Out of loop')"
   ]
  },
  {
   "cell_type": "code",
   "execution_count": 1,
   "metadata": {},
   "outputs": [
    {
     "name": "stdout",
     "output_type": "stream",
     "text": [
      "codelines 47\n"
     ]
    }
   ],
   "source": [
    "print('codelines 47')"
   ]
  },
  {
   "cell_type": "code",
   "execution_count": null,
   "metadata": {},
   "outputs": [],
   "source": []
  }
 ],
 "metadata": {
  "kernelspec": {
   "display_name": "Python 3",
   "language": "python",
   "name": "python3"
  },
  "language_info": {
   "codemirror_mode": {
    "name": "ipython",
    "version": 3
   },
   "file_extension": ".py",
   "mimetype": "text/x-python",
   "name": "python",
   "nbconvert_exporter": "python",
   "pygments_lexer": "ipython3",
   "version": "3.7.1"
  }
 },
 "nbformat": 4,
 "nbformat_minor": 2
}
