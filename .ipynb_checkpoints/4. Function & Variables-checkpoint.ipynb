{
 "cells": [
  {
   "cell_type": "markdown",
   "metadata": {},
   "source": [
    "# Function"
   ]
  },
  {
   "cell_type": "markdown",
   "metadata": {},
   "source": [
    "* Function can be reused\n",
    "* Function is interpreted as a specific process, action or task that a system is able to perform"
   ]
  },
  {
   "cell_type": "code",
   "execution_count": null,
   "metadata": {},
   "outputs": [],
   "source": [
    "# pseudo-code\n",
    "\n",
    "def function_name (argument1, argument2, argument3......):\n",
    "    if something happened:\n",
    "        do someting\n",
    "    for something in something:\n",
    "        do something\n",
    "    while something happened:\n",
    "        do something\n",
    "    or you can just do something here like print(something)"
   ]
  },
  {
   "cell_type": "code",
   "execution_count": 13,
   "metadata": {},
   "outputs": [
    {
     "data": {
      "text/plain": [
       "[1, 2, 4, 5, 6, 7]"
      ]
     },
     "execution_count": 13,
     "metadata": {},
     "output_type": "execute_result"
    }
   ],
   "source": [
    "# Remove a number from a list\n",
    "def remove(List, Number):\n",
    "    List2=[]\n",
    "    for i in List:\n",
    "        if i == Number:\n",
    "            continue\n",
    "        List2.append(i)\n",
    "    return List2\n",
    "\n",
    "\n",
    "#Call this function\n",
    "list1=[1,2,3,4,5,6,7]\n",
    "remove(list1,3)"
   ]
  },
  {
   "cell_type": "markdown",
   "metadata": {},
   "source": [
    "# Variables"
   ]
  },
  {
   "cell_type": "markdown",
   "metadata": {},
   "source": [
    "<div class=\"alert alert-info\" style=\"margin: 20px\">\n",
    "\n",
    "* **Local variables**: \n",
    "   * Variables defined inside a function body have a local scope \n",
    "   * Local variables are accessed only inside the function\n",
    "* **Global variables**: \n",
    "   * Variables defined outside of a function have a global scope\n",
    "   * Global variables are accessed (read) throughout the program body by all functions"
   ]
  },
  {
   "cell_type": "code",
   "execution_count": 14,
   "metadata": {},
   "outputs": [
    {
     "name": "stdout",
     "output_type": "stream",
     "text": [
      "Inside the function local total :  30\n",
      "Outside the function global total :  10\n"
     ]
    }
   ],
   "source": [
    "total=10  # global variable\n",
    "\n",
    "def sum( arg1, arg2 ):\n",
    "    # Here define a local variable also named with \"total\"\n",
    "    # Although with the same variable names, they are two different variables\n",
    "    total = arg1 + arg2 \n",
    "    print (\"Inside the function local total : \", total)\n",
    "    return total;\n",
    "\n",
    "# Now you can call sum function\n",
    "sum( 10, 20 );\n",
    "print (\"Outside the function global total : \", total) "
   ]
  },
  {
   "cell_type": "markdown",
   "metadata": {},
   "source": [
    "---\n",
    "#### you can also read global variable into a function"
   ]
  },
  {
   "cell_type": "code",
   "execution_count": 15,
   "metadata": {},
   "outputs": [
    {
     "name": "stdout",
     "output_type": "stream",
     "text": [
      "sum with global_total:  40\n",
      "Inside the function local total :  30\n",
      "global_total outside the function  :  10\n"
     ]
    }
   ],
   "source": [
    "global_total = 10  # global variable\n",
    "\n",
    "def sum( arg1, arg2 ):\n",
    "    total = arg1 + arg2 # Here total is local variable.\n",
    "    \n",
    "    # sum \"global_total\" with \"total\" and save it to a new \n",
    "    # variable \"grand_total\"\n",
    "    \n",
    "    grand_total = global_total + total\n",
    "    \n",
    "    \n",
    "    \n",
    "    print(\"sum with global_total: \", grand_total)\n",
    "\n",
    "    print (\"Inside the function local total : \", total)\n",
    "    return total\n",
    "\n",
    "# Now you can call sum function\n",
    "sum( 10, 20 )\n",
    "print (\"global_total outside the function  : \", global_total) "
   ]
  },
  {
   "cell_type": "code",
   "execution_count": 17,
   "metadata": {},
   "outputs": [
    {
     "ename": "UnboundLocalError",
     "evalue": "local variable 'global_total' referenced before assignment",
     "output_type": "error",
     "traceback": [
      "\u001b[0;31m---------------------------------------------------------------------------\u001b[0m",
      "\u001b[0;31mUnboundLocalError\u001b[0m                         Traceback (most recent call last)",
      "\u001b[0;32m<ipython-input-17-e474d3d54e77>\u001b[0m in \u001b[0;36m<module>\u001b[0;34m\u001b[0m\n\u001b[1;32m     12\u001b[0m \u001b[0;34m\u001b[0m\u001b[0m\n\u001b[1;32m     13\u001b[0m \u001b[0;31m# Now you can call sum function\u001b[0m\u001b[0;34m\u001b[0m\u001b[0;34m\u001b[0m\u001b[0;34m\u001b[0m\u001b[0m\n\u001b[0;32m---> 14\u001b[0;31m \u001b[0msum\u001b[0m\u001b[0;34m(\u001b[0m \u001b[0;36m10\u001b[0m\u001b[0;34m,\u001b[0m \u001b[0;36m20\u001b[0m \u001b[0;34m)\u001b[0m\u001b[0;34m\u001b[0m\u001b[0;34m\u001b[0m\u001b[0m\n\u001b[0m\u001b[1;32m     15\u001b[0m \u001b[0mprint\u001b[0m \u001b[0;34m(\u001b[0m\u001b[0;34m\"Outside the function global total : \"\u001b[0m\u001b[0;34m,\u001b[0m \u001b[0mglobal_total\u001b[0m\u001b[0;34m)\u001b[0m\u001b[0;34m\u001b[0m\u001b[0;34m\u001b[0m\u001b[0m\n\u001b[1;32m     16\u001b[0m \u001b[0;34m\u001b[0m\u001b[0m\n",
      "\u001b[0;32m<ipython-input-17-e474d3d54e77>\u001b[0m in \u001b[0;36msum\u001b[0;34m(arg1, arg2)\u001b[0m\n\u001b[1;32m      5\u001b[0m \u001b[0;34m\u001b[0m\u001b[0m\n\u001b[1;32m      6\u001b[0m     \u001b[0;31m# modify \"global_total\" by adding \"total\" value to it\u001b[0m\u001b[0;34m\u001b[0m\u001b[0;34m\u001b[0m\u001b[0;34m\u001b[0m\u001b[0m\n\u001b[0;32m----> 7\u001b[0;31m     \u001b[0mglobal_total\u001b[0m \u001b[0;34m+=\u001b[0m \u001b[0mtotal\u001b[0m\u001b[0;34m\u001b[0m\u001b[0;34m\u001b[0m\u001b[0m\n\u001b[0m\u001b[1;32m      8\u001b[0m     \u001b[0mprint\u001b[0m\u001b[0;34m(\u001b[0m\u001b[0;34m\"global_total: \"\u001b[0m\u001b[0;34m,\u001b[0m \u001b[0mglobal_total\u001b[0m\u001b[0;34m)\u001b[0m\u001b[0;34m\u001b[0m\u001b[0;34m\u001b[0m\u001b[0m\n\u001b[1;32m      9\u001b[0m \u001b[0;34m\u001b[0m\u001b[0m\n",
      "\u001b[0;31mUnboundLocalError\u001b[0m: local variable 'global_total' referenced before assignment"
     ]
    }
   ],
   "source": [
    "global_total = 10  # global variable\n",
    "\n",
    "def sum( arg1, arg2 ):\n",
    "    total = arg1 + arg2\n",
    "    \n",
    "    \n",
    "    \n",
    "    \n",
    "    global_total += total     #     <----------------------------------------------------------------\n",
    "    \n",
    "    \n",
    "    \n",
    "    \n",
    "    \n",
    "    print(\"global_total: \", global_total)\n",
    "    \n",
    "    print (\"Inside the function local total : \", total)\n",
    "    return total\n",
    "\n",
    "# Now you can call sum function\n",
    "sum( 10, 20 )\n",
    "print (\"Outside the function global total : \", global_total) \n",
    "\n",
    "# You got an error from the function. Why?"
   ]
  },
  {
   "cell_type": "code",
   "execution_count": 19,
   "metadata": {},
   "outputs": [
    {
     "name": "stdout",
     "output_type": "stream",
     "text": [
      "global_total:  70\n",
      "Inside the function local total :  30\n",
      "Outside the function global total :  70\n"
     ]
    }
   ],
   "source": [
    "#Use global statement to indicate the scope\n",
    "\n",
    "def sum( arg1, arg2 ):\n",
    "    total = arg1 + arg2 \n",
    "    \n",
    "    \n",
    "    \n",
    "    # use global statement to indicate the scope of global_total\n",
    "    global global_total #     <----------------------------------------------------------------\n",
    "     \n",
    "    \n",
    "\n",
    "    \n",
    "    global_total+=total \n",
    "    print(\"global_total: \", global_total)\n",
    "    \n",
    "    print (\"Inside the function local total : \", total)\n",
    "    return total\n",
    "\n",
    "# Now you can call sum function\n",
    "sum( 10, 20 )\n",
    "print (\"Outside the function global total : \", global_total) \n"
   ]
  },
  {
   "cell_type": "code",
   "execution_count": 20,
   "metadata": {},
   "outputs": [
    {
     "ename": "SyntaxError",
     "evalue": "name 'global_total' is assigned to before global declaration (cell_name, line 11)",
     "output_type": "error",
     "traceback": [
      "\u001b[0;36m  File \u001b[0;32m\"cell_name\"\u001b[0;36m, line \u001b[0;32m11\u001b[0m\n\u001b[0;31mSyntaxError\u001b[0m\u001b[0;31m:\u001b[0m name 'global_total' is assigned to before global declaration\n"
     ]
    }
   ],
   "source": [
    "def sum( arg1, arg2 ):\n",
    "    total = arg1 + arg2 \n",
    "    \n",
    "    global_total = 50  #     <----------------------------------------------------------------\n",
    "    \n",
    "    # use global statement to indicate the scope of global_total\n",
    "    global global_total #     <----------------------------------------------------------------\n",
    "     \n",
    "    \n",
    "\n",
    "    \n",
    "    global_total+=total \n",
    "    print(\"global_total: \", global_total)\n",
    "    \n",
    "    print (\"Inside the function local total : \", total)\n",
    "    return total\n",
    "\n",
    "# Now you can call sum function\n",
    "sum( 10, 20 )\n",
    "print (\"Outside the function global total : \", global_total) "
   ]
  },
  {
   "cell_type": "code",
   "execution_count": 22,
   "metadata": {},
   "outputs": [
    {
     "name": "stdout",
     "output_type": "stream",
     "text": [
      "global_total:  1029\n",
      "Inside the function local total :  30\n",
      "Outside the function global total :  1029\n"
     ]
    }
   ],
   "source": [
    "def sum( arg1, arg2 ):\n",
    "    total = arg1 + arg2 \n",
    "    \n",
    "    \n",
    "    \n",
    "    # use global statement to indicate the scope of global_total\n",
    "    global global_total #     <----------------------------------------------------------------\n",
    "    \n",
    "    \n",
    "    global_total = 999  #     <----------------------------------------------------------------\n",
    "    \n",
    "\n",
    "    \n",
    "    global_total+=total \n",
    "    print(\"global_total: \", global_total)\n",
    "    \n",
    "    print (\"Inside the function local total : \", total)\n",
    "    return total\n",
    "\n",
    "# Now you can call sum function\n",
    "sum( 10, 20 )\n",
    "print (\"Outside the function global total : \", global_total) "
   ]
  },
  {
   "cell_type": "markdown",
   "metadata": {},
   "source": [
    "# Pass by object & Pass by reference & Pass by reference"
   ]
  },
  {
   "cell_type": "markdown",
   "metadata": {},
   "source": [
    "<font color = red>\n",
    "    \n",
    "### Python's way of passing parameters is neither pass by value nor pass by reference, but pass by object"
   ]
  },
  {
   "cell_type": "markdown",
   "metadata": {},
   "source": [
    "<div class=\"alert alert-block alert-info\" style = 'margin : 20px' >\n",
    "\n",
    "**by reference**: the called functions' parameter will be the same as the callers' passed argument (not the value, but the identity - the variable itself). <br>\n",
    "**by value** : the called functions' parameter will be a copy of the callers' passed argument</div>"
   ]
  },
  {
   "cell_type": "markdown",
   "metadata": {},
   "source": [
    "![passby](https://raw.githubusercontent.com/devin19940107/My-Python-Notebook/master/supporting%20files/Images/passby.gif)"
   ]
  },
  {
   "cell_type": "code",
   "execution_count": 6,
   "metadata": {},
   "outputs": [
    {
     "name": "stdout",
     "output_type": "stream",
     "text": [
      "4500063408\n",
      "<class 'int'>\n"
     ]
    }
   ],
   "source": [
    "# int 3 is an object, and each object has an identifier and type\n",
    "print(id(3)) # this get the identifier\n",
    "print(type(3)) # this get the type"
   ]
  },
  {
   "cell_type": "code",
   "execution_count": 4,
   "metadata": {},
   "outputs": [],
   "source": [
    "a = 1\n",
    "b = 1 \n",
    "# this process it named obejct int 1 as a and put a into name space, and then same as b"
   ]
  },
  {
   "cell_type": "code",
   "execution_count": null,
   "metadata": {},
   "outputs": [],
   "source": [
    "a = 1\n",
    "a = 2\n",
    "# in the whole process，only the pointer of the name and namespace changed，but the object didnt changed"
   ]
  },
  {
   "cell_type": "markdown",
   "metadata": {},
   "source": [
    "<font color = red >\n",
    "In python object are classified into mutable and immutable  \n",
    "    \n",
    "* Mutable : list dic  ----------- pass by reference\n",
    "* Immutable :tuple string int float ----------- pass by value\n"
   ]
  },
  {
   "cell_type": "markdown",
   "metadata": {},
   "source": [
    "simple example:"
   ]
  },
  {
   "cell_type": "code",
   "execution_count": 34,
   "metadata": {},
   "outputs": [
    {
     "data": {
      "text/plain": [
       "4"
      ]
     },
     "execution_count": 34,
     "metadata": {},
     "output_type": "execute_result"
    }
   ],
   "source": [
    "a = 3\n",
    "\n",
    "def func(a):\n",
    "    a = 4  # we reassign a equals to 4 \n",
    "    return(a)\n",
    "\n",
    "new_a = func(a)\n",
    "\n",
    "new_a # value changed"
   ]
  },
  {
   "cell_type": "code",
   "execution_count": 33,
   "metadata": {},
   "outputs": [
    {
     "data": {
      "text/plain": [
       "[1, 2, 3, 4]"
      ]
     },
     "execution_count": 33,
     "metadata": {},
     "output_type": "execute_result"
    }
   ],
   "source": [
    "list_a =[1,2,3,4]\n",
    "\n",
    "def func_lst(lsit_a):\n",
    "    lsit_a =[10,20,30,40]\n",
    "    return list_a\n",
    "\n",
    "new_list = func_lst(list_a)\n",
    "new_list #value not changed"
   ]
  },
  {
   "cell_type": "markdown",
   "metadata": {},
   "source": [
    "<font color =red>\n",
    "it is beacuse, int 3 is immutable object, inside the function we just let a namespace point to int 4, but it did affect the namespace outside function\n",
    "    \n",
    "---"
   ]
  },
  {
   "cell_type": "markdown",
   "metadata": {},
   "source": [
    "for your better understanding  \n",
    "\n",
    "another example: "
   ]
  },
  {
   "cell_type": "code",
   "execution_count": 41,
   "metadata": {},
   "outputs": [
    {
     "name": "stdout",
     "output_type": "stream",
     "text": [
      "Values outside the function:  [10, 20, 30]\n",
      "Values outside the function before call the function:  [10, 20, 30, [1, 2, 3, 4]]\n",
      "Values inside the function after called function:  [10, 20, 30, [1, 2, 3, 4]]\n"
     ]
    }
   ],
   "source": [
    "#-------------------------#\n",
    "def changeme( mylist ):\n",
    "    mylist.append([1,2,3,4]);\n",
    "    return mylist\n",
    "\n",
    "#-------------------------#\n",
    "\n",
    "mylist = [10,20,30];\n",
    "\n",
    "#-------------------------#\n",
    "\n",
    "print (\"Values outside the function: \", mylist)\n",
    "#-------------------------#\n",
    "\n",
    "newlist = changeme( mylist );\n",
    "\n",
    "#-------------------------#\n",
    "\n",
    "print (\"Values outside the function before call the function: \", mylist)\n",
    "\n",
    "#-------------------------#\n",
    "print (\"Values inside the function after called function: \", newlist)"
   ]
  },
  {
   "cell_type": "markdown",
   "metadata": {},
   "source": [
    "<div class=\"alert alert-block alert-info\" style = 'margin :20px'>combined with global/local variables can be very confusing</div>"
   ]
  },
  {
   "cell_type": "code",
   "execution_count": 30,
   "metadata": {},
   "outputs": [
    {
     "name": "stdout",
     "output_type": "stream",
     "text": [
      "Values outside the function before call the function:  [10, 20, 30]\n",
      "Values inside the function:  [1, 2, 3, 4]\n",
      "Values outside the function after called the function:  [10, 20, 30]\n"
     ]
    }
   ],
   "source": [
    "\n",
    "#-------------------------#\n",
    "mylist = [10,20,30];\n",
    "print (\"Values outside the function before call the function: \", mylist)\n",
    "\n",
    "\n",
    "#-------------------------#\n",
    "def changeme( mylist ):\n",
    "    mylist=[1,2,3,4]\n",
    "    print (\"Values inside the function: \", mylist)\n",
    "    return mylist\n",
    "\n",
    "#-------------------------#\n",
    "newlist = changeme( mylist );\n",
    "print (\"Values outside the function after called the function: \", mylist)\n",
    "\n",
    "#-------------------------#\n",
    "\n",
    "\n",
    "# global variable \"mylist\" is passed to the function by reference\n",
    "# However, it's value is not changed by the function"
   ]
  },
  {
   "cell_type": "markdown",
   "metadata": {},
   "source": [
    "# Function inside Function"
   ]
  },
  {
   "cell_type": "code",
   "execution_count": 38,
   "metadata": {},
   "outputs": [
    {
     "name": "stdout",
     "output_type": "stream",
     "text": [
      "1\n"
     ]
    }
   ],
   "source": [
    "def fun1():\n",
    "    x = 1\n",
    "    \n",
    "    def fun2():\n",
    "        print(x)\n",
    "    fun2() # call fun2 in the fun1 aspect\n",
    "    \n",
    "    \n",
    "fun1() # call the fun1 in the global aspect\n",
    "\n",
    "# x is available for any function inside the function:"
   ]
  },
  {
   "cell_type": "code",
   "execution_count": null,
   "metadata": {},
   "outputs": [],
   "source": []
  }
 ],
 "metadata": {
  "kernelspec": {
   "display_name": "Python 3",
   "language": "python",
   "name": "python3"
  },
  "language_info": {
   "codemirror_mode": {
    "name": "ipython",
    "version": 3
   },
   "file_extension": ".py",
   "mimetype": "text/x-python",
   "name": "python",
   "nbconvert_exporter": "python",
   "pygments_lexer": "ipython3",
   "version": "3.7.1"
  }
 },
 "nbformat": 4,
 "nbformat_minor": 2
}
