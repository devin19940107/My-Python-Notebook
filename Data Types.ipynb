{
 "cells": [
  {
   "cell_type": "markdown",
   "metadata": {},
   "source": [
    "# Python build-in Data Type"
   ]
  },
  {
   "cell_type": "markdown",
   "metadata": {},
   "source": [
    "| Type            | Function                                                                   |\n",
    "| :-------------  |:---------------------------------------------------------------------------|\n",
    "| Text            | `str`                                                                      |\n",
    "| Numeric         | `int`  `float` `complex`                                                   |\n",
    "| Sequence        | `list` `tuple` `range`                                                     |\n",
    "| Mapping         | `dictionary`                                                               |\n",
    "| Set             | `set`  `frozenset`                                                         |\n",
    "| Boolean         | `bool`                                                                     |\n",
    "| Binary          | `bytes` `bytearray` `memoryview`                                           |"
   ]
  },
  {
   "cell_type": "markdown",
   "metadata": {},
   "source": [
    "|Example|Data Type|\n",
    "| :-------------  |:---------------------------------------------------------------------------|\n",
    "|str\t|x = \"Hello World\"\n",
    "|int\t|x = 20\t\n",
    "|float\t|x = 20.5\t\n",
    "|complex\t|x = 1j\t\n",
    "|list |x = [\"apple\", \"banana\", \"cherry\"]\t\n",
    "|tuple |x = (\"apple\", \"banana\", \"cherry\")\t\t\n",
    "|range\t|x = range(6)\t\n",
    "|dict |x = {\"name\" : \"John\", \"age\" : 36}\t\t\n",
    "|set\t|x = {\"apple\", \"banana\", \"cherry\"}\t\n",
    "|frozenset\t|x = frozenset({\"apple\", \"banana\", \"cherry\"})\t\n",
    "|bool\t|x = True\t\n",
    "|bytes\t|x = b\"Hello\"\t\n",
    "|bytearray\t|x = bytearray(5)\t\n",
    "|memoryview |x = memoryview(bytes(5))\t"
   ]
  },
  {
   "cell_type": "markdown",
   "metadata": {},
   "source": [
    "# String\n"
   ]
  },
  {
   "cell_type": "markdown",
   "metadata": {},
   "source": [
    " <div class=\"alert alert-block alert-info\">\n",
    " * Strings are identified as a contiguous set of characters represented in the quotation marks\n",
    " * Substrings can be taken using slice operator **<font color=blue>[ ]</font>** with indexes starting at **<font color=blue>0</font> in the beginning of the string ** and working their way from **<font color=blue>-1</font> at the end **.\n",
    " * Strings can be concatenated using **<font color=blue>+</font>**\n",
    " * Useful string functions: **<font color=blue>strip, lstrip, rstrip, split, lower, upper, find, rfind, replace</font>**"
   ]
  },
  {
   "cell_type": "markdown",
   "metadata": {},
   "source": [
    "#### Create a string"
   ]
  },
  {
   "cell_type": "code",
   "execution_count": 6,
   "metadata": {},
   "outputs": [
    {
     "name": "stdout",
     "output_type": "stream",
     "text": [
      "An empty string: \n",
      "_______________________ \n",
      "\n",
      "This is a non-empty string: Hello World!\n"
     ]
    }
   ],
   "source": [
    "s0 =''               # an empty string\n",
    "s = 'Hello World!'\n",
    "print('An empty string:',s0)\n",
    "print('_______________________ \\n')\n",
    "print('This is a non-empty string:',s)"
   ]
  },
  {
   "cell_type": "markdown",
   "metadata": {},
   "source": [
    "#### Slicing a string"
   ]
  },
  {
   "cell_type": "code",
   "execution_count": 11,
   "metadata": {},
   "outputs": [
    {
     "name": "stdout",
     "output_type": "stream",
     "text": [
      "Hello World!\n",
      "_______________________ \n",
      "\n",
      "H\n",
      "_______________________ \n",
      "\n",
      "llo\n",
      "_______________________ \n",
      "\n",
      "llo World!\n",
      "_______________________ \n",
      "\n",
      "!\n",
      "_______________________ \n",
      "\n",
      "ld!\n",
      "_______________________ \n",
      "\n",
      "HloWr\n"
     ]
    }
   ],
   "source": [
    "print(s)          # Prints complete string\n",
    "print('_______________________ \\n')\n",
    "\n",
    "\n",
    "print(s[0])       # Prints first character of the string\n",
    "print('_______________________ \\n')\n",
    "\n",
    "\n",
    "print(s[2:5])     # Prints characters starting from 3rd to 5th\n",
    "print('_______________________ \\n')\n",
    "\n",
    "\n",
    "print(s[2:] )     # Prints string starting from 3rd character\n",
    "print('_______________________ \\n')\n",
    "\n",
    "\n",
    "print(s[-1])      # Prints the last character \n",
    "print('_______________________ \\n')\n",
    "\n",
    "\n",
    "print(s[-3:])     #get the last three characters\n",
    "print('_______________________ \\n')\n",
    "\n",
    "\n",
    "print(s[0:10:2])   # step-wise slicing; [start,end,step]"
   ]
  },
  {
   "cell_type": "markdown",
   "metadata": {},
   "source": [
    "# List"
   ]
  },
  {
   "cell_type": "markdown",
   "metadata": {},
   "source": [
    "<div class=\"alert alert-info\" style=\"margin: 20px\">\n",
    "    \n",
    "* Items in a list can be of **different data type** e.g. numbers, strings, lists, tuples, dictionaries\n",
    "* Values in a list can be accessed using slice operator **<font color=blue>[ ]</font>** with indexes starting at **<font color=blue>0</font> for the first element ** and working their way from **<font color=blue>-1</font> at the end **.\n",
    "\n",
    "* Lists can be concatenated using **<font color=blue>+</font>**\n",
    "* A string is actually a list of characters without commas!\n"
   ]
  },
  {
   "cell_type": "code",
   "execution_count": 61,
   "metadata": {},
   "outputs": [
    {
     "name": "stdout",
     "output_type": "stream",
     "text": [
      "['welcome to my notebook']\n",
      "________________________ \n",
      "\n",
      "['welcome to my notebook']\n"
     ]
    }
   ],
   "source": [
    "list0 = [ 'welcome', \"to\" , \"my\", 'notebook' ]\n",
    "list1 = ['welcome to my notebook']\n",
    "print(list1)\n",
    "print('________________________ \\n')\n",
    "print(list2)"
   ]
  },
  {
   "cell_type": "markdown",
   "metadata": {},
   "source": [
    "#### length of a lsit"
   ]
  },
  {
   "cell_type": "code",
   "execution_count": 62,
   "metadata": {},
   "outputs": [
    {
     "name": "stdout",
     "output_type": "stream",
     "text": [
      "the length of list0 is 4, and length of list1 is 1\n"
     ]
    }
   ],
   "source": [
    "print(f'the length of list0 is {len(list0)}, and length of list1 is {len(list1)}')"
   ]
  },
  {
   "cell_type": "markdown",
   "metadata": {},
   "source": [
    "#### List indexing"
   ]
  },
  {
   "cell_type": "code",
   "execution_count": 63,
   "metadata": {},
   "outputs": [
    {
     "name": "stdout",
     "output_type": "stream",
     "text": [
      "['welcome', 'to', 'my', 'notebook']\n",
      "_______________________ \n",
      "\n",
      "welcome\n",
      "_______________________ \n",
      "\n",
      "['to', 'my']\n",
      "_______________________ \n",
      "\n",
      "['my', 'notebook']\n",
      "_______________________ \n",
      "\n",
      "notebook\n",
      "_______________________ \n",
      "\n",
      "welcome+to+my+notebook\n",
      "_______________________ \n",
      "\n",
      "['welcome', 'to', 'my', 'notebook', 'welcome to my notebook']\n"
     ]
    }
   ],
   "source": [
    "print (list0)          # Prints complete list\n",
    "print('_______________________ \\n')\n",
    "\n",
    "\n",
    "\n",
    "print (list0[0])       # Prints first element of the list\n",
    "print('_______________________ \\n')\n",
    "\n",
    "\n",
    "\n",
    "print (list0[1:3])     # Prints elements starting from 2nd till 3rd \n",
    "print('_______________________ \\n')\n",
    "\n",
    "\n",
    "\n",
    "print (list0[2:])      # Prints elements starting from 3rd element\n",
    "print('_______________________ \\n')\n",
    "\n",
    "\n",
    "\n",
    "print (list0[-1])      # Prints the last element\n",
    "print('_______________________ \\n')\n",
    "\n",
    "# concatenate elements in a list\n",
    "print (\"+\".join(list0))# join elements into a single string with \" \" as the separator\n",
    "\n",
    "print('_______________________ \\n')\n",
    "# concatenate lists\n",
    "print (list0 + list1)  # Prints concatenated lists"
   ]
  },
  {
   "cell_type": "code",
   "execution_count": 52,
   "metadata": {},
   "outputs": [
    {
     "data": {
      "text/plain": [
       "['My python notebook', 'List indexing']"
      ]
     },
     "execution_count": 52,
     "metadata": {},
     "output_type": "execute_result"
    }
   ],
   "source": [
    "list2 = ['My python notebook','List indexing']\n",
    "list2"
   ]
  },
  {
   "cell_type": "code",
   "execution_count": 60,
   "metadata": {},
   "outputs": [
    {
     "name": "stdout",
     "output_type": "stream",
     "text": [
      "My python notebook\n",
      "python\n"
     ]
    }
   ],
   "source": [
    "print(list2[0])\n",
    "print(list2[0][3:9]) "
   ]
  },
  {
   "cell_type": "markdown",
   "metadata": {},
   "source": [
    "<font color= red> indexing always from 0. and the range of indexing always [start, end)"
   ]
  },
  {
   "cell_type": "markdown",
   "metadata": {},
   "source": [
    "#### append / extend/ remove"
   ]
  },
  {
   "cell_type": "code",
   "execution_count": 39,
   "metadata": {},
   "outputs": [
    {
     "data": {
      "text/plain": [
       "[1, 2, 3, 4, 5, 'a', 'b']"
      ]
     },
     "execution_count": 39,
     "metadata": {},
     "output_type": "execute_result"
    }
   ],
   "source": [
    "list3 = [1,2,3,4,5,'a','b']\n",
    "list3"
   ]
  },
  {
   "cell_type": "code",
   "execution_count": 40,
   "metadata": {},
   "outputs": [
    {
     "name": "stdout",
     "output_type": "stream",
     "text": [
      "[1, 2, 3, 4, 5, 'a', 'b', 'c']\n"
     ]
    }
   ],
   "source": [
    "list3.append(\"c\")     # append \"c\" to the end of the list\n",
    "print (list3)"
   ]
  },
  {
   "cell_type": "code",
   "execution_count": 41,
   "metadata": {},
   "outputs": [
    {
     "name": "stdout",
     "output_type": "stream",
     "text": [
      "[1, 2, 3, 4, 5, 'a', 'b', 'c', 'd']\n"
     ]
    }
   ],
   "source": [
    "list3.extend(\"d\")     # extend \"d\" to the end of the list\n",
    "print (list3)"
   ]
  },
  {
   "cell_type": "markdown",
   "metadata": {},
   "source": [
    "<font color = red> when it comes to a new list, a difference between append and extend will show"
   ]
  },
  {
   "cell_type": "code",
   "execution_count": 42,
   "metadata": {},
   "outputs": [
    {
     "name": "stdout",
     "output_type": "stream",
     "text": [
      "[1, 2, 3, 4, 5, 'a', 'b', 'c', 'd', ['11', '22', '33']]\n"
     ]
    }
   ],
   "source": [
    "list4 = ['11','22','33']\n",
    "list3.append(list4)\n",
    "print (list3)"
   ]
  },
  {
   "cell_type": "code",
   "execution_count": 43,
   "metadata": {},
   "outputs": [
    {
     "name": "stdout",
     "output_type": "stream",
     "text": [
      "[1, 2, 3, 4, 5, 'a', 'b', 'c', 'd', ['11', '22', '33'], 'aa', 'bb', 'cc']\n"
     ]
    }
   ],
   "source": [
    "list5 =['aa','bb','cc']\n",
    "list3.extend(list5) \n",
    "print (list3)"
   ]
  },
  {
   "cell_type": "code",
   "execution_count": 36,
   "metadata": {},
   "outputs": [
    {
     "name": "stdout",
     "output_type": "stream",
     "text": [
      "[1, 2, 3, 4, 5, 'b', 'c', 'd']\n"
     ]
    }
   ],
   "source": [
    "list3.remove(\"a\")     # remove the first \"a\" found in the list from the beginning\n",
    "print (list3) "
   ]
  },
  {
   "cell_type": "markdown",
   "metadata": {},
   "source": [
    "# Tuples "
   ]
  },
  {
   "cell_type": "markdown",
   "metadata": {},
   "source": [
    "<div class=\"alert alert-info\" style=\"margin: 20px\">\n",
    "    \n",
    "* Tuples are enclosed within parentheses **<font color=blue>( )</font>**, while lists are enclosed in **<font color=blue>[ ]</font>**.\n",
    "    \n",
    "* A tuple, once declared, **<font color=blue>cannot be updated (read-only)</font>**, while the elements and size of a list can be changed"
   ]
  },
  {
   "cell_type": "code",
   "execution_count": 103,
   "metadata": {},
   "outputs": [
    {
     "name": "stdout",
     "output_type": "stream",
     "text": [
      "('welcome', 'to', 'my', 'notebook')\n",
      "_______________________ \n",
      "\n",
      "welcome\n",
      "_______________________ \n",
      "\n",
      "('to', 'my')\n",
      "_______________________ \n",
      "\n",
      "('my', 'notebook')\n",
      "_______________________ \n",
      "\n",
      "('welcome', 'to', 'my', 'notebook', 'tuple(mynotebook)', 1994)\n"
     ]
    }
   ],
   "source": [
    "tuple1 = ( 'welcome', \"to\" , \"my\", 'notebook' )\n",
    "tuple2 = ('tuple(mynotebook)', 1994)\n",
    "\n",
    "print (tuple1)          # Prints complete tuple\n",
    "print('_______________________ \\n')\n",
    "\n",
    "\n",
    "print (tuple1[0])       # Prints first element of the tuple\n",
    "print('_______________________ \\n')\n",
    "\n",
    "\n",
    "\n",
    "print (tuple1[1:3])     # Prints elements starting from 2nd till 3rd \n",
    "print('_______________________ \\n')\n",
    "\n",
    "\n",
    "\n",
    "print (tuple1[2:])      # Prints elements starting from 3rd element\n",
    "print('_______________________ \\n')\n",
    "\n",
    "\n",
    "\n",
    "print (tuple1 + tuple2)  # Prints concatenated tuples"
   ]
  },
  {
   "cell_type": "code",
   "execution_count": 84,
   "metadata": {},
   "outputs": [],
   "source": [
    "# Make a list of tuple\n",
    "# e.g. [(1,'Mary'),(2,'Tom'),(3, 'Joe')]\n",
    "\n",
    "ids=(1,2,3)\n",
    "names=('Mary','Tom','Joe')\n"
   ]
  },
  {
   "cell_type": "code",
   "execution_count": 85,
   "metadata": {},
   "outputs": [
    {
     "name": "stdout",
     "output_type": "stream",
     "text": [
      "[(1, 'Mary'), (2, 'Tom'), (3, 'Joe')]\n"
     ]
    }
   ],
   "source": [
    "x=[(ids[0], names[0]),(ids[1], names[1]),(ids[2], names[2]) ]\n",
    "print(x)"
   ]
  },
  {
   "cell_type": "code",
   "execution_count": 86,
   "metadata": {},
   "outputs": [
    {
     "name": "stdout",
     "output_type": "stream",
     "text": [
      "[(1, 'Mary'), (2, 'Tom'), (3, 'Joe')]\n"
     ]
    }
   ],
   "source": [
    "# A efficient way: zip function - combine lists element-wise\n",
    "# zip function in python 3 returns an iterator\n",
    "# use list function to convert an iterator to list\n",
    "zipped=list(zip(ids, names))   \n",
    "print(zipped)\n",
    "\n"
   ]
  },
  {
   "cell_type": "code",
   "execution_count": 98,
   "metadata": {},
   "outputs": [
    {
     "name": "stdout",
     "output_type": "stream",
     "text": [
      "(1, 2, 3) ('Mary', 'Tom', 'Joe')\n"
     ]
    }
   ],
   "source": [
    "# how to convert zipped back to unzipped? zip itself can also be an unzipped\n",
    "idx, names = list(zip(*zipped))\n",
    "print(idx, names)"
   ]
  },
  {
   "cell_type": "markdown",
   "metadata": {},
   "source": [
    "# Dictionary"
   ]
  },
  {
   "cell_type": "markdown",
   "metadata": {},
   "source": [
    "<div class=\"alert alert-info\" style=\"margin: 20px\">\n",
    "\n",
    "*  A dictionary is made of key-value pairs, e.g. {1:'Mary Joe', 2:'David Johnson'} \n",
    "*  Keys are **unique**\n",
    "*  A dictionary is enclosed by **curly braces { }** \n",
    "*  Values can be assigned and accessed using **square braces [ ]**\n",
    "*  Keys are usually **numbers or strings**, but values can be of any python data types, e.g. numbers, strings, lists, tuples, dictionaries"
   ]
  },
  {
   "cell_type": "code",
   "execution_count": 101,
   "metadata": {},
   "outputs": [
    {
     "data": {
      "text/plain": [
       "{'one': 'This is one', 2: 'This is two'}"
      ]
     },
     "execution_count": 101,
     "metadata": {},
     "output_type": "execute_result"
    }
   ],
   "source": [
    "dict1 = {}                     # define an empty dictionary\n",
    "\n",
    "dict1['one'] = \"This is one\"   # add  key-value pairs to the dictionary\n",
    "dict1[2]     = \"This is two\"\n",
    "\n",
    "dict1"
   ]
  },
  {
   "cell_type": "code",
   "execution_count": 102,
   "metadata": {},
   "outputs": [
    {
     "data": {
      "text/plain": [
       "{1: 'Mary Joe', 2: 'David Johnson'}"
      ]
     },
     "execution_count": 102,
     "metadata": {},
     "output_type": "execute_result"
    }
   ],
   "source": [
    "dict2 = {1:'Mary Joe', 2:'David Johnson'}  # a more compact way to define a dictionary\n",
    "dict2"
   ]
  },
  {
   "cell_type": "code",
   "execution_count": 105,
   "metadata": {},
   "outputs": [
    {
     "name": "stdout",
     "output_type": "stream",
     "text": [
      "This is one\n",
      "_______________________ \n",
      "\n",
      "This is two\n",
      "_______________________ \n",
      "\n",
      "{1: 'Mary Joe', 2: 'David Johnson'}\n",
      "_______________________ \n",
      "\n",
      "dict_keys([1, 2])\n",
      "_______________________ \n",
      "\n",
      "dict_values(['Mary Joe', 'David Johnson'])\n",
      "_______________________ \n",
      "\n"
     ]
    }
   ],
   "source": [
    "print (dict1['one'])       # Prints value for 'one' key\n",
    "print('_______________________ \\n')\n",
    "\n",
    "\n",
    "\n",
    "print (dict1[2])           # Prints value for 2 key\n",
    "print('_______________________ \\n')\n",
    "\n",
    "\n",
    "\n",
    "print (dict2)              # Prints complete dictionary\n",
    "print('_______________________ \\n')\n",
    "\n",
    "\n",
    "\n",
    "print (dict2.keys())       # Prints all the keys\n",
    "print('_______________________ \\n')\n",
    "\n",
    "\n",
    "\n",
    "print (dict2.values())     # Prints all the values\n",
    "print('_______________________ \\n')\n",
    "\n"
   ]
  },
  {
   "cell_type": "code",
   "execution_count": 106,
   "metadata": {},
   "outputs": [
    {
     "name": "stdout",
     "output_type": "stream",
     "text": [
      "[(1, 'Mary Joe'), (2, 'David Johnson')]\n"
     ]
    }
   ],
   "source": [
    "print (list(dict2.items()) ) # print key-value pair as a list of tuples"
   ]
  },
  {
   "cell_type": "code",
   "execution_count": null,
   "metadata": {},
   "outputs": [],
   "source": []
  },
  {
   "cell_type": "code",
   "execution_count": null,
   "metadata": {},
   "outputs": [],
   "source": []
  },
  {
   "cell_type": "code",
   "execution_count": null,
   "metadata": {},
   "outputs": [],
   "source": []
  },
  {
   "cell_type": "code",
   "execution_count": null,
   "metadata": {},
   "outputs": [],
   "source": []
  },
  {
   "cell_type": "code",
   "execution_count": null,
   "metadata": {},
   "outputs": [],
   "source": []
  },
  {
   "cell_type": "code",
   "execution_count": null,
   "metadata": {},
   "outputs": [],
   "source": []
  }
 ],
 "metadata": {
  "kernelspec": {
   "display_name": "Python 3",
   "language": "python",
   "name": "python3"
  },
  "language_info": {
   "codemirror_mode": {
    "name": "ipython",
    "version": 3
   },
   "file_extension": ".py",
   "mimetype": "text/x-python",
   "name": "python",
   "nbconvert_exporter": "python",
   "pygments_lexer": "ipython3",
   "version": "3.7.1"
  }
 },
 "nbformat": 4,
 "nbformat_minor": 2
}
